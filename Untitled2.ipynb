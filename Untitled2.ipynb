{
 "cells": [
  {
   "cell_type": "code",
   "execution_count": 1,
   "id": "iraqi-engine",
   "metadata": {},
   "outputs": [],
   "source": [
    "import interactive\n",
    "import importlib\n",
    "from hypo import preds\n",
    "importlib.reload(interactive)\n",
    "importlib.reload(preds)\n",
    "from interactive import *\n",
    "import sys\n",
    "sys.path.insert(0, './models')\n",
    "from transformers.model import *"
   ]
  },
  {
   "cell_type": "code",
   "execution_count": 2,
   "id": "intense-substitute",
   "metadata": {},
   "outputs": [
    {
     "name": "stderr",
     "output_type": "stream",
     "text": [
      "/lingo/abau/language-models/interactive.py:49: VisibleDeprecationWarning: Creating an ndarray from ragged nested sequences (which is a list-or-tuple of lists-or-tuples-or ndarrays with different lengths or shapes) is deprecated. If you meant to do this, you must specify 'dtype=object' when creating the ndarray\n",
      "  self.trunc_subpool = np.random.choice(self.trunc_pool, 200, replace=False)\n"
     ]
    }
   ],
   "source": [
    "finnish_bpe_context = TestingContext('preprocess/finnish-model.model',\n",
    "                      '/raid/lingo/abau/lm/finnish-bpe-corpus',\n",
    "                      '/raid/lingo/abau/lm/finnish-bpe-bigrams.pt', vocab_type='bpe')\n",
    "english_bpe_context = TestingContext('preprocess/english-spm.model',\n",
    "      '/raid/lingo/abau/lm/20k-bpe-corpus',\n",
    "      '/raid/lingo/abau/lm/20k-bpe-bigrams.pt', vocab_type='bpe')\n",
    "chinese_context = TestingContext('/raid/lingo/abau/lm/chinese-vocab.pt',\n",
    "                      '/raid/lingo/abau/lm/chinese-corpus',\n",
    "                      '/raid/lingo/abau/lm/chinese-bigrams.pt')"
   ]
  },
  {
   "cell_type": "code",
   "execution_count": 3,
   "id": "structured-things",
   "metadata": {},
   "outputs": [],
   "source": [
    "english_context = TestingContext('/raid/lingo/abau/lm/vocab.en.1m.pt',\n",
    "                      '/raid/lingo/abau/lm/training-monolingual/news.2007.en.1m.tokenized',\n",
    "                      '/raid/lingo/abau/lm/training-monolingual/bigrams.en.1m.pt')\n",
    "small_english_context = TestingContext('/raid/lingo/abau/lm/training-monolingual/20k-vocab.pt',\n",
    "                      '/raid/lingo/abau/lm/training-monolingual/news.2007.en.20k.tokenized',\n",
    "                      '/raid/lingo/abau/lm/small-bigrams.pt')\n",
    "finnish_context = TestingContext('/raid/lingo/abau/lm/finnish-vocab.pt',\n",
    "                      '/raid/lingo/abau/lm/finnish-corpus',\n",
    "                      '/raid/lingo/abau/lm/finnish-bigrams.pt')\n",
    "chinese_context = TestingContext('/raid/lingo/abau/lm/chinese-vocab.pt',\n",
    "                      '/raid/lingo/abau/lm/chinese-corpus',\n",
    "                      '/raid/lingo/abau/lm/chinese-bigrams.pt')\n",
    "turkish_context = TestingContext('/raid/lingo/abau/lm/turkish-vocab.pt',\n",
    "                      '/raid/lingo/abau/lm/turkish-corpus',\n",
    "                      '/raid/lingo/abau/lm/turkish-bigrams.pt')"
   ]
  },
  {
   "cell_type": "code",
   "execution_count": 4,
   "id": "altered-absolute",
   "metadata": {},
   "outputs": [],
   "source": [
    "small_english_context = TestingContext('/raid/lingo/abau/lm/training-monolingual/20k-vocab.pt',\n",
    "                      '/raid/lingo/abau/lm/training-monolingual/news.2007.en.20k.tokenized',\n",
    "                      '/raid/lingo/abau/lm/small-bigrams.pt')\n",
    "finnish_context = TestingContext('/raid/lingo/abau/lm/finnish-vocab.pt',\n",
    "                      '/raid/lingo/abau/lm/finnish-corpus',\n",
    "                      '/raid/lingo/abau/lm/finnish-bigrams.pt')"
   ]
  },
  {
   "cell_type": "code",
   "execution_count": 5,
   "id": "eligible-schema",
   "metadata": {},
   "outputs": [],
   "source": [
    "finnish_bpe_context = TestingContext('preprocess/finnish-model.model',\n",
    "                      '/raid/lingo/abau/lm/finnish-bpe-corpus',\n",
    "                      '/raid/lingo/abau/lm/finnish-bpe-bigrams.pt', vocab_type='bpe')"
   ]
  },
  {
   "cell_type": "code",
   "execution_count": 6,
   "id": "naughty-sender",
   "metadata": {},
   "outputs": [],
   "source": [
    "english_bpe_context = TestingContext('preprocess/english-spm.model',\n",
    "      '/raid/lingo/abau/lm/20k-bpe-corpus',\n",
    "      '/raid/lingo/abau/lm/20k-bpe-bigrams.pt', vocab_type='bpe')"
   ]
  },
  {
   "cell_type": "code",
   "execution_count": 10,
   "id": "devoted-identity",
   "metadata": {},
   "outputs": [],
   "source": [
    "subst_english_bpe = [\n",
    "    load_best_model_from('/raid/lingo/abau/lm/monolingual-models/20k-bpe-subst-%s-1' % s)\n",
    "    for s in ['0','0.25', '0.5', '0.75']\n",
    "]\n",
    "subst_english_bpe_copycats = [\n",
    "    load_best_model_from('/raid/lingo/abau/lm/monolingual-models/20k-bpe-subst-%s-2' % s)\n",
    "    for s in ['0','0.25', '0.5', '0.75']\n",
    "]"
   ]
  },
  {
   "cell_type": "code",
   "execution_count": 9,
   "id": "cross-venue",
   "metadata": {},
   "outputs": [],
   "source": [
    "state_english_bpe = [\n",
    "    load_best_model_from('/raid/lingo/abau/lm/monolingual-models/20k-bpe-state-%s-1' % s)\n",
    "    for s in ['0','0.25', '0.5', '0.75']\n",
    "]\n",
    "state_english_bpe_copycats = [\n",
    "    load_best_model_from('/raid/lingo/abau/lm/monolingual-models/20k-bpe-state-%s-2' % s)\n",
    "    for s in ['0','0.25', '0.5', '0.75']\n",
    "]"
   ]
  },
  {
   "cell_type": "code",
   "execution_count": 4,
   "id": "danish-nightlife",
   "metadata": {},
   "outputs": [
    {
     "name": "stderr",
     "output_type": "stream",
     "text": [
      "/lingo/abau/language-models/interactive.py:71: UserWarning: This overload of nonzero is deprecated:\n",
      "\tnonzero()\n",
      "Consider using one of the following signatures instead:\n",
      "\tnonzero(*, bool as_tuple) (Triggered internally at  /opt/conda/conda-bld/pytorch_1607370117127/work/torch/csrc/utils/python_arg_parser.cpp:882.)\n",
      "  indices = (predictions > PROB_THRESH)[2:SEL_CUTOFF].nonzero()\n"
     ]
    }
   ],
   "source": [
    "subpool = english_bpe_context.generate_surprises(subst_english_bpe[0])"
   ]
  },
  {
   "cell_type": "code",
   "execution_count": 25,
   "id": "asian-receiver",
   "metadata": {},
   "outputs": [],
   "source": [
    "subst_finnish_bpe = [\n",
    "    load_best_model_from('/raid/lingo/abau/lm/monolingual-models/finnish-bpe-subst-%s-1' % s)\n",
    "    for s in ['0','0.25', '0.5', '0.75']\n",
    "]\n",
    "subst_finnish_bpe_copycats = [\n",
    "    load_best_model_from('/raid/lingo/abau/lm/monolingual-models/finnish-bpe-subst-%s-2' % s)\n",
    "    for s in ['0','0.25', '0.5', '0.75']\n",
    "]"
   ]
  },
  {
   "cell_type": "code",
   "execution_count": 26,
   "id": "loose-handbook",
   "metadata": {},
   "outputs": [],
   "source": [
    "state_finnish_bpe = [\n",
    "    load_best_model_from('/raid/lingo/abau/lm/monolingual-models/finnish-bpe-state-%s-1' % s)\n",
    "    for s in ['0','0.25', '0.5', '0.75']\n",
    "]\n",
    "state_finnish_bpe_copycats = [\n",
    "    load_best_model_from('/raid/lingo/abau/lm/monolingual-models/finnish-bpe-state-%s-2' % s)\n",
    "    for s in ['0','0.25', '0.5', '0.75']\n",
    "]"
   ]
  },
  {
   "cell_type": "code",
   "execution_count": 55,
   "id": "patient-custody",
   "metadata": {},
   "outputs": [],
   "source": [
    "bpe_subpool = finnish_bpe_context.generate_surprises(subst_finnish_bpe_copycats[0])"
   ]
  },
  {
   "cell_type": "code",
   "execution_count": 92,
   "id": "controlling-tunisia",
   "metadata": {},
   "outputs": [
    {
     "data": {
      "application/vnd.jupyter.widget-view+json": {
       "model_id": "e9c86e29d13d4152a5e7f62c658e8b2b",
       "version_major": 2,
       "version_minor": 0
      },
      "text/plain": [
       "HBox(children=(HTML(value=''), FloatProgress(value=0.0, max=200.0), HTML(value='')))"
      ]
     },
     "metadata": {},
     "output_type": "display_data"
    },
    {
     "name": "stdout",
     "output_type": "stream",
     "text": [
      "\n"
     ]
    },
    {
     "data": {
      "application/vnd.jupyter.widget-view+json": {
       "model_id": "e82884aca7764f15be610ee4d49c3103",
       "version_major": 2,
       "version_minor": 0
      },
      "text/plain": [
       "HBox(children=(HTML(value=''), FloatProgress(value=0.0, max=200.0), HTML(value='')))"
      ]
     },
     "metadata": {},
     "output_type": "display_data"
    },
    {
     "name": "stdout",
     "output_type": "stream",
     "text": [
      "\n"
     ]
    },
    {
     "data": {
      "application/vnd.jupyter.widget-view+json": {
       "model_id": "74898a434a5448fd9c54f9f35d06876d",
       "version_major": 2,
       "version_minor": 0
      },
      "text/plain": [
       "HBox(children=(HTML(value=''), FloatProgress(value=0.0, max=200.0), HTML(value='')))"
      ]
     },
     "metadata": {},
     "output_type": "display_data"
    },
    {
     "name": "stdout",
     "output_type": "stream",
     "text": [
      "\n"
     ]
    },
    {
     "data": {
      "application/vnd.jupyter.widget-view+json": {
       "model_id": "a34154047fdc41f491d94c8ada59c8d5",
       "version_major": 2,
       "version_minor": 0
      },
      "text/plain": [
       "HBox(children=(HTML(value=''), FloatProgress(value=0.0, max=200.0), HTML(value='')))"
      ]
     },
     "metadata": {},
     "output_type": "display_data"
    },
    {
     "name": "stdout",
     "output_type": "stream",
     "text": [
      "\n"
     ]
    },
    {
     "data": {
      "application/vnd.jupyter.widget-view+json": {
       "model_id": "9c8407680ad341b7a2add102b0750c3b",
       "version_major": 2,
       "version_minor": 0
      },
      "text/plain": [
       "HBox(children=(HTML(value=''), FloatProgress(value=0.0, max=200.0), HTML(value='')))"
      ]
     },
     "metadata": {},
     "output_type": "display_data"
    },
    {
     "name": "stdout",
     "output_type": "stream",
     "text": [
      "\n"
     ]
    },
    {
     "data": {
      "application/vnd.jupyter.widget-view+json": {
       "model_id": "6258c7d85f094224ae22acd7ddaa85da",
       "version_major": 2,
       "version_minor": 0
      },
      "text/plain": [
       "HBox(children=(HTML(value=''), FloatProgress(value=0.0, max=200.0), HTML(value='')))"
      ]
     },
     "metadata": {},
     "output_type": "display_data"
    },
    {
     "name": "stdout",
     "output_type": "stream",
     "text": [
      "\n"
     ]
    },
    {
     "data": {
      "application/vnd.jupyter.widget-view+json": {
       "model_id": "02fd2a5831154285836744d467f5ad8c",
       "version_major": 2,
       "version_minor": 0
      },
      "text/plain": [
       "HBox(children=(HTML(value=''), FloatProgress(value=0.0, max=200.0), HTML(value='')))"
      ]
     },
     "metadata": {},
     "output_type": "display_data"
    },
    {
     "name": "stdout",
     "output_type": "stream",
     "text": [
      "\n"
     ]
    },
    {
     "data": {
      "application/vnd.jupyter.widget-view+json": {
       "model_id": "9947c5e5d29e4d9880e3c43bd1bfb85d",
       "version_major": 2,
       "version_minor": 0
      },
      "text/plain": [
       "HBox(children=(HTML(value=''), FloatProgress(value=0.0, max=200.0), HTML(value='')))"
      ]
     },
     "metadata": {},
     "output_type": "display_data"
    },
    {
     "name": "stdout",
     "output_type": "stream",
     "text": [
      "\n"
     ]
    },
    {
     "data": {
      "application/vnd.jupyter.widget-view+json": {
       "model_id": "641241665c2e486397113a4f5e3e653d",
       "version_major": 2,
       "version_minor": 0
      },
      "text/plain": [
       "HBox(children=(HTML(value=''), FloatProgress(value=0.0, max=200.0), HTML(value='')))"
      ]
     },
     "metadata": {},
     "output_type": "display_data"
    },
    {
     "name": "stdout",
     "output_type": "stream",
     "text": [
      "\n"
     ]
    },
    {
     "data": {
      "application/vnd.jupyter.widget-view+json": {
       "model_id": "9338c0da9cab4922a177cac8b1b901e3",
       "version_major": 2,
       "version_minor": 0
      },
      "text/plain": [
       "HBox(children=(HTML(value=''), FloatProgress(value=0.0, max=200.0), HTML(value='')))"
      ]
     },
     "metadata": {},
     "output_type": "display_data"
    },
    {
     "name": "stdout",
     "output_type": "stream",
     "text": [
      "\n"
     ]
    },
    {
     "data": {
      "application/vnd.jupyter.widget-view+json": {
       "model_id": "ea34557a53644bd688694eb9ccea5362",
       "version_major": 2,
       "version_minor": 0
      },
      "text/plain": [
       "HBox(children=(HTML(value=''), FloatProgress(value=0.0, max=200.0), HTML(value='')))"
      ]
     },
     "metadata": {},
     "output_type": "display_data"
    },
    {
     "name": "stdout",
     "output_type": "stream",
     "text": [
      "\n"
     ]
    },
    {
     "data": {
      "application/vnd.jupyter.widget-view+json": {
       "model_id": "3ba64a246b6942fea855f6f2313e540c",
       "version_major": 2,
       "version_minor": 0
      },
      "text/plain": [
       "HBox(children=(HTML(value=''), FloatProgress(value=0.0, max=200.0), HTML(value='')))"
      ]
     },
     "metadata": {},
     "output_type": "display_data"
    },
    {
     "name": "stdout",
     "output_type": "stream",
     "text": [
      "\n"
     ]
    },
    {
     "data": {
      "application/vnd.jupyter.widget-view+json": {
       "model_id": "d41e6942c8dd4ecfae3af73c671a5b7e",
       "version_major": 2,
       "version_minor": 0
      },
      "text/plain": [
       "HBox(children=(HTML(value=''), FloatProgress(value=0.0, max=200.0), HTML(value='')))"
      ]
     },
     "metadata": {},
     "output_type": "display_data"
    },
    {
     "name": "stdout",
     "output_type": "stream",
     "text": [
      "\n"
     ]
    },
    {
     "data": {
      "application/vnd.jupyter.widget-view+json": {
       "model_id": "e3b4c38c8a55446d9730cbcea9d52504",
       "version_major": 2,
       "version_minor": 0
      },
      "text/plain": [
       "HBox(children=(HTML(value=''), FloatProgress(value=0.0, max=200.0), HTML(value='')))"
      ]
     },
     "metadata": {},
     "output_type": "display_data"
    },
    {
     "name": "stdout",
     "output_type": "stream",
     "text": [
      "\n"
     ]
    },
    {
     "data": {
      "application/vnd.jupyter.widget-view+json": {
       "model_id": "06c89a5fce5e4b4183b75fd0276ea2b7",
       "version_major": 2,
       "version_minor": 0
      },
      "text/plain": [
       "HBox(children=(HTML(value=''), FloatProgress(value=0.0, max=200.0), HTML(value='')))"
      ]
     },
     "metadata": {},
     "output_type": "display_data"
    },
    {
     "name": "stdout",
     "output_type": "stream",
     "text": [
      "\n"
     ]
    },
    {
     "data": {
      "application/vnd.jupyter.widget-view+json": {
       "model_id": "a0c40a966c6d4b408fcf2a206f1d5870",
       "version_major": 2,
       "version_minor": 0
      },
      "text/plain": [
       "HBox(children=(HTML(value=''), FloatProgress(value=0.0, max=200.0), HTML(value='')))"
      ]
     },
     "metadata": {},
     "output_type": "display_data"
    },
    {
     "name": "stdout",
     "output_type": "stream",
     "text": [
      "\n"
     ]
    },
    {
     "data": {
      "application/vnd.jupyter.widget-view+json": {
       "model_id": "37492f01d6d4482085bf61a651a48245",
       "version_major": 2,
       "version_minor": 0
      },
      "text/plain": [
       "HBox(children=(HTML(value=''), FloatProgress(value=0.0, max=200.0), HTML(value='')))"
      ]
     },
     "metadata": {},
     "output_type": "display_data"
    },
    {
     "name": "stdout",
     "output_type": "stream",
     "text": [
      "\n"
     ]
    },
    {
     "data": {
      "application/vnd.jupyter.widget-view+json": {
       "model_id": "3959da54f4e045968e86fe8e476bc9e5",
       "version_major": 2,
       "version_minor": 0
      },
      "text/plain": [
       "HBox(children=(HTML(value=''), FloatProgress(value=0.0, max=200.0), HTML(value='')))"
      ]
     },
     "metadata": {},
     "output_type": "display_data"
    },
    {
     "name": "stdout",
     "output_type": "stream",
     "text": [
      "\n"
     ]
    },
    {
     "data": {
      "application/vnd.jupyter.widget-view+json": {
       "model_id": "7d25d970fc474220bd02e673b02f0831",
       "version_major": 2,
       "version_minor": 0
      },
      "text/plain": [
       "HBox(children=(HTML(value=''), FloatProgress(value=0.0, max=200.0), HTML(value='')))"
      ]
     },
     "metadata": {},
     "output_type": "display_data"
    },
    {
     "name": "stdout",
     "output_type": "stream",
     "text": [
      "\n"
     ]
    },
    {
     "data": {
      "application/vnd.jupyter.widget-view+json": {
       "model_id": "05e363e12fc44ce89936e5b23aaeffac",
       "version_major": 2,
       "version_minor": 0
      },
      "text/plain": [
       "HBox(children=(HTML(value=''), FloatProgress(value=0.0, max=200.0), HTML(value='')))"
      ]
     },
     "metadata": {},
     "output_type": "display_data"
    },
    {
     "name": "stdout",
     "output_type": "stream",
     "text": [
      "\n"
     ]
    },
    {
     "data": {
      "application/vnd.jupyter.widget-view+json": {
       "model_id": "3d219737ceeb4e1e88d83a2cc374ea47",
       "version_major": 2,
       "version_minor": 0
      },
      "text/plain": [
       "HBox(children=(HTML(value=''), FloatProgress(value=0.0, max=200.0), HTML(value='')))"
      ]
     },
     "metadata": {},
     "output_type": "display_data"
    },
    {
     "name": "stdout",
     "output_type": "stream",
     "text": [
      "\n"
     ]
    },
    {
     "data": {
      "application/vnd.jupyter.widget-view+json": {
       "model_id": "32006004826c4ab9bbf878b45c2be958",
       "version_major": 2,
       "version_minor": 0
      },
      "text/plain": [
       "HBox(children=(HTML(value=''), FloatProgress(value=0.0, max=200.0), HTML(value='')))"
      ]
     },
     "metadata": {},
     "output_type": "display_data"
    },
    {
     "name": "stdout",
     "output_type": "stream",
     "text": [
      "\n"
     ]
    },
    {
     "data": {
      "application/vnd.jupyter.widget-view+json": {
       "model_id": "7e45c05893304496be6cff559670ad0f",
       "version_major": 2,
       "version_minor": 0
      },
      "text/plain": [
       "HBox(children=(HTML(value=''), FloatProgress(value=0.0, max=200.0), HTML(value='')))"
      ]
     },
     "metadata": {},
     "output_type": "display_data"
    },
    {
     "name": "stdout",
     "output_type": "stream",
     "text": [
      "\n"
     ]
    },
    {
     "data": {
      "application/vnd.jupyter.widget-view+json": {
       "model_id": "0a8ed1ef48a04b80b7823ba18cff1e76",
       "version_major": 2,
       "version_minor": 0
      },
      "text/plain": [
       "HBox(children=(HTML(value=''), FloatProgress(value=0.0, max=200.0), HTML(value='')))"
      ]
     },
     "metadata": {},
     "output_type": "display_data"
    },
    {
     "name": "stdout",
     "output_type": "stream",
     "text": [
      "\n"
     ]
    },
    {
     "data": {
      "application/vnd.jupyter.widget-view+json": {
       "model_id": "aca796e82ed04fde92f98736b3d3dfd4",
       "version_major": 2,
       "version_minor": 0
      },
      "text/plain": [
       "HBox(children=(HTML(value=''), FloatProgress(value=0.0, max=200.0), HTML(value='')))"
      ]
     },
     "metadata": {},
     "output_type": "display_data"
    },
    {
     "name": "stdout",
     "output_type": "stream",
     "text": [
      "\n"
     ]
    },
    {
     "data": {
      "application/vnd.jupyter.widget-view+json": {
       "model_id": "c7bd9a247e7a44e1ad36d008d8385000",
       "version_major": 2,
       "version_minor": 0
      },
      "text/plain": [
       "HBox(children=(HTML(value=''), FloatProgress(value=0.0, max=200.0), HTML(value='')))"
      ]
     },
     "metadata": {},
     "output_type": "display_data"
    },
    {
     "name": "stdout",
     "output_type": "stream",
     "text": [
      "\n"
     ]
    },
    {
     "data": {
      "application/vnd.jupyter.widget-view+json": {
       "model_id": "53006db64d094635b04d190dae6522d2",
       "version_major": 2,
       "version_minor": 0
      },
      "text/plain": [
       "HBox(children=(HTML(value=''), FloatProgress(value=0.0, max=200.0), HTML(value='')))"
      ]
     },
     "metadata": {},
     "output_type": "display_data"
    },
    {
     "name": "stdout",
     "output_type": "stream",
     "text": [
      "\n"
     ]
    },
    {
     "data": {
      "application/vnd.jupyter.widget-view+json": {
       "model_id": "8947f186beba4344953a94bce9d01dde",
       "version_major": 2,
       "version_minor": 0
      },
      "text/plain": [
       "HBox(children=(HTML(value=''), FloatProgress(value=0.0, max=200.0), HTML(value='')))"
      ]
     },
     "metadata": {},
     "output_type": "display_data"
    },
    {
     "name": "stdout",
     "output_type": "stream",
     "text": [
      "\n"
     ]
    },
    {
     "data": {
      "application/vnd.jupyter.widget-view+json": {
       "model_id": "b28fe4f646b742169f75a8529d94665b",
       "version_major": 2,
       "version_minor": 0
      },
      "text/plain": [
       "HBox(children=(HTML(value=''), FloatProgress(value=0.0, max=200.0), HTML(value='')))"
      ]
     },
     "metadata": {},
     "output_type": "display_data"
    },
    {
     "name": "stdout",
     "output_type": "stream",
     "text": [
      "\n"
     ]
    },
    {
     "data": {
      "application/vnd.jupyter.widget-view+json": {
       "model_id": "a7c77644fc304201bfb5e0c8dc6b5d61",
       "version_major": 2,
       "version_minor": 0
      },
      "text/plain": [
       "HBox(children=(HTML(value=''), FloatProgress(value=0.0, max=200.0), HTML(value='')))"
      ]
     },
     "metadata": {},
     "output_type": "display_data"
    },
    {
     "name": "stdout",
     "output_type": "stream",
     "text": [
      "\n"
     ]
    },
    {
     "data": {
      "application/vnd.jupyter.widget-view+json": {
       "model_id": "a5b9c64ca29f4be29f126eb81c31f9eb",
       "version_major": 2,
       "version_minor": 0
      },
      "text/plain": [
       "HBox(children=(HTML(value=''), FloatProgress(value=0.0, max=200.0), HTML(value='')))"
      ]
     },
     "metadata": {},
     "output_type": "display_data"
    },
    {
     "name": "stdout",
     "output_type": "stream",
     "text": [
      "\n"
     ]
    },
    {
     "data": {
      "application/vnd.jupyter.widget-view+json": {
       "model_id": "e99f693051ec45f1ba8d6d003102d131",
       "version_major": 2,
       "version_minor": 0
      },
      "text/plain": [
       "HBox(children=(HTML(value=''), FloatProgress(value=0.0, max=200.0), HTML(value='')))"
      ]
     },
     "metadata": {},
     "output_type": "display_data"
    },
    {
     "name": "stdout",
     "output_type": "stream",
     "text": [
      "\n"
     ]
    }
   ],
   "source": [
    "with torch.no_grad():\n",
    "    subst_finnish_bpe_results = [ finnish_bpe_context.all_hyp_for_model(f1, copycat_model=f2, gold_model = subst_finnish_bpe_copycats[0]) for (f1, f2) in zip(subst_finnish_bpe, subst_finnish_bpe_copycats) ]\n",
    "    state_finnish_bpe_results = [ finnish_bpe_context.all_hyp_for_model(f1, copycat_model=f2, gold_model = state_finnish_bpe_copycats[0]) for (f1, f2) in zip(state_finnish_bpe, state_finnish_bpe_copycats) ]\n",
    "    #subst_english_bpe_results = [ english_bpe_context.all_hyp_for_model(f1, copycat_model=f2, gold_model = subst_english_bpe_copycats[0]) for (f1, f2) in zip(subst_english, subst_english_bpe_copycats) ]\n",
    "    #state_english_bpe_results = [ english_bpe_context.all_hyp_for_model(f1, copycat_model=f2, gold_model = state_english_bpe_copycats[0]) for (f1, f2) in zip(state_english, state_english_bpe_copycats) ]"
   ]
  },
  {
   "cell_type": "code",
   "execution_count": 93,
   "id": "danish-style",
   "metadata": {},
   "outputs": [],
   "source": [
    "grid_data = {\n",
    "    'finnish-subst': {hyp: [float(k[hyp]) for k in subst_finnish_bpe_results] for hyp in subst_finnish_bpe_results[0]},\n",
    "    'finnish-state': {hyp: [float(k[hyp]) for k in state_finnish_bpe_results] for hyp in state_finnish_bpe_results[0]},\n",
    "    'english-state': {hyp: [float(k[hyp]) for k in state_english_results] for hyp in state_english_results[0]},\n",
    "    'english-subst': {hyp: [float(k[hyp]) for k in subst_english_results] for hyp in subst_english_results[0]}\n",
    "}"
   ]
  },
  {
   "cell_type": "code",
   "execution_count": 94,
   "id": "infectious-return",
   "metadata": {},
   "outputs": [],
   "source": [
    "import json\n",
    "json.dump(grid_data, open('bpe-noise-grid-data.json', 'w'))"
   ]
  },
  {
   "cell_type": "code",
   "execution_count": 288,
   "id": "excess-montreal",
   "metadata": {},
   "outputs": [],
   "source": [
    "french_context = TestingContext('/raid/lingo/abau/lm/french-vocab.pt',\n",
    "                      '/raid/lingo/abau/lm/french-corpus',\n",
    "                      '/raid/lingo/abau/lm/french-bigrams.pt')"
   ]
  },
  {
   "cell_type": "code",
   "execution_count": 290,
   "id": "piano-player",
   "metadata": {},
   "outputs": [
    {
     "data": {
      "application/vnd.jupyter.widget-view+json": {
       "model_id": "0f2b6e20e1264225ae4e300692041402",
       "version_major": 2,
       "version_minor": 0
      },
      "text/plain": [
       "HBox(children=(HTML(value=''), FloatProgress(value=0.0, max=200.0), HTML(value='')))"
      ]
     },
     "metadata": {},
     "output_type": "display_data"
    },
    {
     "name": "stdout",
     "output_type": "stream",
     "text": [
      "\n"
     ]
    },
    {
     "data": {
      "application/vnd.jupyter.widget-view+json": {
       "model_id": "2c13beaa7f1e486186b2d959cd98b083",
       "version_major": 2,
       "version_minor": 0
      },
      "text/plain": [
       "HBox(children=(HTML(value=''), FloatProgress(value=0.0, max=200.0), HTML(value='')))"
      ]
     },
     "metadata": {},
     "output_type": "display_data"
    },
    {
     "name": "stdout",
     "output_type": "stream",
     "text": [
      "\n"
     ]
    },
    {
     "data": {
      "application/vnd.jupyter.widget-view+json": {
       "model_id": "249e6fa3779548fda5b01c01ab0c5843",
       "version_major": 2,
       "version_minor": 0
      },
      "text/plain": [
       "HBox(children=(HTML(value=''), FloatProgress(value=0.0, max=200.0), HTML(value='')))"
      ]
     },
     "metadata": {},
     "output_type": "display_data"
    },
    {
     "name": "stdout",
     "output_type": "stream",
     "text": [
      "\n"
     ]
    },
    {
     "data": {
      "application/vnd.jupyter.widget-view+json": {
       "model_id": "ed4e38c6e15f4f54bf53ea12b37c3498",
       "version_major": 2,
       "version_minor": 0
      },
      "text/plain": [
       "HBox(children=(HTML(value=''), FloatProgress(value=0.0, max=200.0), HTML(value='')))"
      ]
     },
     "metadata": {},
     "output_type": "display_data"
    },
    {
     "name": "stdout",
     "output_type": "stream",
     "text": [
      "\n"
     ]
    },
    {
     "data": {
      "text/plain": [
       "{'unigram': tensor(0.6762, grad_fn=<DivBackward0>),\n",
       " 'bigram': tensor(0.5670, grad_fn=<DivBackward0>),\n",
       " 'outedge': tensor(0.6438, grad_fn=<DivBackward0>),\n",
       " 'ignore': tensor(0.7339, grad_fn=<DivBackward0>),\n",
       " 'add_interp': tensor(0.5057, grad_fn=<DivBackward0>),\n",
       " 'mul_interp': tensor(0.4737, grad_fn=<DivBackward0>),\n",
       " 'copycat': tensor(0.3133, grad_fn=<DivBackward0>)}"
      ]
     },
     "execution_count": 290,
     "metadata": {},
     "output_type": "execute_result"
    }
   ],
   "source": [
    "french_context.all_hyp_for_model(fr1, copycat_model=fr2)"
   ]
  },
  {
   "cell_type": "code",
   "execution_count": 206,
   "id": "chinese-absolute",
   "metadata": {},
   "outputs": [],
   "source": [
    "sm1, sm2 = load_best_model_from('/raid/lingo/abau/lm/monolingual-models/small-en.lr4-1'), load_best_model_from('/raid/lingo/abau/lm/monolingual-models/small-en.lr4-2')"
   ]
  },
  {
   "cell_type": "code",
   "execution_count": 209,
   "id": "settled-wedding",
   "metadata": {},
   "outputs": [],
   "source": [
    "tk1, tk2 = load_best_model_from('/raid/lingo/abau/lm/monolingual-models/turkish-1'), load_best_model_from('/raid/lingo/abau/lm/monolingual-models/turkish-2')"
   ]
  },
  {
   "cell_type": "code",
   "execution_count": 221,
   "id": "grand-valuable",
   "metadata": {},
   "outputs": [],
   "source": [
    "fr1, fr2 = load_best_model_from('/raid/lingo/abau/lm/monolingual-models/french-1'), load_best_model_from('/raid/lingo/abau/lm/monolingual-models/french-2')"
   ]
  },
  {
   "cell_type": "code",
   "execution_count": 222,
   "id": "demographic-exhibit",
   "metadata": {},
   "outputs": [
    {
     "data": {
      "application/vnd.jupyter.widget-view+json": {
       "model_id": "782c7317df744807aebbfa4cdfd80665",
       "version_major": 2,
       "version_minor": 0
      },
      "text/plain": [
       "HBox(children=(HTML(value=''), FloatProgress(value=0.0, max=75.0), HTML(value='')))"
      ]
     },
     "metadata": {},
     "output_type": "display_data"
    },
    {
     "name": "stdout",
     "output_type": "stream",
     "text": [
      "\n"
     ]
    },
    {
     "data": {
      "text/plain": [
       "tensor(4.2916, device='cuda:0')"
      ]
     },
     "execution_count": 222,
     "metadata": {},
     "output_type": "execute_result"
    }
   ],
   "source": [
    "french_context.run_test(fr1)"
   ]
  },
  {
   "cell_type": "code",
   "execution_count": 239,
   "id": "norwegian-catering",
   "metadata": {},
   "outputs": [
    {
     "data": {
      "application/vnd.jupyter.widget-view+json": {
       "model_id": "6284a15e2bfb4d56aab19c8a33dd4714",
       "version_major": 2,
       "version_minor": 0
      },
      "text/plain": [
       "HBox(children=(HTML(value=''), FloatProgress(value=0.0, max=200.0), HTML(value='')))"
      ]
     },
     "metadata": {},
     "output_type": "display_data"
    },
    {
     "name": "stdout",
     "output_type": "stream",
     "text": [
      "\n"
     ]
    },
    {
     "data": {
      "application/vnd.jupyter.widget-view+json": {
       "model_id": "f4ef9f181898487fbcf0f25e68d06bae",
       "version_major": 2,
       "version_minor": 0
      },
      "text/plain": [
       "HBox(children=(HTML(value=''), FloatProgress(value=0.0, max=200.0), HTML(value='')))"
      ]
     },
     "metadata": {},
     "output_type": "display_data"
    },
    {
     "name": "stdout",
     "output_type": "stream",
     "text": [
      "\n"
     ]
    },
    {
     "data": {
      "application/vnd.jupyter.widget-view+json": {
       "model_id": "ecb50311866b490ca301c6689df8f777",
       "version_major": 2,
       "version_minor": 0
      },
      "text/plain": [
       "HBox(children=(HTML(value=''), FloatProgress(value=0.0, max=200.0), HTML(value='')))"
      ]
     },
     "metadata": {},
     "output_type": "display_data"
    },
    {
     "name": "stdout",
     "output_type": "stream",
     "text": [
      "\n"
     ]
    },
    {
     "data": {
      "application/vnd.jupyter.widget-view+json": {
       "model_id": "7088b17f07d647be8a10402e12f5da38",
       "version_major": 2,
       "version_minor": 0
      },
      "text/plain": [
       "HBox(children=(HTML(value=''), FloatProgress(value=0.0, max=200.0), HTML(value='')))"
      ]
     },
     "metadata": {},
     "output_type": "display_data"
    },
    {
     "name": "stdout",
     "output_type": "stream",
     "text": [
      "\n"
     ]
    }
   ],
   "source": [
    "french_results = french_context.all_hyp_for_model(fr1, copycat_model=fr2)"
   ]
  },
  {
   "cell_type": "code",
   "execution_count": 240,
   "id": "flexible-meaning",
   "metadata": {},
   "outputs": [
    {
     "data": {
      "image/png": "[encoded data removed]",
      "text/plain": [
       "<Figure size 432x288 with 1 Axes>"
      ]
     },
     "metadata": {
      "needs_background": "light"
     },
     "output_type": "display_data"
    }
   ],
   "source": [
    "plot_result(french_results, title='French')"
   ]
  },
  {
   "cell_type": "code",
   "execution_count": 291,
   "id": "convinced-outreach",
   "metadata": {},
   "outputs": [
    {
     "data": {
      "image/png": "[encoded data removed]",
      "text/plain": [
       "<Figure size 432x288 with 1 Axes>"
      ]
     },
     "metadata": {
      "needs_background": "light"
     },
     "output_type": "display_data"
    }
   ],
   "source": [
    "plot_result(french_results, title='French')"
   ]
  },
  {
   "cell_type": "code",
   "execution_count": 242,
   "id": "hispanic-school",
   "metadata": {},
   "outputs": [
    {
     "data": {
      "application/vnd.jupyter.widget-view+json": {
       "model_id": "b0f431d0d6cc4e20b3d5dca8d2b9c891",
       "version_major": 2,
       "version_minor": 0
      },
      "text/plain": [
       "HBox(children=(HTML(value=''), FloatProgress(value=0.0, max=200.0), HTML(value='')))"
      ]
     },
     "metadata": {},
     "output_type": "display_data"
    },
    {
     "name": "stdout",
     "output_type": "stream",
     "text": [
      "\n"
     ]
    },
    {
     "data": {
      "application/vnd.jupyter.widget-view+json": {
       "model_id": "447c050d68534db6bf9ee2f4d39d99e5",
       "version_major": 2,
       "version_minor": 0
      },
      "text/plain": [
       "HBox(children=(HTML(value=''), FloatProgress(value=0.0, max=200.0), HTML(value='')))"
      ]
     },
     "metadata": {},
     "output_type": "display_data"
    },
    {
     "name": "stdout",
     "output_type": "stream",
     "text": [
      "\n"
     ]
    },
    {
     "data": {
      "application/vnd.jupyter.widget-view+json": {
       "model_id": "55280d5d835f4ca9aa2f0e6b97750a43",
       "version_major": 2,
       "version_minor": 0
      },
      "text/plain": [
       "HBox(children=(HTML(value=''), FloatProgress(value=0.0, max=200.0), HTML(value='')))"
      ]
     },
     "metadata": {},
     "output_type": "display_data"
    },
    {
     "name": "stdout",
     "output_type": "stream",
     "text": [
      "\n"
     ]
    },
    {
     "data": {
      "application/vnd.jupyter.widget-view+json": {
       "model_id": "7580e6c93e254cb8b5444ca8eec7402b",
       "version_major": 2,
       "version_minor": 0
      },
      "text/plain": [
       "HBox(children=(HTML(value=''), FloatProgress(value=0.0, max=200.0), HTML(value='')))"
      ]
     },
     "metadata": {},
     "output_type": "display_data"
    },
    {
     "name": "stdout",
     "output_type": "stream",
     "text": [
      "\n"
     ]
    }
   ],
   "source": [
    "turkish_results = turkish_context.all_hyp_for_model(tk1, copycat_model=tk2)"
   ]
  },
  {
   "cell_type": "code",
   "execution_count": 243,
   "id": "affiliated-circumstances",
   "metadata": {},
   "outputs": [
    {
     "data": {
      "image/png": "[encoded data removed]",
      "text/plain": [
       "<Figure size 432x288 with 1 Axes>"
      ]
     },
     "metadata": {
      "needs_background": "light"
     },
     "output_type": "display_data"
    }
   ],
   "source": [
    "plot_result(turkish_results)"
   ]
  },
  {
   "cell_type": "code",
   "execution_count": null,
   "id": "intelligent-raise",
   "metadata": {},
   "outputs": [],
   "source": [
    "french_context.visualize_prediction(preds.pred(fr1, french_context.sen2seq('Le').unsqueeze(0))[0].squeeze())"
   ]
  },
  {
   "cell_type": "code",
   "execution_count": 236,
   "id": "martial-respect",
   "metadata": {},
   "outputs": [
    {
     "data": {
      "text/plain": [
       "tensor([0., 0., 1.,  ..., 0., 0., 0.])"
      ]
     },
     "execution_count": 236,
     "metadata": {},
     "output_type": "execute_result"
    }
   ],
   "source": [
    "french_context.bigram_next(french_context.sen2seq('Le').unsqueeze(0)).squeeze()"
   ]
  },
  {
   "cell_type": "code",
   "execution_count": 237,
   "id": "explicit-surprise",
   "metadata": {},
   "outputs": [
    {
     "data": {
      "text/plain": [
       "tensor([[     0,      0,      0,  ...,      0,      0,      0],\n",
       "        [     0,      0,      0,  ...,      0,      0,      0],\n",
       "        [     0,  14741, 439914,  ...,      0,      0,      0],\n",
       "        ...,\n",
       "        [     0,      0,      0,  ...,      0,      0,      0],\n",
       "        [     0,      0,      0,  ...,      0,      0,      0],\n",
       "        [     0,      0,      0,  ...,      0,      0,      0]])"
      ]
     },
     "execution_count": 237,
     "metadata": {},
     "output_type": "execute_result"
    }
   ],
   "source": [
    "french_context.bigrams"
   ]
  },
  {
   "cell_type": "code",
   "execution_count": 207,
   "id": "aquatic-combining",
   "metadata": {},
   "outputs": [
    {
     "data": {
      "application/vnd.jupyter.widget-view+json": {
       "model_id": "62cdb5dd22fe4373a550380a3e41fbaf",
       "version_major": 2,
       "version_minor": 0
      },
      "text/plain": [
       "HBox(children=(HTML(value=''), FloatProgress(value=0.0, max=200.0), HTML(value='')))"
      ]
     },
     "metadata": {},
     "output_type": "display_data"
    },
    {
     "name": "stdout",
     "output_type": "stream",
     "text": [
      "\n"
     ]
    },
    {
     "data": {
      "application/vnd.jupyter.widget-view+json": {
       "model_id": "9930e1c042714e769ab75c3761d12b5b",
       "version_major": 2,
       "version_minor": 0
      },
      "text/plain": [
       "HBox(children=(HTML(value=''), FloatProgress(value=0.0, max=200.0), HTML(value='')))"
      ]
     },
     "metadata": {},
     "output_type": "display_data"
    },
    {
     "name": "stdout",
     "output_type": "stream",
     "text": [
      "\n"
     ]
    },
    {
     "data": {
      "application/vnd.jupyter.widget-view+json": {
       "model_id": "a6fbd8137d3f4aca9e9c9669e6534c4f",
       "version_major": 2,
       "version_minor": 0
      },
      "text/plain": [
       "HBox(children=(HTML(value=''), FloatProgress(value=0.0, max=200.0), HTML(value='')))"
      ]
     },
     "metadata": {},
     "output_type": "display_data"
    },
    {
     "name": "stdout",
     "output_type": "stream",
     "text": [
      "\n"
     ]
    },
    {
     "data": {
      "application/vnd.jupyter.widget-view+json": {
       "model_id": "74a33cb1ba934c9db5506f91c45303a6",
       "version_major": 2,
       "version_minor": 0
      },
      "text/plain": [
       "HBox(children=(HTML(value=''), FloatProgress(value=0.0, max=200.0), HTML(value='')))"
      ]
     },
     "metadata": {},
     "output_type": "display_data"
    },
    {
     "name": "stdout",
     "output_type": "stream",
     "text": [
      "\n"
     ]
    },
    {
     "data": {
      "text/plain": [
       "{'unigram': tensor(0.6190, grad_fn=<DivBackward0>),\n",
       " 'bigram': tensor(0.5714, grad_fn=<DivBackward0>),\n",
       " 'outedge': tensor(0.6040, grad_fn=<DivBackward0>),\n",
       " 'ignore': tensor(0.6537, grad_fn=<DivBackward0>),\n",
       " 'add_interp': tensor(0.4913, grad_fn=<DivBackward0>),\n",
       " 'mul_interp': tensor(0.5002, grad_fn=<DivBackward0>),\n",
       " 'copycat': tensor(0.2784, grad_fn=<DivBackward0>)}"
      ]
     },
     "execution_count": 207,
     "metadata": {},
     "output_type": "execute_result"
    }
   ],
   "source": [
    "small_english_context.all_hyp_for_model(sm1, copycat_model=sm2)"
   ]
  },
  {
   "cell_type": "code",
   "execution_count": 210,
   "id": "compressed-accuracy",
   "metadata": {},
   "outputs": [
    {
     "data": {
      "application/vnd.jupyter.widget-view+json": {
       "model_id": "76489b1499ea40bb85dcc52c19eb9c23",
       "version_major": 2,
       "version_minor": 0
      },
      "text/plain": [
       "HBox(children=(HTML(value=''), FloatProgress(value=0.0, max=46.0), HTML(value='')))"
      ]
     },
     "metadata": {},
     "output_type": "display_data"
    },
    {
     "name": "stdout",
     "output_type": "stream",
     "text": [
      "\n"
     ]
    },
    {
     "data": {
      "text/plain": [
       "tensor(5.0106, device='cuda:0')"
      ]
     },
     "execution_count": 210,
     "metadata": {},
     "output_type": "execute_result"
    }
   ],
   "source": [
    "turkish_context.run_test(tk1)"
   ]
  },
  {
   "cell_type": "code",
   "execution_count": 212,
   "id": "neutral-wisconsin",
   "metadata": {},
   "outputs": [
    {
     "data": {
      "application/vnd.jupyter.widget-view+json": {
       "model_id": "49e143417bdb432e8b5d8557d4736110",
       "version_major": 2,
       "version_minor": 0
      },
      "text/plain": [
       "HBox(children=(HTML(value=''), FloatProgress(value=0.0, max=200.0), HTML(value='')))"
      ]
     },
     "metadata": {},
     "output_type": "display_data"
    },
    {
     "name": "stdout",
     "output_type": "stream",
     "text": [
      "\n"
     ]
    },
    {
     "data": {
      "application/vnd.jupyter.widget-view+json": {
       "model_id": "dd60b6d22dca4facb8876526471faf48",
       "version_major": 2,
       "version_minor": 0
      },
      "text/plain": [
       "HBox(children=(HTML(value=''), FloatProgress(value=0.0, max=200.0), HTML(value='')))"
      ]
     },
     "metadata": {},
     "output_type": "display_data"
    },
    {
     "name": "stdout",
     "output_type": "stream",
     "text": [
      "\n"
     ]
    },
    {
     "data": {
      "application/vnd.jupyter.widget-view+json": {
       "model_id": "c4e106b555374f6a85a8ab483b1e8967",
       "version_major": 2,
       "version_minor": 0
      },
      "text/plain": [
       "HBox(children=(HTML(value=''), FloatProgress(value=0.0, max=200.0), HTML(value='')))"
      ]
     },
     "metadata": {},
     "output_type": "display_data"
    },
    {
     "name": "stdout",
     "output_type": "stream",
     "text": [
      "\n"
     ]
    },
    {
     "data": {
      "application/vnd.jupyter.widget-view+json": {
       "model_id": "124243e1cf604bf2aed95004dc6dde63",
       "version_major": 2,
       "version_minor": 0
      },
      "text/plain": [
       "HBox(children=(HTML(value=''), FloatProgress(value=0.0, max=200.0), HTML(value='')))"
      ]
     },
     "metadata": {},
     "output_type": "display_data"
    },
    {
     "name": "stdout",
     "output_type": "stream",
     "text": [
      "\n"
     ]
    }
   ],
   "source": [
    "tk_result = turkish_context.all_hyp_for_model(tk1, copycat_model=tk2)"
   ]
  },
  {
   "cell_type": "code",
   "execution_count": 214,
   "id": "framed-cycling",
   "metadata": {},
   "outputs": [
    {
     "data": {
      "image/png": "[encoded data removed]",
      "text/plain": [
       "<Figure size 432x288 with 1 Axes>"
      ]
     },
     "metadata": {
      "needs_background": "light"
     },
     "output_type": "display_data"
    }
   ],
   "source": [
    "plot_result(tk_result, title='Turkish')"
   ]
  },
  {
   "cell_type": "code",
   "execution_count": 107,
   "id": "refined-penny",
   "metadata": {},
   "outputs": [
    {
     "name": "stderr",
     "output_type": "stream",
     "text": [
      "/lingo/abau/language-models/interactive.py:47: VisibleDeprecationWarning: Creating an ndarray from ragged nested sequences (which is a list-or-tuple of lists-or-tuples-or ndarrays with different lengths or shapes) is deprecated. If you meant to do this, you must specify 'dtype=object' when creating the ndarray\n",
      "  self.bigram_preds = torch.stack(\n"
     ]
    }
   ],
   "source": [
    "finnish_bpe_context = TestingContext('preprocess/finnish-spm.model',\n",
    "                      '/raid/lingo/abau/lm/finnish-bpe',\n",
    "                      '/raid/lingo/abau/lm/finnish-bpe-bigrams.pt',\n",
    "                        vocab_type='spm')"
   ]
  },
  {
   "cell_type": "code",
   "execution_count": 110,
   "id": "handmade-brake",
   "metadata": {},
   "outputs": [],
   "source": [
    "sp = spm.SentencePieceProcessor(model_file='preprocess/finnish-spm.model')"
   ]
  },
  {
   "cell_type": "code",
   "execution_count": 112,
   "id": "genetic-zimbabwe",
   "metadata": {},
   "outputs": [
    {
     "data": {
      "text/plain": [
       "'esitettyjen ajatusten perusteella viinin valmistusaineidensa'"
      ]
     },
     "execution_count": 112,
     "metadata": {},
     "output_type": "execute_result"
    }
   ],
   "source": [
    "sp.decode(finnish_bpe_context.subpool[0])"
   ]
  },
  {
   "cell_type": "code",
   "execution_count": 119,
   "id": "filled-birthday",
   "metadata": {},
   "outputs": [
    {
     "data": {
      "text/plain": [
       "['▁paranevan',\n",
       " '▁viime',\n",
       " '▁vuodesta',\n",
       " '.',\n",
       " '▁Vuoden',\n",
       " '▁jälki',\n",
       " 'puoliskolla',\n",
       " '▁liike',\n",
       " 'tulo',\n",
       " 's',\n",
       " '▁säily',\n",
       " 'y',\n",
       " '▁yhtiö',\n",
       " 'ksi']"
      ]
     },
     "execution_count": 119,
     "metadata": {},
     "output_type": "execute_result"
    }
   ],
   "source": [
    "sp.encode(sp.decode(finnish_bpe_context.subpool[3]), out_type='str')"
   ]
  },
  {
   "cell_type": "code",
   "execution_count": 116,
   "id": "meaning-sessions",
   "metadata": {},
   "outputs": [
    {
     "data": {
      "text/plain": [
       "'esitettyjen ajatusten perusteella viinin valmistusaineidensa'"
      ]
     },
     "execution_count": 116,
     "metadata": {},
     "output_type": "execute_result"
    }
   ],
   "source": [
    "sp.decode(finnish_bpe_context.subpool[0])"
   ]
  },
  {
   "cell_type": "code",
   "execution_count": 101,
   "id": "superior-colors",
   "metadata": {},
   "outputs": [],
   "source": [
    "fb1, fb2 = load_best_model_from('/raid/lingo/abau/lm/monolingual-models/finnish-bpe-1'), load_best_model_from('/raid/lingo/abau/lm/monolingual-models/finnish-bpe-2')"
   ]
  },
  {
   "cell_type": "code",
   "execution_count": 122,
   "id": "sitting-teach",
   "metadata": {},
   "outputs": [],
   "source": [
    "ft1, ft2 = load_best_transformer_model_from('/raid/lingo/abau/lm/monolingual-models/transformer-1-sd-finnish'), load_best_model_from('/raid/lingo/abau/lm/monolingual-models/transformer-2-sd-finnish')"
   ]
  },
  {
   "cell_type": "code",
   "execution_count": 108,
   "id": "active-denial",
   "metadata": {},
   "outputs": [
    {
     "data": {
      "application/vnd.jupyter.widget-view+json": {
       "model_id": "8b046b201cdb4d68a095b2a6aeab69e0",
       "version_major": 2,
       "version_minor": 0
      },
      "text/plain": [
       "HBox(children=(HTML(value=''), FloatProgress(value=0.0, max=30.0), HTML(value='')))"
      ]
     },
     "metadata": {},
     "output_type": "display_data"
    },
    {
     "name": "stdout",
     "output_type": "stream",
     "text": [
      "\n"
     ]
    },
    {
     "data": {
      "text/plain": [
       "tensor(-8.7569)"
      ]
     },
     "execution_count": 108,
     "metadata": {},
     "output_type": "execute_result"
    }
   ],
   "source": [
    "finnish_bpe_context.get_bigram_loss()"
   ]
  },
  {
   "cell_type": "code",
   "execution_count": 109,
   "id": "banned-volunteer",
   "metadata": {},
   "outputs": [
    {
     "data": {
      "application/vnd.jupyter.widget-view+json": {
       "model_id": "86113852ca864963bedcb9bf5f20cfd9",
       "version_major": 2,
       "version_minor": 0
      },
      "text/plain": [
       "HBox(children=(HTML(value=''), FloatProgress(value=0.0, max=30.0), HTML(value='')))"
      ]
     },
     "metadata": {},
     "output_type": "display_data"
    },
    {
     "name": "stdout",
     "output_type": "stream",
     "text": [
      "\n"
     ]
    },
    {
     "data": {
      "text/plain": [
       "tensor(6.5919, device='cuda:0')"
      ]
     },
     "execution_count": 109,
     "metadata": {},
     "output_type": "execute_result"
    }
   ],
   "source": [
    "finnish_bpe_context.run_test(fb1)"
   ]
  },
  {
   "cell_type": "code",
   "execution_count": 103,
   "id": "cooperative-deadline",
   "metadata": {},
   "outputs": [
    {
     "data": {
      "application/vnd.jupyter.widget-view+json": {
       "model_id": "85259c7e026d43e08031e46a18dfb24c",
       "version_major": 2,
       "version_minor": 0
      },
      "text/plain": [
       "HBox(children=(HTML(value=''), FloatProgress(value=0.0, max=200.0), HTML(value='')))"
      ]
     },
     "metadata": {},
     "output_type": "display_data"
    },
    {
     "name": "stdout",
     "output_type": "stream",
     "text": [
      "\n"
     ]
    },
    {
     "data": {
      "application/vnd.jupyter.widget-view+json": {
       "model_id": "6c5670b3e6244eb59813be71823aa8f2",
       "version_major": 2,
       "version_minor": 0
      },
      "text/plain": [
       "HBox(children=(HTML(value=''), FloatProgress(value=0.0, max=200.0), HTML(value='')))"
      ]
     },
     "metadata": {},
     "output_type": "display_data"
    },
    {
     "name": "stdout",
     "output_type": "stream",
     "text": [
      "\n"
     ]
    },
    {
     "data": {
      "application/vnd.jupyter.widget-view+json": {
       "model_id": "4195b6b18c034c5b93cf4334a9c76fe5",
       "version_major": 2,
       "version_minor": 0
      },
      "text/plain": [
       "HBox(children=(HTML(value=''), FloatProgress(value=0.0, max=200.0), HTML(value='')))"
      ]
     },
     "metadata": {},
     "output_type": "display_data"
    },
    {
     "name": "stdout",
     "output_type": "stream",
     "text": [
      "\n"
     ]
    },
    {
     "data": {
      "application/vnd.jupyter.widget-view+json": {
       "model_id": "4cf8abfd2cbe4bdd8a238d3fb8c556ee",
       "version_major": 2,
       "version_minor": 0
      },
      "text/plain": [
       "HBox(children=(HTML(value=''), FloatProgress(value=0.0, max=200.0), HTML(value='')))"
      ]
     },
     "metadata": {},
     "output_type": "display_data"
    },
    {
     "name": "stdout",
     "output_type": "stream",
     "text": [
      "\n"
     ]
    }
   ],
   "source": [
    "bpe_result = finnish_bpe_context.all_hyp_for_model(fb1, copycat_model=fb2)"
   ]
  },
  {
   "cell_type": "code",
   "execution_count": 130,
   "id": "centered-suggestion",
   "metadata": {},
   "outputs": [
    {
     "data": {
      "application/vnd.jupyter.widget-view+json": {
       "model_id": "b69f3d490fa14f4b9e62be135870aabc",
       "version_major": 2,
       "version_minor": 0
      },
      "text/plain": [
       "HBox(children=(HTML(value=''), FloatProgress(value=0.0, max=200.0), HTML(value='')))"
      ]
     },
     "metadata": {},
     "output_type": "display_data"
    },
    {
     "name": "stdout",
     "output_type": "stream",
     "text": [
      "\n"
     ]
    },
    {
     "data": {
      "application/vnd.jupyter.widget-view+json": {
       "model_id": "3b80ccb2342e4b05ba03410d2e0ebff4",
       "version_major": 2,
       "version_minor": 0
      },
      "text/plain": [
       "HBox(children=(HTML(value=''), FloatProgress(value=0.0, max=200.0), HTML(value='')))"
      ]
     },
     "metadata": {},
     "output_type": "display_data"
    },
    {
     "name": "stdout",
     "output_type": "stream",
     "text": [
      "\n"
     ]
    },
    {
     "data": {
      "application/vnd.jupyter.widget-view+json": {
       "model_id": "33aa62a0453a43768e3978a9e699513c",
       "version_major": 2,
       "version_minor": 0
      },
      "text/plain": [
       "HBox(children=(HTML(value=''), FloatProgress(value=0.0, max=200.0), HTML(value='')))"
      ]
     },
     "metadata": {},
     "output_type": "display_data"
    },
    {
     "name": "stdout",
     "output_type": "stream",
     "text": [
      "\n"
     ]
    },
    {
     "data": {
      "application/vnd.jupyter.widget-view+json": {
       "model_id": "656760d9ed394a49b4701a8e75198822",
       "version_major": 2,
       "version_minor": 0
      },
      "text/plain": [
       "HBox(children=(HTML(value=''), FloatProgress(value=0.0, max=200.0), HTML(value='')))"
      ]
     },
     "metadata": {},
     "output_type": "display_data"
    },
    {
     "name": "stdout",
     "output_type": "stream",
     "text": [
      "\n"
     ]
    }
   ],
   "source": [
    "ftr = finnish_context.all_hyp_for_transformer(ft1, copycat_model=ft2)"
   ]
  },
  {
   "cell_type": "code",
   "execution_count": 135,
   "id": "productive-roberts",
   "metadata": {},
   "outputs": [
    {
     "data": {
      "text/plain": [
       "[(tensor(6.1605, device='cuda:0', grad_fn=<UnbindBackward>), '<unk>'),\n",
       " (tensor(5.4247, device='cuda:0', grad_fn=<UnbindBackward>), 'asetuksen'),\n",
       " (tensor(5.4176, device='cuda:0', grad_fn=<UnbindBackward>), 'voi'),\n",
       " (tensor(5.2923, device='cuda:0', grad_fn=<UnbindBackward>), 'ollut'),\n",
       " (tensor(5.2449, device='cuda:0', grad_fn=<UnbindBackward>), 'olisi')]"
      ]
     },
     "execution_count": 135,
     "metadata": {},
     "output_type": "execute_result"
    }
   ],
   "source": [
    "finnish_context.visualize_prediction(preds.transformer_pred(ft1, finnish_context.sen2seq('Minä en').unsqueeze(0)))"
   ]
  },
  {
   "cell_type": "code",
   "execution_count": 181,
   "id": "accompanied-breakdown",
   "metadata": {},
   "outputs": [
    {
     "name": "stderr",
     "output_type": "stream",
     "text": [
      "<ipython-input-181-999001f4de80>:1: UserWarning: Implicit dimension choice for softmax has been deprecated. Change the call to include dim=X as an argument.\n",
      "  chinese_context.visualize_prediction(torch.nn.functional.softmax(preds.pred(zh1, torch.LongTensor([[5]]))[0].squeeze()))\n"
     ]
    },
    {
     "data": {
      "text/plain": [
       "[(tensor(0.0202, grad_fn=<UnbindBackward>), '此'),\n",
       " (tensor(0.0137, grad_fn=<UnbindBackward>), '2008'),\n",
       " (tensor(0.0127, grad_fn=<UnbindBackward>), '<unk>'),\n",
       " (tensor(0.0102, grad_fn=<UnbindBackward>), '他'),\n",
       " (tensor(0.0091, grad_fn=<UnbindBackward>), '年')]"
      ]
     },
     "execution_count": 181,
     "metadata": {},
     "output_type": "execute_result"
    }
   ],
   "source": [
    "chinese_context.visualize_prediction(torch.nn.functional.softmax(preds.pred(zh1, torch.LongTensor([[5]]))[0].squeeze()))"
   ]
  },
  {
   "cell_type": "code",
   "execution_count": 168,
   "id": "southeast-baptist",
   "metadata": {},
   "outputs": [
    {
     "name": "stderr",
     "output_type": "stream",
     "text": [
      "<ipython-input-168-362f0913043a>:1: UserWarning: Implicit dimension choice for softmax has been deprecated. Change the call to include dim=X as an argument.\n",
      "  torch.sum(torch.nn.functional.softmax(preds.pred(zh1, torch.LongTensor([[336]]))[0].squeeze()))\n"
     ]
    },
    {
     "data": {
      "text/plain": [
       "tensor(1.0000, grad_fn=<SumBackward0>)"
      ]
     },
     "execution_count": 168,
     "metadata": {},
     "output_type": "execute_result"
    }
   ],
   "source": [
    "torch.sum(torch.nn.functional.softmax(preds.pred(zh1, torch.LongTensor([[336]]))[0].squeeze()))"
   ]
  },
  {
   "cell_type": "code",
   "execution_count": 184,
   "id": "unlike-journalist",
   "metadata": {},
   "outputs": [
    {
     "data": {
      "text/plain": [
       "[(tensor(0.0200), '<unk>'),\n",
       " (tensor(0.0141), '一'),\n",
       " (tensor(0.0133), '中国'),\n",
       " (tensor(0.0118), '他'),\n",
       " (tensor(0.0111), '这')]"
      ]
     },
     "execution_count": 184,
     "metadata": {},
     "output_type": "execute_result"
    }
   ],
   "source": [
    "chinese_context.visualize_prediction(chinese_context.bigram_next(torch.LongTensor([[5]])).squeeze())"
   ]
  },
  {
   "cell_type": "code",
   "execution_count": 185,
   "id": "level-muslim",
   "metadata": {},
   "outputs": [
    {
     "data": {
      "application/vnd.jupyter.widget-view+json": {
       "model_id": "33b157c589e9410ab5acce29d44e984d",
       "version_major": 2,
       "version_minor": 0
      },
      "text/plain": [
       "HBox(children=(HTML(value=''), FloatProgress(value=0.0, max=56.0), HTML(value='')))"
      ]
     },
     "metadata": {},
     "output_type": "display_data"
    },
    {
     "name": "stdout",
     "output_type": "stream",
     "text": [
      "\n"
     ]
    },
    {
     "data": {
      "text/plain": [
       "tensor(-6.8212)"
      ]
     },
     "execution_count": 185,
     "metadata": {},
     "output_type": "execute_result"
    }
   ],
   "source": [
    "finnish_context.get_bigram_loss()"
   ]
  },
  {
   "cell_type": "code",
   "execution_count": 104,
   "id": "voluntary-incentive",
   "metadata": {},
   "outputs": [
    {
     "data": {
      "image/png": "[encoded data removed]",
      "text/plain": [
       "<Figure size 432x288 with 1 Axes>"
      ]
     },
     "metadata": {
      "needs_background": "light"
     },
     "output_type": "display_data"
    }
   ],
   "source": [
    "chin"
   ]
  },
  {
   "cell_type": "code",
   "execution_count": 95,
   "id": "deluxe-sweet",
   "metadata": {},
   "outputs": [],
   "source": [
    "def load_best_transformer_model_from(root):\n",
    "    checkpoints = os.listdir(root)\n",
    "    best = min(checkpoints, key = lambda x: float(x.split('loss-')[1].split('.pt')[0]))\n",
    "    loss = float(best.split('loss-')[1].split('.')[0])\n",
    "    state_dict = torch.load(os.path.join(root, best))\n",
    "    model = TransformerModel(2 ** 14, 512, 2, 512, 2, 0.2).cuda()\n",
    "    model.load_state_dict(state_dict)\n",
    "    return model"
   ]
  },
  {
   "cell_type": "code",
   "execution_count": 69,
   "id": "dangerous-crisis",
   "metadata": {},
   "outputs": [],
   "source": [
    "t1 = load_best_transformer_model_from('/raid/lingo/abau/lm/monolingual-models/transformer-1-sd')\n",
    "t2 = load_best_transformer_model_from('/raid/lingo/abau/lm/monolingual-models/transformer-2-sd')"
   ]
  },
  {
   "cell_type": "code",
   "execution_count": 70,
   "id": "ranking-convertible",
   "metadata": {},
   "outputs": [
    {
     "data": {
      "application/vnd.jupyter.widget-view+json": {
       "model_id": "d033655858804d87a57ca86989b73287",
       "version_major": 2,
       "version_minor": 0
      },
      "text/plain": [
       "HBox(children=(HTML(value=''), FloatProgress(value=0.0, max=200.0), HTML(value='')))"
      ]
     },
     "metadata": {},
     "output_type": "display_data"
    },
    {
     "name": "stdout",
     "output_type": "stream",
     "text": [
      "\n"
     ]
    },
    {
     "data": {
      "application/vnd.jupyter.widget-view+json": {
       "model_id": "5e3b9cd3fbff475885c53fe6b1c45d2f",
       "version_major": 2,
       "version_minor": 0
      },
      "text/plain": [
       "HBox(children=(HTML(value=''), FloatProgress(value=0.0, max=200.0), HTML(value='')))"
      ]
     },
     "metadata": {},
     "output_type": "display_data"
    },
    {
     "name": "stdout",
     "output_type": "stream",
     "text": [
      "\n"
     ]
    },
    {
     "data": {
      "application/vnd.jupyter.widget-view+json": {
       "model_id": "008b63451e594e978ef3c07ffa2b0bb1",
       "version_major": 2,
       "version_minor": 0
      },
      "text/plain": [
       "HBox(children=(HTML(value=''), FloatProgress(value=0.0, max=200.0), HTML(value='')))"
      ]
     },
     "metadata": {},
     "output_type": "display_data"
    },
    {
     "name": "stdout",
     "output_type": "stream",
     "text": [
      "\n"
     ]
    },
    {
     "data": {
      "application/vnd.jupyter.widget-view+json": {
       "model_id": "23c79a32fdb8473b8062644571eb1f84",
       "version_major": 2,
       "version_minor": 0
      },
      "text/plain": [
       "HBox(children=(HTML(value=''), FloatProgress(value=0.0, max=200.0), HTML(value='')))"
      ]
     },
     "metadata": {},
     "output_type": "display_data"
    },
    {
     "name": "stdout",
     "output_type": "stream",
     "text": [
      "\n"
     ]
    }
   ],
   "source": [
    "with torch.no_grad():\n",
    "    transformer_results = english_context.all_hyp_for_transformer(t1, copycat_model = t2)"
   ]
  },
  {
   "cell_type": "code",
   "execution_count": 72,
   "id": "suitable-laugh",
   "metadata": {},
   "outputs": [
    {
     "data": {
      "text/plain": [
       "'{\"unigram\": 0.6372982263565063, \"bigram\": 0.23959693312644958, \"outedge\": 0.6726287603378296, \"ignore\": 0.7676309943199158, \"add_interp\": 0.23583826422691345, \"mul_interp\": 0.23476055264472961, \"copycat\": 0.22520437836647034}'"
      ]
     },
     "execution_count": 72,
     "metadata": {},
     "output_type": "execute_result"
    }
   ],
   "source": [
    "json.dumps({x: float(transformer_results[x]) for x in transformer_results})"
   ]
  },
  {
   "cell_type": "code",
   "execution_count": 63,
   "id": "peaceful-conservation",
   "metadata": {},
   "outputs": [
    {
     "data": {
      "image/png": "[encoded data removed]",
      "text/plain": [
       "<Figure size 432x288 with 1 Axes>"
      ]
     },
     "metadata": {
      "needs_background": "light"
     },
     "output_type": "display_data"
    }
   ],
   "source": [
    "plot_result(transformer_results, title='Transformer')"
   ]
  },
  {
   "cell_type": "code",
   "execution_count": 16,
   "id": "severe-antenna",
   "metadata": {},
   "outputs": [
    {
     "ename": "NameError",
     "evalue": "name 'one_step_outedge' is not defined",
     "output_type": "error",
     "traceback": [
      "\u001b[0;31m---------------------------------------------------------------------------\u001b[0m",
      "\u001b[0;31mNameError\u001b[0m                                 Traceback (most recent call last)",
      "\u001b[0;32m<ipython-input-16-3cfd44196a66>\u001b[0m in \u001b[0;36m<module>\u001b[0;34m\u001b[0m\n\u001b[0;32m----> 1\u001b[0;31m \u001b[0menglish_context\u001b[0m\u001b[0;34m.\u001b[0m\u001b[0mvisualize_prediction\u001b[0m\u001b[0;34m(\u001b[0m\u001b[0mone_step_outedge\u001b[0m\u001b[0;34m(\u001b[0m\u001b[0mtransformer\u001b[0m\u001b[0;34m,\u001b[0m \u001b[0menglish_context\u001b[0m\u001b[0;34m.\u001b[0m\u001b[0msen2seq\u001b[0m\u001b[0;34m(\u001b[0m\u001b[0;34m'He walked up'\u001b[0m\u001b[0;34m)\u001b[0m\u001b[0;34m.\u001b[0m\u001b[0mcuda\u001b[0m\u001b[0;34m(\u001b[0m\u001b[0;34m)\u001b[0m\u001b[0;34m)\u001b[0m\u001b[0;34m)\u001b[0m\u001b[0;34m\u001b[0m\u001b[0;34m\u001b[0m\u001b[0m\n\u001b[0m",
      "\u001b[0;31mNameError\u001b[0m: name 'one_step_outedge' is not defined"
     ]
    }
   ],
   "source": [
    "english_context.visualize_prediction(one_step_outedge(transformer, english_context.sen2seq('He walked up').cuda()))"
   ]
  },
  {
   "cell_type": "code",
   "execution_count": 12,
   "id": "entertaining-logan",
   "metadata": {},
   "outputs": [
    {
     "data": {
      "text/plain": [
       "<torch.autograd.grad_mode.no_grad at 0x7fc618be28e0>"
      ]
     },
     "execution_count": 12,
     "metadata": {},
     "output_type": "execute_result"
    }
   ],
   "source": [
    "torch.no_grad()"
   ]
  },
  {
   "cell_type": "code",
   "execution_count": 57,
   "id": "dress-mounting",
   "metadata": {},
   "outputs": [
    {
     "data": {
      "application/vnd.jupyter.widget-view+json": {
       "model_id": "3268a41634e248ab9f24cdbd9decbef7",
       "version_major": 2,
       "version_minor": 0
      },
      "text/plain": [
       "HBox(children=(HTML(value=''), FloatProgress(value=0.0, max=200.0), HTML(value='')))"
      ]
     },
     "metadata": {},
     "output_type": "display_data"
    },
    {
     "name": "stdout",
     "output_type": "stream",
     "text": [
      "\n"
     ]
    }
   ],
   "source": [
    "actual = english_context.actual_for_transformer(t1)"
   ]
  },
  {
   "cell_type": "code",
   "execution_count": 14,
   "id": "undefined-possibility",
   "metadata": {},
   "outputs": [
    {
     "data": {
      "application/vnd.jupyter.widget-view+json": {
       "model_id": "d39a5fec46cc4cb7ba155dba6e505a97",
       "version_major": 2,
       "version_minor": 0
      },
      "text/plain": [
       "HBox(children=(HTML(value=''), FloatProgress(value=0.0, max=200.0), HTML(value='')))"
      ]
     },
     "metadata": {},
     "output_type": "display_data"
    },
    {
     "name": "stdout",
     "output_type": "stream",
     "text": [
      "\n"
     ]
    }
   ],
   "source": [
    "t1.eval()\n",
    "with torch.no_grad():\n",
    "    outedge = english_context.outedge_for_transformer(t1)"
   ]
  },
  {
   "cell_type": "code",
   "execution_count": 61,
   "id": "therapeutic-designation",
   "metadata": {},
   "outputs": [
    {
     "data": {
      "text/plain": [
       "(0.04081632653061224, tensor(0.2522, grad_fn=<DivBackward0>))"
      ]
     },
     "execution_count": 61,
     "metadata": {},
     "output_type": "execute_result"
    }
   ],
   "source": [
    "english_context.optimal_mul_interpolation(outedge, actual)"
   ]
  },
  {
   "cell_type": "code",
   "execution_count": 60,
   "id": "temporal-coach",
   "metadata": {},
   "outputs": [
    {
     "data": {
      "text/plain": [
       "tensor(0.2545, grad_fn=<DivBackward0>)"
      ]
     },
     "execution_count": 60,
     "metadata": {},
     "output_type": "execute_result"
    }
   ],
   "source": [
    "english_context.mul_interpolation_loss(outedge.cpu(), actual.cpu(), 0)"
   ]
  },
  {
   "cell_type": "code",
   "execution_count": 59,
   "id": "adolescent-residence",
   "metadata": {},
   "outputs": [
    {
     "data": {
      "text/plain": [
       "tensor(0.2571, grad_fn=<DivBackward0>)"
      ]
     },
     "execution_count": 59,
     "metadata": {},
     "output_type": "execute_result"
    }
   ],
   "source": [
    "english_context.tvd(torch.nn.functional.softmax(\n",
    "    torch.log(outedge.cpu()) * 0 +\n",
    "    torch.log(english_context.bigram_preds) * (1 - 0), dim=1), actual.cpu())"
   ]
  },
  {
   "cell_type": "code",
   "execution_count": 58,
   "id": "impressed-cleanup",
   "metadata": {},
   "outputs": [
    {
     "data": {
      "text/plain": [
       "tensor(0.2571, grad_fn=<DivBackward0>)"
      ]
     },
     "execution_count": 58,
     "metadata": {},
     "output_type": "execute_result"
    }
   ],
   "source": [
    "english_context.tvd(english_context.bigram_preds, actual.cpu())"
   ]
  },
  {
   "cell_type": "code",
   "execution_count": 211,
   "id": "military-transparency",
   "metadata": {},
   "outputs": [
    {
     "name": "stderr",
     "output_type": "stream",
     "text": [
      "<ipython-input-211-25712e1da983>:1: UserWarning: Implicit dimension choice for softmax has been deprecated. Change the call to include dim=X as an argument.\n",
      "  english_context.visualize_prediction(torch.nn.functional.softmax(run_on_batch(transformer, english_context.sen2seq('He was').unsqueeze(0).cuda())[-1].squeeze()))\n"
     ]
    },
    {
     "data": {
      "text/plain": [
       "[(tensor(0.0831, device='cuda:0', grad_fn=<UnbindBackward>), 'a'),\n",
       " (tensor(0.0639, device='cuda:0', grad_fn=<UnbindBackward>), '<unk>'),\n",
       " (tensor(0.0620, device='cuda:0', grad_fn=<UnbindBackward>), 'the'),\n",
       " (tensor(0.0204, device='cuda:0', grad_fn=<UnbindBackward>), 'taken'),\n",
       " (tensor(0.0162, device='cuda:0', grad_fn=<UnbindBackward>), 'in')]"
      ]
     },
     "execution_count": 211,
     "metadata": {},
     "output_type": "execute_result"
    }
   ],
   "source": [
    "english_context.visualize_prediction(torch.nn.functional.softmax(run_on_batch(transformer, english_context.sen2seq('He was').unsqueeze(0).cuda())[-1].squeeze()))"
   ]
  },
  {
   "cell_type": "code",
   "execution_count": 74,
   "id": "exposed-coupon",
   "metadata": {},
   "outputs": [],
   "source": [
    "embedding_models = [\n",
    "    load_best_model_from('/raid/lingo/abau/lm/monolingual-models/en.1m.2layer.lr1e6.fixed.embedding_dropout%s' % (n))\n",
    "    for n in ['0.1', '0.2', '0.3', '0.4', '0.5', '0.6', '0.7', '0.8']\n",
    "]"
   ]
  },
  {
   "cell_type": "code",
   "execution_count": 79,
   "id": "dramatic-production",
   "metadata": {},
   "outputs": [],
   "source": [
    "fn1, fn2 = load_best_model_from('/raid/lingo/abau/lm/monolingual-models/finnish.lr4-1'), load_best_model_from('/raid/lingo/abau/lm/monolingual-models/finnish.lr4-2')"
   ]
  },
  {
   "cell_type": "code",
   "execution_count": 80,
   "id": "liquid-auction",
   "metadata": {},
   "outputs": [],
   "source": [
    "zh1, zh2 = load_best_model_from('/raid/lingo/abau/lm/monolingual-models/chinese.lr4-1'), load_best_model_from('/raid/lingo/abau/lm/monolingual-models/chinese.lr4-2')"
   ]
  },
  {
   "cell_type": "code",
   "execution_count": 32,
   "id": "liked-valley",
   "metadata": {},
   "outputs": [
    {
     "data": {
      "application/vnd.jupyter.widget-view+json": {
       "model_id": "835bbc22a3ed4031adbf3a05980f3364",
       "version_major": 2,
       "version_minor": 0
      },
      "text/plain": [
       "HBox(children=(HTML(value=''), FloatProgress(value=0.0, max=109.0), HTML(value='')))"
      ]
     },
     "metadata": {},
     "output_type": "display_data"
    },
    {
     "name": "stdout",
     "output_type": "stream",
     "text": [
      "\n"
     ]
    },
    {
     "data": {
      "text/plain": [
       "tensor(3.1979, device='cuda:0')"
      ]
     },
     "execution_count": 32,
     "metadata": {},
     "output_type": "execute_result"
    }
   ],
   "source": [
    "english_context.run_test(embedding_models[0])"
   ]
  },
  {
   "cell_type": "code",
   "execution_count": 75,
   "id": "boring-privacy",
   "metadata": {},
   "outputs": [
    {
     "data": {
      "application/vnd.jupyter.widget-view+json": {
       "model_id": "4d8774f670c041ae9012f2a1e78b6040",
       "version_major": 2,
       "version_minor": 0
      },
      "text/plain": [
       "HBox(children=(HTML(value=''), FloatProgress(value=0.0, max=200.0), HTML(value='')))"
      ]
     },
     "metadata": {},
     "output_type": "display_data"
    },
    {
     "name": "stdout",
     "output_type": "stream",
     "text": [
      "\n"
     ]
    },
    {
     "data": {
      "application/vnd.jupyter.widget-view+json": {
       "model_id": "009ddf1c65bf412aade9542e3f1d33a3",
       "version_major": 2,
       "version_minor": 0
      },
      "text/plain": [
       "HBox(children=(HTML(value=''), FloatProgress(value=0.0, max=200.0), HTML(value='')))"
      ]
     },
     "metadata": {},
     "output_type": "display_data"
    },
    {
     "name": "stdout",
     "output_type": "stream",
     "text": [
      "\n"
     ]
    },
    {
     "data": {
      "application/vnd.jupyter.widget-view+json": {
       "model_id": "97511252379844fc93c0b431315171a6",
       "version_major": 2,
       "version_minor": 0
      },
      "text/plain": [
       "HBox(children=(HTML(value=''), FloatProgress(value=0.0, max=200.0), HTML(value='')))"
      ]
     },
     "metadata": {},
     "output_type": "display_data"
    },
    {
     "name": "stdout",
     "output_type": "stream",
     "text": [
      "\n"
     ]
    },
    {
     "data": {
      "application/vnd.jupyter.widget-view+json": {
       "model_id": "b5afcec8f4d14e4f8e5033c2a244c611",
       "version_major": 2,
       "version_minor": 0
      },
      "text/plain": [
       "HBox(children=(HTML(value=''), FloatProgress(value=0.0, max=200.0), HTML(value='')))"
      ]
     },
     "metadata": {},
     "output_type": "display_data"
    },
    {
     "name": "stdout",
     "output_type": "stream",
     "text": [
      "\n"
     ]
    }
   ],
   "source": [
    "with torch.no_grad():\n",
    "    result = english_context.all_hyp_for_model(embedding_models[0], copycat_model=embedding_models[1])"
   ]
  },
  {
   "cell_type": "code",
   "execution_count": 77,
   "id": "affecting-valentine",
   "metadata": {},
   "outputs": [
    {
     "data": {
      "text/plain": [
       "'{\"unigram\": 0.7767780423164368, \"bigram\": 0.6356952786445618, \"outedge\": 0.7854129672050476, \"ignore\": 0.8393816351890564, \"add_interp\": 0.6266373991966248, \"mul_interp\": 0.583559513092041, \"copycat\": 0.5187951922416687}'"
      ]
     },
     "execution_count": 77,
     "metadata": {},
     "output_type": "execute_result"
    }
   ],
   "source": [
    "json.dumps({x: float(result[x]) for x in result})"
   ]
  },
  {
   "cell_type": "code",
   "execution_count": 104,
   "id": "logical-galaxy",
   "metadata": {},
   "outputs": [],
   "source": [
    "def plot_result(result, title='English, dropout 0.1'):\n",
    "    plt.bar(['Ignore', 'Unigram', 'Syntactic', 'Lexical', 'Add', 'Mul', 'Copycat'], [ x.detach() for x in\n",
    "        [result['ignore'],\n",
    "        result['unigram'],\n",
    "        result['outedge'],\n",
    "        result['bigram'],\n",
    "        result['add_interp'],\n",
    "        result['mul_interp'],\n",
    "        result['copycat']]\n",
    "    ])\n",
    "    plt.ylabel('Mean TVD')\n",
    "    plt.title(title)"
   ]
  },
  {
   "cell_type": "code",
   "execution_count": 151,
   "id": "social-alexandria",
   "metadata": {},
   "outputs": [
    {
     "data": {
      "image/png": "[encoded data removed]",
      "text/plain": [
       "<Figure size 432x288 with 1 Axes>"
      ]
     },
     "metadata": {
      "needs_background": "light"
     },
     "output_type": "display_data"
    }
   ],
   "source": [
    "plot_result(result, title = 'English, dropout 0.1 (valid loss 3.2)')"
   ]
  },
  {
   "cell_type": "code",
   "execution_count": 64,
   "id": "special-class",
   "metadata": {},
   "outputs": [],
   "source": [
    "import json"
   ]
  },
  {
   "cell_type": "code",
   "execution_count": 65,
   "id": "remarkable-withdrawal",
   "metadata": {},
   "outputs": [
    {
     "ename": "NameError",
     "evalue": "name 'result' is not defined",
     "output_type": "error",
     "traceback": [
      "\u001b[0;31m---------------------------------------------------------------------------\u001b[0m",
      "\u001b[0;31mNameError\u001b[0m                                 Traceback (most recent call last)",
      "\u001b[0;32m<ipython-input-65-5dc8b8668ad9>\u001b[0m in \u001b[0;36m<module>\u001b[0;34m\u001b[0m\n\u001b[0;32m----> 1\u001b[0;31m \u001b[0mjson\u001b[0m\u001b[0;34m.\u001b[0m\u001b[0mdumps\u001b[0m\u001b[0;34m(\u001b[0m\u001b[0mresult\u001b[0m\u001b[0;34m)\u001b[0m\u001b[0;34m\u001b[0m\u001b[0;34m\u001b[0m\u001b[0m\n\u001b[0m",
      "\u001b[0;31mNameError\u001b[0m: name 'result' is not defined"
     ]
    }
   ],
   "source": [
    "json.dumps(result)"
   ]
  },
  {
   "cell_type": "code",
   "execution_count": 158,
   "id": "terminal-gabriel",
   "metadata": {},
   "outputs": [
    {
     "data": {
      "application/vnd.jupyter.widget-view+json": {
       "model_id": "a72e7d4fb9ec48d083e72d8693da8b59",
       "version_major": 2,
       "version_minor": 0
      },
      "text/plain": [
       "HBox(children=(HTML(value=''), FloatProgress(value=0.0, max=56.0), HTML(value='')))"
      ]
     },
     "metadata": {},
     "output_type": "display_data"
    },
    {
     "name": "stdout",
     "output_type": "stream",
     "text": [
      "\n",
      "tensor(4.6644, device='cuda:0')\n"
     ]
    },
    {
     "data": {
      "application/vnd.jupyter.widget-view+json": {
       "model_id": "70bce96aff8a43af8662aaefd89963a0",
       "version_major": 2,
       "version_minor": 0
      },
      "text/plain": [
       "HBox(children=(HTML(value=''), FloatProgress(value=0.0, max=56.0), HTML(value='')))"
      ]
     },
     "metadata": {},
     "output_type": "display_data"
    },
    {
     "name": "stdout",
     "output_type": "stream",
     "text": [
      "\n",
      "tensor(-6.8212)\n"
     ]
    }
   ],
   "source": [
    "print(finnish_context.run_test(fn1))\n",
    "print(finnish_context.get_bigram_loss())"
   ]
  },
  {
   "cell_type": "code",
   "execution_count": 159,
   "id": "executive-wichita",
   "metadata": {},
   "outputs": [
    {
     "data": {
      "application/vnd.jupyter.widget-view+json": {
       "model_id": "143427373edf4e4e9c47c69963eb942f",
       "version_major": 2,
       "version_minor": 0
      },
      "text/plain": [
       "HBox(children=(HTML(value=''), FloatProgress(value=0.0, max=60.0), HTML(value='')))"
      ]
     },
     "metadata": {},
     "output_type": "display_data"
    },
    {
     "name": "stdout",
     "output_type": "stream",
     "text": [
      "\n",
      "tensor(5.6986, device='cuda:0')\n"
     ]
    },
    {
     "data": {
      "application/vnd.jupyter.widget-view+json": {
       "model_id": "b99a34d43bff40d1be1a4f710f8006be",
       "version_major": 2,
       "version_minor": 0
      },
      "text/plain": [
       "HBox(children=(HTML(value=''), FloatProgress(value=0.0, max=60.0), HTML(value='')))"
      ]
     },
     "metadata": {},
     "output_type": "display_data"
    },
    {
     "name": "stdout",
     "output_type": "stream",
     "text": [
      "\n",
      "tensor(-8.3197)\n"
     ]
    }
   ],
   "source": [
    "print(chinese_context.run_test(zh1))\n",
    "print(chinese_context.get_bigram_loss())"
   ]
  },
  {
   "cell_type": "code",
   "execution_count": 81,
   "id": "engaged-water",
   "metadata": {},
   "outputs": [
    {
     "data": {
      "application/vnd.jupyter.widget-view+json": {
       "model_id": "aad99dc626274c43b75f06c696fd9b50",
       "version_major": 2,
       "version_minor": 0
      },
      "text/plain": [
       "HBox(children=(HTML(value=''), FloatProgress(value=0.0, max=200.0), HTML(value='')))"
      ]
     },
     "metadata": {},
     "output_type": "display_data"
    },
    {
     "name": "stdout",
     "output_type": "stream",
     "text": [
      "\n"
     ]
    },
    {
     "data": {
      "application/vnd.jupyter.widget-view+json": {
       "model_id": "a2c8e302b656483da4f43554ef017d95",
       "version_major": 2,
       "version_minor": 0
      },
      "text/plain": [
       "HBox(children=(HTML(value=''), FloatProgress(value=0.0, max=200.0), HTML(value='')))"
      ]
     },
     "metadata": {},
     "output_type": "display_data"
    },
    {
     "name": "stdout",
     "output_type": "stream",
     "text": [
      "\n"
     ]
    },
    {
     "data": {
      "application/vnd.jupyter.widget-view+json": {
       "model_id": "9fd302fd357c41acbaf96d7ea092ec94",
       "version_major": 2,
       "version_minor": 0
      },
      "text/plain": [
       "HBox(children=(HTML(value=''), FloatProgress(value=0.0, max=200.0), HTML(value='')))"
      ]
     },
     "metadata": {},
     "output_type": "display_data"
    },
    {
     "name": "stdout",
     "output_type": "stream",
     "text": [
      "\n"
     ]
    },
    {
     "data": {
      "application/vnd.jupyter.widget-view+json": {
       "model_id": "8bb5db14b3fc4f9c895dc33b196cda24",
       "version_major": 2,
       "version_minor": 0
      },
      "text/plain": [
       "HBox(children=(HTML(value=''), FloatProgress(value=0.0, max=200.0), HTML(value='')))"
      ]
     },
     "metadata": {},
     "output_type": "display_data"
    },
    {
     "name": "stdout",
     "output_type": "stream",
     "text": [
      "\n"
     ]
    }
   ],
   "source": [
    "with torch.no_grad():finnish_results = finnish_context.all_hyp_for_model(fn1, copycat_model = fn2)"
   ]
  },
  {
   "cell_type": "code",
   "execution_count": 149,
   "id": "visible-parade",
   "metadata": {},
   "outputs": [
    {
     "data": {
      "image/png": "[encoded data removed]",
      "text/plain": [
       "<Figure size 432x288 with 1 Axes>"
      ]
     },
     "metadata": {
      "needs_background": "light"
     },
     "output_type": "display_data"
    }
   ],
   "source": [
    "plot_result(finnish_results, title = 'Finnish, no dropout (valid loss 4.7)')"
   ]
  },
  {
   "cell_type": "code",
   "execution_count": 82,
   "id": "promising-arrest",
   "metadata": {},
   "outputs": [
    {
     "data": {
      "application/vnd.jupyter.widget-view+json": {
       "model_id": "a9435d8187814b9b8323df0ca984e035",
       "version_major": 2,
       "version_minor": 0
      },
      "text/plain": [
       "HBox(children=(HTML(value=''), FloatProgress(value=0.0, max=200.0), HTML(value='')))"
      ]
     },
     "metadata": {},
     "output_type": "display_data"
    },
    {
     "name": "stdout",
     "output_type": "stream",
     "text": [
      "\n"
     ]
    },
    {
     "data": {
      "application/vnd.jupyter.widget-view+json": {
       "model_id": "ef9148735a0841b6bf3e42201f11c065",
       "version_major": 2,
       "version_minor": 0
      },
      "text/plain": [
       "HBox(children=(HTML(value=''), FloatProgress(value=0.0, max=200.0), HTML(value='')))"
      ]
     },
     "metadata": {},
     "output_type": "display_data"
    },
    {
     "name": "stdout",
     "output_type": "stream",
     "text": [
      "\n"
     ]
    },
    {
     "data": {
      "application/vnd.jupyter.widget-view+json": {
       "model_id": "a8c0db05557044e19f996f327df8a9e4",
       "version_major": 2,
       "version_minor": 0
      },
      "text/plain": [
       "HBox(children=(HTML(value=''), FloatProgress(value=0.0, max=200.0), HTML(value='')))"
      ]
     },
     "metadata": {},
     "output_type": "display_data"
    },
    {
     "name": "stdout",
     "output_type": "stream",
     "text": [
      "\n"
     ]
    },
    {
     "data": {
      "application/vnd.jupyter.widget-view+json": {
       "model_id": "2d6b2c76a60e46da8fd264d210302a30",
       "version_major": 2,
       "version_minor": 0
      },
      "text/plain": [
       "HBox(children=(HTML(value=''), FloatProgress(value=0.0, max=200.0), HTML(value='')))"
      ]
     },
     "metadata": {},
     "output_type": "display_data"
    },
    {
     "name": "stdout",
     "output_type": "stream",
     "text": [
      "\n"
     ]
    }
   ],
   "source": [
    "with torch.no_grad(): chinese_results = chinese_context.all_hyp_for_model(zh1, copycat_model = zh2)"
   ]
  },
  {
   "cell_type": "code",
   "execution_count": 161,
   "id": "charitable-grove",
   "metadata": {},
   "outputs": [
    {
     "data": {
      "image/png": "[encoded data removed]",
      "text/plain": [
       "<Figure size 432x288 with 1 Axes>"
      ]
     },
     "metadata": {
      "needs_background": "light"
     },
     "output_type": "display_data"
    }
   ],
   "source": [
    "plot_result(chinese_results, title = 'Chinese, no dropout (valid loss 5.7)')"
   ]
  },
  {
   "cell_type": "code",
   "execution_count": 165,
   "id": "closed-terror",
   "metadata": {},
   "outputs": [
    {
     "data": {
      "application/vnd.jupyter.widget-view+json": {
       "model_id": "c072aac078194fc288e0e28dd1b081c3",
       "version_major": 2,
       "version_minor": 0
      },
      "text/plain": [
       "HBox(children=(HTML(value=''), FloatProgress(value=0.0, max=200.0), HTML(value='')))"
      ]
     },
     "metadata": {},
     "output_type": "display_data"
    },
    {
     "name": "stdout",
     "output_type": "stream",
     "text": [
      "\n"
     ]
    }
   ],
   "source": [
    "jo"
   ]
  },
  {
   "cell_type": "code",
   "execution_count": 167,
   "id": "confused-preserve",
   "metadata": {},
   "outputs": [
    {
     "data": {
      "text/plain": [
       "tensor(0.5077, grad_fn=<DivBackward0>)"
      ]
     },
     "execution_count": 167,
     "metadata": {},
     "output_type": "execute_result"
    }
   ],
   "source": [
    "chinese_context.tvd(chinese_context.unigram_preds, actual)"
   ]
  },
  {
   "cell_type": "code",
   "execution_count": 212,
   "id": "appointed-atmosphere",
   "metadata": {},
   "outputs": [
    {
     "data": {
      "text/plain": [
       "tensor([1.8349e-01, 0.0000e+00, 6.3349e-02,  ..., 6.1266e-06, 6.1266e-06,\n",
       "        6.1266e-06])"
      ]
     },
     "execution_count": 212,
     "metadata": {},
     "output_type": "execute_result"
    },
    {
     "name": "stdout",
     "output_type": "stream",
     "text": [
      "The history saving thread hit an unexpected error (OperationalError('attempt to write a readonly database')).History will not be written to the database.\n"
     ]
    }
   ],
   "source": [
    "finnish_context.unigram"
   ]
  },
  {
   "cell_type": "code",
   "execution_count": 213,
   "id": "hydraulic-sapphire",
   "metadata": {},
   "outputs": [
    {
     "data": {
      "text/plain": [
       "tensor([5.3268e-02, 0.0000e+00, 5.2416e-02,  ..., 2.8939e-06, 2.8939e-06,\n",
       "        2.8939e-06])"
      ]
     },
     "execution_count": 213,
     "metadata": {},
     "output_type": "execute_result"
    }
   ],
   "source": [
    "english_context.unigram"
   ]
  },
  {
   "cell_type": "code",
   "execution_count": 83,
   "id": "metropolitan-march",
   "metadata": {},
   "outputs": [
    {
     "data": {
      "text/plain": [
       "'{\"unigram\": 0.5438895225524902, \"bigram\": 0.6961760520935059, \"outedge\": 0.4991966187953949, \"ignore\": 0.5026070475578308, \"add_interp\": 0.48344558477401733, \"mul_interp\": 0.4225654900074005, \"copycat\": 0.2934763431549072}'"
      ]
     },
     "execution_count": 83,
     "metadata": {},
     "output_type": "execute_result"
    }
   ],
   "source": [
    "json.dumps({x: float(finnish_results[x]) for x in finnish_results})"
   ]
  },
  {
   "cell_type": "code",
   "execution_count": null,
   "id": "combined-partnership",
   "metadata": {},
   "outputs": [],
   "source": [
    "json.dumps({x: float(chinese_results[x]) for x in })"
   ]
  },
  {
   "cell_type": "code",
   "execution_count": 88,
   "id": "encouraging-supplier",
   "metadata": {},
   "outputs": [
    {
     "data": {
      "text/plain": [
       "tensor([1.1601e-02, 0.0000e+00, 6.2363e-02,  ..., 1.0140e-05, 1.0140e-05,\n",
       "        1.0140e-05])"
      ]
     },
     "execution_count": 88,
     "metadata": {},
     "output_type": "execute_result"
    }
   ],
   "source": [
    "chinese_context.unigram_preds[0]"
   ]
  },
  {
   "cell_type": "code",
   "execution_count": 90,
   "id": "clinical-brick",
   "metadata": {},
   "outputs": [
    {
     "data": {
      "text/plain": [
       "tensor([1.1601e-02, 0.0000e+00, 6.2363e-02,  ..., 1.0140e-05, 1.0140e-05,\n",
       "        1.0140e-05])"
      ]
     },
     "execution_count": 90,
     "metadata": {},
     "output_type": "execute_result"
    }
   ],
   "source": [
    "chinese_context.bigrams.sum(1) / chinese_context.bigrams.sum()"
   ]
  },
  {
   "cell_type": "code",
   "execution_count": 93,
   "id": "innocent-sydney",
   "metadata": {},
   "outputs": [
    {
     "data": {
      "text/plain": [
       "tensor([1.8349e-01, 0.0000e+00, 6.3349e-02,  ..., 6.1266e-06, 6.1266e-06,\n",
       "        6.1266e-06])"
      ]
     },
     "execution_count": 93,
     "metadata": {},
     "output_type": "execute_result"
    }
   ],
   "source": [
    "finnish_context.bigrams.sum(1) / finnish_context.bigrams.sum()"
   ]
  },
  {
   "cell_type": "code",
   "execution_count": 94,
   "id": "activated-differential",
   "metadata": {},
   "outputs": [
    {
     "data": {
      "text/plain": [
       "tensor([5.3268e-02, 0.0000e+00, 5.2416e-02,  ..., 2.8939e-06, 2.8939e-06,\n",
       "        2.8939e-06])"
      ]
     },
     "execution_count": 94,
     "metadata": {},
     "output_type": "execute_result"
    }
   ],
   "source": [
    "english_context.bigrams.sum(1) / english_context.bigrams.sum()"
   ]
  },
  {
   "cell_type": "code",
   "execution_count": 33,
   "id": "better-jenny",
   "metadata": {},
   "outputs": [
    {
     "ename": "NameError",
     "evalue": "name 'load_best_transformer_model_from' is not defined",
     "output_type": "error",
     "traceback": [
      "\u001b[0;31m---------------------------------------------------------------------------\u001b[0m",
      "\u001b[0;31mNameError\u001b[0m                                 Traceback (most recent call last)",
      "\u001b[0;32m<ipython-input-33-9ffa37bbf787>\u001b[0m in \u001b[0;36m<module>\u001b[0;34m\u001b[0m\n\u001b[0;32m----> 1\u001b[0;31m \u001b[0met1\u001b[0m\u001b[0;34m,\u001b[0m \u001b[0met2\u001b[0m \u001b[0;34m=\u001b[0m \u001b[0mload_best_transformer_model_from\u001b[0m\u001b[0;34m(\u001b[0m\u001b[0;34m'/raid/lingo/abau/lm/monolingual-models/transformer-1-sd-20k-bpe'\u001b[0m\u001b[0;34m)\u001b[0m\u001b[0;34m,\u001b[0m \u001b[0mload_best_transformer_model_from\u001b[0m\u001b[0;34m(\u001b[0m\u001b[0;34m'/raid/lingo/abau/lm/monolingual-models/transformer-2-sd-20k-bpe'\u001b[0m\u001b[0;34m)\u001b[0m\u001b[0;34m\u001b[0m\u001b[0;34m\u001b[0m\u001b[0m\n\u001b[0m",
      "\u001b[0;31mNameError\u001b[0m: name 'load_best_transformer_model_from' is not defined"
     ]
    }
   ],
   "source": [
    "et1, et2 = load_best_transformer_model_from('/raid/lingo/abau/lm/monolingual-models/transformer-1-sd-20k-bpe'), load_best_transformer_model_from('/raid/lingo/abau/lm/monolingual-models/transformer-2-sd-20k-bpe')"
   ]
  },
  {
   "cell_type": "code",
   "execution_count": 106,
   "id": "floating-registrar",
   "metadata": {},
   "outputs": [],
   "source": [
    "fnt1, fnt2 = load_best_transformer_model_from('/raid/lingo/abau/lm/monolingual-models/transformer-1-sd-finnish-bpe'), load_best_transformer_model_from('/raid/lingo/abau/lm/monolingual-models/transformer-2-sd-finnish-bpe')"
   ]
  },
  {
   "cell_type": "code",
   "execution_count": 102,
   "id": "sixth-johns",
   "metadata": {},
   "outputs": [
    {
     "data": {
      "application/vnd.jupyter.widget-view+json": {
       "model_id": "2b748d1b58c5497a869f06ec73cad8ee",
       "version_major": 2,
       "version_minor": 0
      },
      "text/plain": [
       "HBox(children=(HTML(value=''), FloatProgress(value=0.0, max=200.0), HTML(value='')))"
      ]
     },
     "metadata": {},
     "output_type": "display_data"
    },
    {
     "name": "stdout",
     "output_type": "stream",
     "text": [
      "\n"
     ]
    },
    {
     "data": {
      "application/vnd.jupyter.widget-view+json": {
       "model_id": "5b34e09246394523bf595309c640c317",
       "version_major": 2,
       "version_minor": 0
      },
      "text/plain": [
       "HBox(children=(HTML(value=''), FloatProgress(value=0.0, max=200.0), HTML(value='')))"
      ]
     },
     "metadata": {},
     "output_type": "display_data"
    },
    {
     "name": "stdout",
     "output_type": "stream",
     "text": [
      "\n"
     ]
    },
    {
     "data": {
      "application/vnd.jupyter.widget-view+json": {
       "model_id": "f4c5cdc4c1fa4bd8bc082736bc21b27e",
       "version_major": 2,
       "version_minor": 0
      },
      "text/plain": [
       "HBox(children=(HTML(value=''), FloatProgress(value=0.0, max=200.0), HTML(value='')))"
      ]
     },
     "metadata": {},
     "output_type": "display_data"
    },
    {
     "name": "stdout",
     "output_type": "stream",
     "text": [
      "\n"
     ]
    },
    {
     "data": {
      "application/vnd.jupyter.widget-view+json": {
       "model_id": "5e892ac073024d068a30cc3865ec4f0b",
       "version_major": 2,
       "version_minor": 0
      },
      "text/plain": [
       "HBox(children=(HTML(value=''), FloatProgress(value=0.0, max=200.0), HTML(value='')))"
      ]
     },
     "metadata": {},
     "output_type": "display_data"
    },
    {
     "name": "stdout",
     "output_type": "stream",
     "text": [
      "\n"
     ]
    }
   ],
   "source": [
    "with torch.no_grad():\n",
    "    et_results = english_bpe_context.all_hyp_for_transformer(et1, copycat_model=et2)"
   ]
  },
  {
   "cell_type": "code",
   "execution_count": 107,
   "id": "greek-cholesterol",
   "metadata": {},
   "outputs": [
    {
     "data": {
      "application/vnd.jupyter.widget-view+json": {
       "model_id": "f24c862d22d84df4a4644d1dc4fc19a1",
       "version_major": 2,
       "version_minor": 0
      },
      "text/plain": [
       "HBox(children=(HTML(value=''), FloatProgress(value=0.0, max=200.0), HTML(value='')))"
      ]
     },
     "metadata": {},
     "output_type": "display_data"
    },
    {
     "name": "stderr",
     "output_type": "stream",
     "text": [
      "/lingo/abau/language-models/hypo/preds.py:120: UserWarning: Implicit dimension choice for softmax has been deprecated. Change the call to include dim=X as an argument.\n",
      "  initial = torch.nn.functional.softmax(transformer_pred(transformer, seq.unsqueeze(0)))\n"
     ]
    },
    {
     "name": "stdout",
     "output_type": "stream",
     "text": [
      "\n"
     ]
    },
    {
     "data": {
      "application/vnd.jupyter.widget-view+json": {
       "model_id": "0ec50ff3b4344f7f9bcca0e43ee09ab3",
       "version_major": 2,
       "version_minor": 0
      },
      "text/plain": [
       "HBox(children=(HTML(value=''), FloatProgress(value=0.0, max=200.0), HTML(value='')))"
      ]
     },
     "metadata": {},
     "output_type": "display_data"
    },
    {
     "name": "stdout",
     "output_type": "stream",
     "text": [
      "\n"
     ]
    },
    {
     "data": {
      "application/vnd.jupyter.widget-view+json": {
       "model_id": "e94656303fc4489f87e914de4dd3b932",
       "version_major": 2,
       "version_minor": 0
      },
      "text/plain": [
       "HBox(children=(HTML(value=''), FloatProgress(value=0.0, max=200.0), HTML(value='')))"
      ]
     },
     "metadata": {},
     "output_type": "display_data"
    },
    {
     "name": "stdout",
     "output_type": "stream",
     "text": [
      "\n"
     ]
    },
    {
     "data": {
      "application/vnd.jupyter.widget-view+json": {
       "model_id": "d429ab44ee164ebdbfae14758f90360a",
       "version_major": 2,
       "version_minor": 0
      },
      "text/plain": [
       "HBox(children=(HTML(value=''), FloatProgress(value=0.0, max=200.0), HTML(value='')))"
      ]
     },
     "metadata": {},
     "output_type": "display_data"
    },
    {
     "name": "stdout",
     "output_type": "stream",
     "text": [
      "\n"
     ]
    }
   ],
   "source": [
    "with torch.no_grad():\n",
    "    fnt_results = finnish_bpe_context.all_hyp_for_transformer(fnt1, copycat_model=fnt2)"
   ]
  },
  {
   "cell_type": "code",
   "execution_count": 117,
   "id": "continuing-quarter",
   "metadata": {},
   "outputs": [
    {
     "data": {
      "text/plain": [
       "{'unigram': 0.6155282258987427,\n",
       " 'bigram': 0.6622210741043091,\n",
       " 'outedge': 0.6666368246078491,\n",
       " 'ignore': 0.7326148152351379,\n",
       " 'add_interp': 0.5568457245826721,\n",
       " 'mul_interp': 0.5427842736244202,\n",
       " 'copycat': 0.5118857622146606}"
      ]
     },
     "execution_count": 117,
     "metadata": {},
     "output_type": "execute_result"
    }
   ],
   "source": [
    "{x: float(fnt_results[x]) for x in fnt_results}"
   ]
  },
  {
   "cell_type": "code",
   "execution_count": 118,
   "id": "separate-theta",
   "metadata": {},
   "outputs": [
    {
     "data": {
      "text/plain": [
       "{'unigram': 0.6155282258987427,\n",
       " 'bigram': 0.6622210741043091,\n",
       " 'outedge': 0.6666368246078491,\n",
       " 'ignore': 0.7326148152351379,\n",
       " 'add_interp': 0.5568457245826721,\n",
       " 'mul_interp': 0.5427842736244202,\n",
       " 'copycat': 0.5118857622146606}"
      ]
     },
     "execution_count": 118,
     "metadata": {},
     "output_type": "execute_result"
    }
   ],
   "source": [
    "{x: float(fnt_results[x]) for x in fnt_results}"
   ]
  },
  {
   "cell_type": "code",
   "execution_count": 120,
   "id": "preceding-shaft",
   "metadata": {},
   "outputs": [],
   "source": [
    "zht1, zht2 = load_best_transformer_model_from('/raid/lingo/abau/lm/monolingual-models/transformer-1-sd-chinese'), load_best_transformer_model_from('/raid/lingo/abau/lm/monolingual-models/transformer-2-sd-chinese')"
   ]
  },
  {
   "cell_type": "code",
   "execution_count": 123,
   "id": "naked-lobby",
   "metadata": {},
   "outputs": [],
   "source": [
    "zh1 = load_best_model_from('/raid/lingo/abau/lm/monolingual-models/chinese-1')"
   ]
  },
  {
   "cell_type": "code",
   "execution_count": 154,
   "id": "structural-wrong",
   "metadata": {},
   "outputs": [
    {
     "name": "stderr",
     "output_type": "stream",
     "text": [
      "/lingo/abau/language-models/interactive.py:49: VisibleDeprecationWarning: Creating an ndarray from ragged nested sequences (which is a list-or-tuple of lists-or-tuples-or ndarrays with different lengths or shapes) is deprecated. If you meant to do this, you must specify 'dtype=object' when creating the ndarray\n",
      "  self.trunc_subpool = np.random.choice(self.trunc_pool, 200, replace=False)\n"
     ]
    }
   ],
   "source": [
    "chinese_context = TestingContext('/raid/lingo/abau/lm/chinese-vocab.pt',\n",
    "                      '/raid/lingo/abau/lm/chinese-corpus',\n",
    "                      '/raid/lingo/abau/lm/chinese-bigrams.pt')"
   ]
  },
  {
   "cell_type": "code",
   "execution_count": 155,
   "id": "sealed-execution",
   "metadata": {},
   "outputs": [],
   "source": [
    "pool = chinese_context.generate_surprises(zh1)"
   ]
  },
  {
   "cell_type": "code",
   "execution_count": 129,
   "id": "bright-extra",
   "metadata": {},
   "outputs": [
    {
     "name": "stderr",
     "output_type": "stream",
     "text": [
      "/lingo/abau/language-models/interactive.py:49: VisibleDeprecationWarning: Creating an ndarray from ragged nested sequences (which is a list-or-tuple of lists-or-tuples-or ndarrays with different lengths or shapes) is deprecated. If you meant to do this, you must specify 'dtype=object' when creating the ndarray\n",
      "  self.trunc_subpool = np.random.choice(self.trunc_pool, 200, replace=False)\n"
     ]
    }
   ],
   "source": [
    "chinese_context = TestingContext('/raid/lingo/abau/lm/chinese-vocab.pt',\n",
    "                      '/raid/lingo/abau/lm/chinese-corpus',\n",
    "                      '/raid/lingo/abau/lm/chinese-bigrams.pt')"
   ]
  },
  {
   "cell_type": "code",
   "execution_count": 133,
   "id": "successful-collapse",
   "metadata": {},
   "outputs": [
    {
     "data": {
      "application/vnd.jupyter.widget-view+json": {
       "model_id": "bc9ee5e8a578495b9df4d64240d3e032",
       "version_major": 2,
       "version_minor": 0
      },
      "text/plain": [
       "HBox(children=(HTML(value=''), FloatProgress(value=0.0, max=200.0), HTML(value='')))"
      ]
     },
     "metadata": {},
     "output_type": "display_data"
    },
    {
     "name": "stdout",
     "output_type": "stream",
     "text": [
      "\n"
     ]
    },
    {
     "data": {
      "application/vnd.jupyter.widget-view+json": {
       "model_id": "33e15929b2094095bdc406658a4f2e72",
       "version_major": 2,
       "version_minor": 0
      },
      "text/plain": [
       "HBox(children=(HTML(value=''), FloatProgress(value=0.0, max=200.0), HTML(value='')))"
      ]
     },
     "metadata": {},
     "output_type": "display_data"
    },
    {
     "name": "stdout",
     "output_type": "stream",
     "text": [
      "\n"
     ]
    },
    {
     "data": {
      "application/vnd.jupyter.widget-view+json": {
       "model_id": "24161744a1b749d0941aa8c1bdf95244",
       "version_major": 2,
       "version_minor": 0
      },
      "text/plain": [
       "HBox(children=(HTML(value=''), FloatProgress(value=0.0, max=200.0), HTML(value='')))"
      ]
     },
     "metadata": {},
     "output_type": "display_data"
    },
    {
     "name": "stdout",
     "output_type": "stream",
     "text": [
      "\n"
     ]
    },
    {
     "data": {
      "application/vnd.jupyter.widget-view+json": {
       "model_id": "6014e63b148446bb9da65b86c88362f9",
       "version_major": 2,
       "version_minor": 0
      },
      "text/plain": [
       "HBox(children=(HTML(value=''), FloatProgress(value=0.0, max=200.0), HTML(value='')))"
      ]
     },
     "metadata": {},
     "output_type": "display_data"
    },
    {
     "name": "stdout",
     "output_type": "stream",
     "text": [
      "\n"
     ]
    }
   ],
   "source": [
    "with torch.no_grad():\n",
    "    zht_results = chinese_context.all_hyp_for_transformer(zht1, copycat_model=zht2)"
   ]
  },
  {
   "cell_type": "code",
   "execution_count": 14,
   "id": "deadly-basement",
   "metadata": {},
   "outputs": [
    {
     "data": {
      "application/vnd.jupyter.widget-view+json": {
       "model_id": "52e6034908524d0aa78031ed6a766666",
       "version_major": 2,
       "version_minor": 0
      },
      "text/plain": [
       "HBox(children=(HTML(value=''), FloatProgress(value=1.0, bar_style='info', layout=Layout(width='20px'), max=1.0…"
      ]
     },
     "metadata": {},
     "output_type": "display_data"
    },
    {
     "name": "stdout",
     "output_type": "stream",
     "text": [
      "\n"
     ]
    },
    {
     "ename": "TypeError",
     "evalue": "'NoneType' object is not iterable",
     "output_type": "error",
     "traceback": [
      "\u001b[0;31m---------------------------------------------------------------------------\u001b[0m",
      "\u001b[0;31mTypeError\u001b[0m                                 Traceback (most recent call last)",
      "\u001b[0;32m<ipython-input-14-429e4e7c1702>\u001b[0m in \u001b[0;36m<module>\u001b[0;34m\u001b[0m\n\u001b[0;32m----> 1\u001b[0;31m \u001b[0moutedge\u001b[0m \u001b[0;34m=\u001b[0m \u001b[0menglish_bpe_context\u001b[0m\u001b[0;34m.\u001b[0m\u001b[0moutedge_for_model\u001b[0m\u001b[0;34m(\u001b[0m\u001b[0msubst_english_bpe_copycats\u001b[0m\u001b[0;34m[\u001b[0m\u001b[0;36m0\u001b[0m\u001b[0;34m]\u001b[0m\u001b[0;34m)\u001b[0m\u001b[0;34m\u001b[0m\u001b[0;34m\u001b[0m\u001b[0m\n\u001b[0m",
      "\u001b[0;32m/lingo/abau/language-models/interactive.py\u001b[0m in \u001b[0;36moutedge_for_model\u001b[0;34m(self, model)\u001b[0m\n\u001b[1;32m    181\u001b[0m     \u001b[0;32mdef\u001b[0m \u001b[0moutedge_for_model\u001b[0m\u001b[0;34m(\u001b[0m\u001b[0mself\u001b[0m\u001b[0;34m,\u001b[0m \u001b[0mmodel\u001b[0m\u001b[0;34m)\u001b[0m\u001b[0;34m:\u001b[0m\u001b[0;34m\u001b[0m\u001b[0;34m\u001b[0m\u001b[0m\n\u001b[1;32m    182\u001b[0m         return torch.stack(\n\u001b[0;32m--> 183\u001b[0;31m             \u001b[0;34m[\u001b[0m \u001b[0mpreds\u001b[0m\u001b[0;34m.\u001b[0m\u001b[0moutedge\u001b[0m\u001b[0;34m(\u001b[0m\u001b[0mmodel\u001b[0m\u001b[0;34m,\u001b[0m \u001b[0mtorch\u001b[0m\u001b[0;34m.\u001b[0m\u001b[0mLongTensor\u001b[0m\u001b[0;34m(\u001b[0m\u001b[0mseq\u001b[0m\u001b[0;34m)\u001b[0m\u001b[0;34m.\u001b[0m\u001b[0munsqueeze\u001b[0m\u001b[0;34m(\u001b[0m\u001b[0;36m0\u001b[0m\u001b[0;34m)\u001b[0m\u001b[0;34m,\u001b[0m \u001b[0;34m[\u001b[0m\u001b[0;36m0\u001b[0m\u001b[0;34m,\u001b[0m \u001b[0;36m1\u001b[0m\u001b[0;34m]\u001b[0m\u001b[0;34m,\u001b[0m \u001b[0;36m15\u001b[0m\u001b[0;34m)\u001b[0m \u001b[0;32mfor\u001b[0m \u001b[0mseq\u001b[0m \u001b[0;32min\u001b[0m \u001b[0mtqdm\u001b[0m\u001b[0;34m(\u001b[0m\u001b[0mself\u001b[0m\u001b[0;34m.\u001b[0m\u001b[0msubpool\u001b[0m\u001b[0;34m)\u001b[0m \u001b[0;34m]\u001b[0m\u001b[0;34m\u001b[0m\u001b[0;34m\u001b[0m\u001b[0m\n\u001b[0m\u001b[1;32m    184\u001b[0m         ).squeeze()\n\u001b[1;32m    185\u001b[0m \u001b[0;34m\u001b[0m\u001b[0m\n",
      "\u001b[0;32m/lingo/abau/language-models/interactive.py\u001b[0m in \u001b[0;36m<listcomp>\u001b[0;34m(.0)\u001b[0m\n\u001b[1;32m    181\u001b[0m     \u001b[0;32mdef\u001b[0m \u001b[0moutedge_for_model\u001b[0m\u001b[0;34m(\u001b[0m\u001b[0mself\u001b[0m\u001b[0;34m,\u001b[0m \u001b[0mmodel\u001b[0m\u001b[0;34m)\u001b[0m\u001b[0;34m:\u001b[0m\u001b[0;34m\u001b[0m\u001b[0;34m\u001b[0m\u001b[0m\n\u001b[1;32m    182\u001b[0m         return torch.stack(\n\u001b[0;32m--> 183\u001b[0;31m             \u001b[0;34m[\u001b[0m \u001b[0mpreds\u001b[0m\u001b[0;34m.\u001b[0m\u001b[0moutedge\u001b[0m\u001b[0;34m(\u001b[0m\u001b[0mmodel\u001b[0m\u001b[0;34m,\u001b[0m \u001b[0mtorch\u001b[0m\u001b[0;34m.\u001b[0m\u001b[0mLongTensor\u001b[0m\u001b[0;34m(\u001b[0m\u001b[0mseq\u001b[0m\u001b[0;34m)\u001b[0m\u001b[0;34m.\u001b[0m\u001b[0munsqueeze\u001b[0m\u001b[0;34m(\u001b[0m\u001b[0;36m0\u001b[0m\u001b[0;34m)\u001b[0m\u001b[0;34m,\u001b[0m \u001b[0;34m[\u001b[0m\u001b[0;36m0\u001b[0m\u001b[0;34m,\u001b[0m \u001b[0;36m1\u001b[0m\u001b[0;34m]\u001b[0m\u001b[0;34m,\u001b[0m \u001b[0;36m15\u001b[0m\u001b[0;34m)\u001b[0m \u001b[0;32mfor\u001b[0m \u001b[0mseq\u001b[0m \u001b[0;32min\u001b[0m \u001b[0mtqdm\u001b[0m\u001b[0;34m(\u001b[0m\u001b[0mself\u001b[0m\u001b[0;34m.\u001b[0m\u001b[0msubpool\u001b[0m\u001b[0;34m)\u001b[0m \u001b[0;34m]\u001b[0m\u001b[0;34m\u001b[0m\u001b[0;34m\u001b[0m\u001b[0m\n\u001b[0m\u001b[1;32m    184\u001b[0m         ).squeeze()\n\u001b[1;32m    185\u001b[0m \u001b[0;34m\u001b[0m\u001b[0m\n",
      "\u001b[0;32m/lingo/abau/miniconda3/lib/python3.8/site-packages/tqdm/notebook.py\u001b[0m in \u001b[0;36m__iter__\u001b[0;34m(self, *args, **kwargs)\u001b[0m\n\u001b[1;32m    232\u001b[0m     \u001b[0;32mdef\u001b[0m \u001b[0m__iter__\u001b[0m\u001b[0;34m(\u001b[0m\u001b[0mself\u001b[0m\u001b[0;34m,\u001b[0m \u001b[0;34m*\u001b[0m\u001b[0margs\u001b[0m\u001b[0;34m,\u001b[0m \u001b[0;34m**\u001b[0m\u001b[0mkwargs\u001b[0m\u001b[0;34m)\u001b[0m\u001b[0;34m:\u001b[0m\u001b[0;34m\u001b[0m\u001b[0;34m\u001b[0m\u001b[0m\n\u001b[1;32m    233\u001b[0m         \u001b[0;32mtry\u001b[0m\u001b[0;34m:\u001b[0m\u001b[0;34m\u001b[0m\u001b[0;34m\u001b[0m\u001b[0m\n\u001b[0;32m--> 234\u001b[0;31m             \u001b[0;32mfor\u001b[0m \u001b[0mobj\u001b[0m \u001b[0;32min\u001b[0m \u001b[0msuper\u001b[0m\u001b[0;34m(\u001b[0m\u001b[0mtqdm_notebook\u001b[0m\u001b[0;34m,\u001b[0m \u001b[0mself\u001b[0m\u001b[0;34m)\u001b[0m\u001b[0;34m.\u001b[0m\u001b[0m__iter__\u001b[0m\u001b[0;34m(\u001b[0m\u001b[0;34m*\u001b[0m\u001b[0margs\u001b[0m\u001b[0;34m,\u001b[0m \u001b[0;34m**\u001b[0m\u001b[0mkwargs\u001b[0m\u001b[0;34m)\u001b[0m\u001b[0;34m:\u001b[0m\u001b[0;34m\u001b[0m\u001b[0;34m\u001b[0m\u001b[0m\n\u001b[0m\u001b[1;32m    235\u001b[0m                 \u001b[0;31m# return super(tqdm...) will not catch exception\u001b[0m\u001b[0;34m\u001b[0m\u001b[0;34m\u001b[0m\u001b[0;34m\u001b[0m\u001b[0m\n\u001b[1;32m    236\u001b[0m                 \u001b[0;32myield\u001b[0m \u001b[0mobj\u001b[0m\u001b[0;34m\u001b[0m\u001b[0;34m\u001b[0m\u001b[0m\n",
      "\u001b[0;32m/lingo/abau/miniconda3/lib/python3.8/site-packages/tqdm/std.py\u001b[0m in \u001b[0;36m__iter__\u001b[0;34m(self)\u001b[0m\n\u001b[1;32m   1169\u001b[0m \u001b[0;34m\u001b[0m\u001b[0m\n\u001b[1;32m   1170\u001b[0m         \u001b[0;32mtry\u001b[0m\u001b[0;34m:\u001b[0m\u001b[0;34m\u001b[0m\u001b[0;34m\u001b[0m\u001b[0m\n\u001b[0;32m-> 1171\u001b[0;31m             \u001b[0;32mfor\u001b[0m \u001b[0mobj\u001b[0m \u001b[0;32min\u001b[0m \u001b[0miterable\u001b[0m\u001b[0;34m:\u001b[0m\u001b[0;34m\u001b[0m\u001b[0;34m\u001b[0m\u001b[0m\n\u001b[0m\u001b[1;32m   1172\u001b[0m                 \u001b[0;32myield\u001b[0m \u001b[0mobj\u001b[0m\u001b[0;34m\u001b[0m\u001b[0;34m\u001b[0m\u001b[0m\n\u001b[1;32m   1173\u001b[0m                 \u001b[0;31m# Update and possibly print the progressbar.\u001b[0m\u001b[0;34m\u001b[0m\u001b[0;34m\u001b[0m\u001b[0;34m\u001b[0m\u001b[0m\n",
      "\u001b[0;31mTypeError\u001b[0m: 'NoneType' object is not iterable"
     ]
    }
   ],
   "source": [
    "outedge = english_bpe_context.outedge_for_model(subst_english_bpe_copycats[0])"
   ]
  },
  {
   "cell_type": "code",
   "execution_count": 6,
   "id": "flexible-conclusion",
   "metadata": {},
   "outputs": [
    {
     "data": {
      "application/vnd.jupyter.widget-view+json": {
       "model_id": "7ece02cc9f7246c2bc29aaf36f6dc1f0",
       "version_major": 2,
       "version_minor": 0
      },
      "text/plain": [
       "HBox(children=(HTML(value=''), FloatProgress(value=0.0, max=200.0), HTML(value='')))"
      ]
     },
     "metadata": {},
     "output_type": "display_data"
    },
    {
     "name": "stdout",
     "output_type": "stream",
     "text": [
      "\n"
     ]
    }
   ],
   "source": [
    "actual = english_bpe_context.actual_for_model(subst_english_bpe[0])"
   ]
  },
  {
   "cell_type": "code",
   "execution_count": 7,
   "id": "pressed-transformation",
   "metadata": {},
   "outputs": [
    {
     "ename": "NameError",
     "evalue": "name 'outedge' is not defined",
     "output_type": "error",
     "traceback": [
      "\u001b[0;31m---------------------------------------------------------------------------\u001b[0m",
      "\u001b[0;31mNameError\u001b[0m                                 Traceback (most recent call last)",
      "\u001b[0;32m<ipython-input-7-da62af11d4c0>\u001b[0m in \u001b[0;36m<module>\u001b[0;34m\u001b[0m\n\u001b[0;32m----> 1\u001b[0;31m \u001b[0mmul_curve\u001b[0m \u001b[0;34m=\u001b[0m \u001b[0menglish_bpe_context\u001b[0m\u001b[0;34m.\u001b[0m\u001b[0mmul_interpolation_curve\u001b[0m\u001b[0;34m(\u001b[0m\u001b[0moutedge\u001b[0m\u001b[0;34m,\u001b[0m \u001b[0mactual\u001b[0m\u001b[0;34m)\u001b[0m\u001b[0;34m\u001b[0m\u001b[0;34m\u001b[0m\u001b[0m\n\u001b[0m",
      "\u001b[0;31mNameError\u001b[0m: name 'outedge' is not defined"
     ]
    }
   ],
   "source": [
    "mul_curve = english_bpe_context.mul_interpolation_curve(outedge, actual)"
   ]
  },
  {
   "cell_type": "code",
   "execution_count": 167,
   "id": "continuing-truth",
   "metadata": {},
   "outputs": [
    {
     "data": {
      "text/plain": [
       "[0.6018456220626831,\n",
       " 0.5970312356948853,\n",
       " 0.592349648475647,\n",
       " 0.5879195928573608,\n",
       " 0.5837442874908447,\n",
       " 0.5798145532608032,\n",
       " 0.5761176347732544,\n",
       " 0.572596549987793,\n",
       " 0.569291353225708,\n",
       " 0.5661131739616394,\n",
       " 0.5631415247917175,\n",
       " 0.5604475736618042,\n",
       " 0.5578622221946716,\n",
       " 0.5554110407829285,\n",
       " 0.5531212091445923,\n",
       " 0.5509652495384216,\n",
       " 0.5489981770515442,\n",
       " 0.5471689105033875,\n",
       " 0.5454025268554688,\n",
       " 0.5436927676200867,\n",
       " 0.5421533584594727,\n",
       " 0.5407543778419495,\n",
       " 0.5395104289054871,\n",
       " 0.5386592149734497,\n",
       " 0.5382264852523804,\n",
       " 0.5381485819816589,\n",
       " 0.5383684039115906,\n",
       " 0.5388984084129333,\n",
       " 0.5397411584854126,\n",
       " 0.5409273505210876,\n",
       " 0.5425193905830383,\n",
       " 0.5445702075958252,\n",
       " 0.5471201539039612,\n",
       " 0.5501631498336792,\n",
       " 0.5537076592445374,\n",
       " 0.5577157735824585,\n",
       " 0.5622584819793701,\n",
       " 0.5673052668571472,\n",
       " 0.5728585124015808,\n",
       " 0.5788741707801819,\n",
       " 0.5853791832923889,\n",
       " 0.5925194621086121,\n",
       " 0.6002404689788818,\n",
       " 0.6084297895431519,\n",
       " 0.616963803768158,\n",
       " 0.625968337059021,\n",
       " 0.6353785991668701,\n",
       " 0.6450864672660828,\n",
       " 0.654979944229126,\n",
       " 0.6651334166526794]"
      ]
     },
     "execution_count": 167,
     "metadata": {},
     "output_type": "execute_result"
    }
   ],
   "source": [
    "[float(x) for x in mul_curve[1]]"
   ]
  },
  {
   "cell_type": "code",
   "execution_count": 140,
   "id": "civil-nation",
   "metadata": {},
   "outputs": [
    {
     "data": {
      "text/plain": [
       "{'chinese_transformer': {'unigram': 0.5229887962341309,\n",
       "  'bigram': 0.7513302564620972,\n",
       "  'outedge': 0.5828443765640259,\n",
       "  'ignore': 0.6300477385520935,\n",
       "  'add_interp': 0.5532901883125305,\n",
       "  'mul_interp': 0.5365908741950989,\n",
       "  'copycat': 0.508683979511261},\n",
       " 'english_transformer': {'unigram': 0.6500980854034424,\n",
       "  'bigram': 0.5090360641479492,\n",
       "  'outedge': 0.715187132358551,\n",
       "  'ignore': 0.7869880795478821,\n",
       "  'add_interp': 0.4787653684616089,\n",
       "  'mul_interp': 0.4868844151496887,\n",
       "  'copycat': 0.4102855324745178},\n",
       " 'finnish-transformer': {'unigram': 0.6155282258987427,\n",
       "  'bigram': 0.6622210741043091,\n",
       "  'outedge': 0.6666368246078491,\n",
       "  'ignore': 0.7326148152351379,\n",
       "  'add_interp': 0.5568457245826721,\n",
       "  'mul_interp': 0.5427842736244202,\n",
       "  'copycat': 0.5118857622146606}}"
      ]
     },
     "execution_count": 140,
     "metadata": {},
     "output_type": "execute_result"
    }
   ],
   "source": [
    "{\n",
    "    'chinese_transformer': {x: float(zht_results[x]) for x in zht_results},\n",
    "    'english_transformer': {x: float(et_results[x]) for x in et_results},\n",
    "    'finnish-transformer': {x: float(fnt_results[x]) for x in fnt_results}\n",
    "}"
   ]
  },
  {
   "cell_type": "code",
   "execution_count": 171,
   "id": "governing-designer",
   "metadata": {},
   "outputs": [
    {
     "data": {
      "application/vnd.jupyter.widget-view+json": {
       "model_id": "e20388ad91ba458bbb843571c2dc21f3",
       "version_major": 2,
       "version_minor": 0
      },
      "text/plain": [
       "HBox(children=(HTML(value=''), FloatProgress(value=0.0, max=200.0), HTML(value='')))"
      ]
     },
     "metadata": {},
     "output_type": "display_data"
    },
    {
     "name": "stdout",
     "output_type": "stream",
     "text": [
      "\n"
     ]
    },
    {
     "data": {
      "application/vnd.jupyter.widget-view+json": {
       "model_id": "c2bedf9abdc0417cba6e35ad1a6ab298",
       "version_major": 2,
       "version_minor": 0
      },
      "text/plain": [
       "HBox(children=(HTML(value=''), FloatProgress(value=0.0, max=200.0), HTML(value='')))"
      ]
     },
     "metadata": {},
     "output_type": "display_data"
    },
    {
     "name": "stdout",
     "output_type": "stream",
     "text": [
      "\n"
     ]
    },
    {
     "data": {
      "application/vnd.jupyter.widget-view+json": {
       "model_id": "e594c045fde34ae28e254f8d616916e7",
       "version_major": 2,
       "version_minor": 0
      },
      "text/plain": [
       "HBox(children=(HTML(value=''), FloatProgress(value=0.0, max=200.0), HTML(value='')))"
      ]
     },
     "metadata": {},
     "output_type": "display_data"
    },
    {
     "name": "stdout",
     "output_type": "stream",
     "text": [
      "\n"
     ]
    },
    {
     "data": {
      "application/vnd.jupyter.widget-view+json": {
       "model_id": "1c31cd193238452db9c496c2a3e0871b",
       "version_major": 2,
       "version_minor": 0
      },
      "text/plain": [
       "HBox(children=(HTML(value=''), FloatProgress(value=0.0, max=200.0), HTML(value='')))"
      ]
     },
     "metadata": {},
     "output_type": "display_data"
    },
    {
     "name": "stdout",
     "output_type": "stream",
     "text": [
      "\n"
     ]
    }
   ],
   "source": [
    "sm_bpe_english = english_bpe_context.all_hyp_for_model(subst_english_bpe[0], copycat_model=subst_english_bpe_copycats[0])"
   ]
  },
  {
   "cell_type": "code",
   "execution_count": 173,
   "id": "crazy-hanging",
   "metadata": {},
   "outputs": [
    {
     "data": {
      "text/plain": [
       "{'unigram': 0.6387753486633301,\n",
       " 'bigram': 0.611878514289856,\n",
       " 'outedge': 0.6651336550712585,\n",
       " 'ignore': 0.6889258027076721,\n",
       " 'add_interp': 0.5392294526100159,\n",
       " 'mul_interp': 0.5381485819816589,\n",
       " 'copycat': 0.36994701623916626}"
      ]
     },
     "execution_count": 173,
     "metadata": {},
     "output_type": "execute_result"
    }
   ],
   "source": [
    "{x: float(sm_bpe_english[x]) for x in sm_bpe_english}"
   ]
  },
  {
   "cell_type": "code",
   "execution_count": 11,
   "id": "eleven-cargo",
   "metadata": {},
   "outputs": [],
   "source": [
    "import seaborn as sns"
   ]
  },
  {
   "cell_type": "code",
   "execution_count": 12,
   "id": "alive-button",
   "metadata": {},
   "outputs": [],
   "source": [
    "import pandas as pd"
   ]
  },
  {
   "cell_type": "code",
   "execution_count": 13,
   "id": "nonprofit-rating",
   "metadata": {},
   "outputs": [
    {
     "ename": "NameError",
     "evalue": "name 'mul_curve' is not defined",
     "output_type": "error",
     "traceback": [
      "\u001b[0;31m---------------------------------------------------------------------------\u001b[0m",
      "\u001b[0;31mNameError\u001b[0m                                 Traceback (most recent call last)",
      "\u001b[0;32m<ipython-input-13-28327cf7b78a>\u001b[0m in \u001b[0;36m<module>\u001b[0;34m\u001b[0m\n\u001b[0;32m----> 1\u001b[0;31m \u001b[0mmul_curve\u001b[0m \u001b[0;34m=\u001b[0m \u001b[0;34m(\u001b[0m\u001b[0mmul_curve\u001b[0m\u001b[0;34m[\u001b[0m\u001b[0;36m0\u001b[0m\u001b[0;34m]\u001b[0m\u001b[0;34m,\u001b[0m \u001b[0;34m[\u001b[0m\u001b[0mfloat\u001b[0m\u001b[0;34m(\u001b[0m\u001b[0mx\u001b[0m\u001b[0;34m)\u001b[0m \u001b[0;32mfor\u001b[0m \u001b[0mx\u001b[0m \u001b[0;32min\u001b[0m \u001b[0mmul_curve\u001b[0m\u001b[0;34m[\u001b[0m\u001b[0;36m1\u001b[0m\u001b[0;34m]\u001b[0m\u001b[0;34m]\u001b[0m\u001b[0;34m)\u001b[0m\u001b[0;34m\u001b[0m\u001b[0;34m\u001b[0m\u001b[0m\n\u001b[0m",
      "\u001b[0;31mNameError\u001b[0m: name 'mul_curve' is not defined"
     ]
    }
   ],
   "source": [
    "mul_curve = (mul_curve[0], [float(x) for x in mul_curve[1]])"
   ]
  },
  {
   "cell_type": "code",
   "execution_count": 13,
   "id": "naked-macro",
   "metadata": {},
   "outputs": [],
   "source": [
    "mul_data = pd.DataFrame(zip(*mul_curve), columns=['x', 'y'])"
   ]
  },
  {
   "cell_type": "code",
   "execution_count": 21,
   "id": "derived-dispatch",
   "metadata": {},
   "outputs": [
    {
     "data": {
      "text/plain": [
       "Text(0.5, 1.0, 'Multiplicative interpolation (English GRU)')"
      ]
     },
     "execution_count": 21,
     "metadata": {},
     "output_type": "execute_result"
    },
    {
     "data": {
      "image/png": "[encoded data removed]",
      "text/plain": [
       "<Figure size 432x288 with 1 Axes>"
      ]
     },
     "metadata": {
      "needs_background": "light"
     },
     "output_type": "display_data"
    }
   ],
   "source": [
    "importlib.reload(matplotlib)\n",
    "importlib.reload(sns)\n",
    "sns.set(font_scale=1.4)\n",
    "sns.set_style(\"white\", {\"font\": \"serif\"})\n",
    "sns.set_style('white', {'font.family':'serif', 'font.serif':'Times New Roman'})\n",
    "sns.lineplot(data=mul_data, x='x', y='y')\n",
    "plt.xlabel('Interpolation parameter (0=Lexical, 1=Syntactic)')\n",
    "plt.ylabel('TVD')\n",
    "plt.title('Multiplicative interpolation (English GRU)')"
   ]
  },
  {
   "cell_type": "code",
   "execution_count": 22,
   "id": "naval-arthur",
   "metadata": {},
   "outputs": [
    {
     "data": {
      "text/plain": [
       "{'axes.facecolor': 'white',\n",
       " 'axes.edgecolor': '.15',\n",
       " 'axes.grid': False,\n",
       " 'axes.axisbelow': True,\n",
       " 'axes.labelcolor': '.15',\n",
       " 'figure.facecolor': 'white',\n",
       " 'grid.color': '.8',\n",
       " 'grid.linestyle': '-',\n",
       " 'text.color': '.15',\n",
       " 'xtick.color': '.15',\n",
       " 'ytick.color': '.15',\n",
       " 'xtick.direction': 'out',\n",
       " 'ytick.direction': 'out',\n",
       " 'lines.solid_capstyle': 'round',\n",
       " 'patch.edgecolor': 'w',\n",
       " 'patch.force_edgecolor': True,\n",
       " 'image.cmap': 'rocket',\n",
       " 'font.family': ['serif'],\n",
       " 'font.sans-serif': ['Arial',\n",
       "  'DejaVu Sans',\n",
       "  'Liberation Sans',\n",
       "  'Bitstream Vera Sans',\n",
       "  'sans-serif'],\n",
       " 'xtick.bottom': False,\n",
       " 'xtick.top': False,\n",
       " 'ytick.left': False,\n",
       " 'ytick.right': False,\n",
       " 'axes.spines.left': True,\n",
       " 'axes.spines.bottom': True,\n",
       " 'axes.spines.right': True,\n",
       " 'axes.spines.top': True}"
      ]
     },
     "execution_count": 22,
     "metadata": {},
     "output_type": "execute_result"
    }
   ],
   "source": [
    "sns.axes_style()"
   ]
  },
  {
   "cell_type": "code",
   "execution_count": 28,
   "id": "agricultural-barrel",
   "metadata": {},
   "outputs": [
    {
     "data": {
      "application/vnd.jupyter.widget-view+json": {
       "model_id": "9f240bc67eb84f7aad4484fb00ea8a91",
       "version_major": 2,
       "version_minor": 0
      },
      "text/plain": [
       "HBox(children=(HTML(value=''), FloatProgress(value=0.0, max=89.0), HTML(value='')))"
      ]
     },
     "metadata": {},
     "output_type": "display_data"
    },
    {
     "name": "stdout",
     "output_type": "stream",
     "text": [
      "\n",
      "tensor(5.6156, device='cuda:0')\n"
     ]
    },
    {
     "data": {
      "application/vnd.jupyter.widget-view+json": {
       "model_id": "af1e32bf15cb4ef6b45d0b64b2ba8653",
       "version_major": 2,
       "version_minor": 0
      },
      "text/plain": [
       "HBox(children=(HTML(value=''), FloatProgress(value=0.0, max=89.0), HTML(value='')))"
      ]
     },
     "metadata": {},
     "output_type": "display_data"
    },
    {
     "name": "stdout",
     "output_type": "stream",
     "text": [
      "\n",
      "tensor(5.6386, device='cuda:0')\n"
     ]
    },
    {
     "data": {
      "application/vnd.jupyter.widget-view+json": {
       "model_id": "79477b834cc94a5485d4d6bd624eb949",
       "version_major": 2,
       "version_minor": 0
      },
      "text/plain": [
       "HBox(children=(HTML(value=''), FloatProgress(value=0.0, max=89.0), HTML(value='')))"
      ]
     },
     "metadata": {},
     "output_type": "display_data"
    },
    {
     "name": "stdout",
     "output_type": "stream",
     "text": [
      "\n",
      "tensor(5.8746, device='cuda:0')\n"
     ]
    },
    {
     "data": {
      "application/vnd.jupyter.widget-view+json": {
       "model_id": "477fb87a9d0d447eb777a775548c4dcd",
       "version_major": 2,
       "version_minor": 0
      },
      "text/plain": [
       "HBox(children=(HTML(value=''), FloatProgress(value=0.0, max=89.0), HTML(value='')))"
      ]
     },
     "metadata": {},
     "output_type": "display_data"
    },
    {
     "name": "stdout",
     "output_type": "stream",
     "text": [
      "\n",
      "tensor(6.4136, device='cuda:0')\n"
     ]
    }
   ],
   "source": [
    "english_bpe_context.generate_surprises(subst_english_bpe[0])"
   ]
  },
  {
   "cell_type": "code",
   "execution_count": 29,
   "id": "arbitrary-costa",
   "metadata": {},
   "outputs": [
    {
     "data": {
      "application/vnd.jupyter.widget-view+json": {
       "model_id": "726aa4f9615e453fadad484084f85fb1",
       "version_major": 2,
       "version_minor": 0
      },
      "text/plain": [
       "HBox(children=(HTML(value=''), FloatProgress(value=0.0, max=89.0), HTML(value='')))"
      ]
     },
     "metadata": {},
     "output_type": "display_data"
    },
    {
     "name": "stdout",
     "output_type": "stream",
     "text": [
      "\n",
      "tensor(5.6156, device='cuda:0')\n"
     ]
    },
    {
     "data": {
      "application/vnd.jupyter.widget-view+json": {
       "model_id": "30bb25eda84d4f29b6a87a327bc2b2da",
       "version_major": 2,
       "version_minor": 0
      },
      "text/plain": [
       "HBox(children=(HTML(value=''), FloatProgress(value=0.0, max=89.0), HTML(value='')))"
      ]
     },
     "metadata": {},
     "output_type": "display_data"
    },
    {
     "name": "stdout",
     "output_type": "stream",
     "text": [
      "\n",
      "tensor(5.6386, device='cuda:0')\n"
     ]
    },
    {
     "data": {
      "application/vnd.jupyter.widget-view+json": {
       "model_id": "985a62d106d64e3c994023400e4c9f69",
       "version_major": 2,
       "version_minor": 0
      },
      "text/plain": [
       "HBox(children=(HTML(value=''), FloatProgress(value=0.0, max=89.0), HTML(value='')))"
      ]
     },
     "metadata": {},
     "output_type": "display_data"
    },
    {
     "name": "stdout",
     "output_type": "stream",
     "text": [
      "\n",
      "tensor(5.8746, device='cuda:0')\n"
     ]
    },
    {
     "data": {
      "application/vnd.jupyter.widget-view+json": {
       "model_id": "90c1afd423854fcebc3896a5ec40a063",
       "version_major": 2,
       "version_minor": 0
      },
      "text/plain": [
       "HBox(children=(HTML(value=''), FloatProgress(value=0.0, max=89.0), HTML(value='')))"
      ]
     },
     "metadata": {},
     "output_type": "display_data"
    },
    {
     "name": "stdout",
     "output_type": "stream",
     "text": [
      "\n",
      "tensor(6.4136, device='cuda:0')\n"
     ]
    }
   ],
   "source": [
    "scores = {\n",
    "    'subst-english': [ english_bpe_context.run_test(model) for model in subst_english_bpe],\n",
    "    'state-english': [ english_bpe_context.run_test(model) for model in state_english_bpe],\n",
    "    'subst-finnish': [ finnish_bpe_context.run_test(model) for model in subst_finnish_bpe],\n",
    "    'state-finnish': [ finnish_bpe_context.run_test(model) for model in state_finnish_bpe],\n",
    "    'transformer-english': english_bpe_context.run_test_transformer(,\n",
    "    'transformer-finnish':,\n",
    "    'transformer-chinese':,\n",
    "    'gru-chinese':\n",
    "}"
   ]
  },
  {
   "cell_type": "code",
   "execution_count": null,
   "id": "soviet-mainland",
   "metadata": {},
   "outputs": [],
   "source": []
  }
 ],
 "metadata": {
  "kernelspec": {
   "display_name": "Python 3",
   "language": "python",
   "name": "python3"
  },
  "language_info": {
   "codemirror_mode": {
    "name": "ipython",
    "version": 3
   },
   "file_extension": ".py",
   "mimetype": "text/x-python",
   "name": "python",
   "nbconvert_exporter": "python",
   "pygments_lexer": "ipython3",
   "version": "3.8.2"
  }
 },
 "nbformat": 4,
 "nbformat_minor": 5
}
