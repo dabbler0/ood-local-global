{
 "cells": [
  {
   "cell_type": "code",
   "execution_count": 1,
   "id": "ideal-haiti",
   "metadata": {},
   "outputs": [],
   "source": [
    "import interactive\n",
    "import importlib\n",
    "from hypo import preds\n",
    "importlib.reload(interactive)\n",
    "importlib.reload(preds)\n",
    "from interactive import *\n",
    "import sys\n",
    "sys.path.insert(0, './models')\n",
    "from transformers.model import *"
   ]
  },
  {
   "cell_type": "code",
   "execution_count": 2,
   "id": "regulation-nerve",
   "metadata": {},
   "outputs": [
    {
     "name": "stderr",
     "output_type": "stream",
     "text": [
      "/lingo/abau/language-models/interactive.py:52: VisibleDeprecationWarning: Creating an ndarray from ragged nested sequences (which is a list-or-tuple of lists-or-tuples-or ndarrays with different lengths or shapes) is deprecated. If you meant to do this, you must specify 'dtype=object' when creating the ndarray\n",
      "  self.trunc_subpool = np.random.choice(self.trunc_pool, 200, replace=False)\n"
     ]
    }
   ],
   "source": [
    "finnish_bpe_context = TestingContext('preprocess/finnish-model.model',\n",
    "                      '/raid/lingo/abau/lm/finnish-bpe-corpus',\n",
    "                      '/raid/lingo/abau/lm/finnish-bpe-bigrams.pt', vocab_type='bpe')\n",
    "english_bpe_context = TestingContext('preprocess/english-spm.model',\n",
    "                      '/raid/lingo/abau/lm/20k-bpe-corpus',\n",
    "                      '/raid/lingo/abau/lm/20k-bpe-bigrams.pt', vocab_type='bpe')\n",
    "chinese_context = TestingContext('/raid/lingo/abau/lm/chinese-vocab.pt',\n",
    "                      '/raid/lingo/abau/lm/chinese-corpus',\n",
    "                      '/raid/lingo/abau/lm/chinese-bigrams.pt')"
   ]
  },
  {
   "cell_type": "code",
   "execution_count": 4,
   "id": "substantial-filing",
   "metadata": {},
   "outputs": [],
   "source": [
    "english_models = [\n",
    "    load_best_model_from('/raid/lingo/abau/lm/monolingual-models/20k-seed-%s' % s)\n",
    "    for s in ['0', '1', '2', '3', '4']\n",
    "]\n",
    "finnish_models = [\n",
    "    load_best_model_from('/raid/lingo/abau/lm/monolingual-models/finnish-seed-%s' % s)\n",
    "    for s in ['0', '1', '2', '3', '4']\n",
    "]\n",
    "chinese_models = [\n",
    "    load_best_model_from('/raid/lingo/abau/lm/monolingual-models/chinese-seed-%s' % s)\n",
    "    for s in ['0', '1', '2', '3', '4']\n",
    "]"
   ]
  },
  {
   "cell_type": "code",
   "execution_count": 5,
   "id": "fresh-convergence",
   "metadata": {},
   "outputs": [
    {
     "name": "stderr",
     "output_type": "stream",
     "text": [
      "/lingo/abau/language-models/interactive.py:74: UserWarning: This overload of nonzero is deprecated:\n",
      "\tnonzero()\n",
      "Consider using one of the following signatures instead:\n",
      "\tnonzero(*, bool as_tuple) (Triggered internally at  /opt/conda/conda-bld/pytorch_1607370117127/work/torch/csrc/utils/python_arg_parser.cpp:882.)\n",
      "  indices = (predictions > PROB_THRESH)[2:SEL_CUTOFF].nonzero()\n"
     ]
    }
   ],
   "source": [
    "for models, context in zip([english_models, finnish_models, chinese_models], [english_bpe_context, finnish_bpe_context, chinese_context]):\n",
    "    np.random.seed(0)\n",
    "    torch.manual_seed(0)\n",
    "    context.generate_surprises(models[0])"
   ]
  },
  {
   "cell_type": "code",
   "execution_count": 30,
   "id": "strategic-sister",
   "metadata": {},
   "outputs": [],
   "source": [
    "def compute_all_results(context, models, method = 'tvd'):\n",
    "    results = []\n",
    "    for model, copycat in zip(models, models[1:] + [models[0]]):\n",
    "        subpool = context.generate_surprises(copycat)\n",
    "        results.append(context.all_hyp_for_model(model, copycat_model = copycat, gold_model = copycat, method = method))\n",
    "    return results"
   ]
  },
  {
   "cell_type": "code",
   "execution_count": null,
   "id": "classified-excuse",
   "metadata": {},
   "outputs": [
    {
     "data": {
      "application/vnd.jupyter.widget-view+json": {
       "model_id": "abd1203dbadb43619934505a9ebdf60d",
       "version_major": 2,
       "version_minor": 0
      },
      "text/plain": [
       "HBox(children=(HTML(value=''), FloatProgress(value=0.0, max=200.0), HTML(value='')))"
      ]
     },
     "metadata": {},
     "output_type": "display_data"
    },
    {
     "name": "stdout",
     "output_type": "stream",
     "text": [
      "\n"
     ]
    },
    {
     "data": {
      "application/vnd.jupyter.widget-view+json": {
       "model_id": "ee47aa2172194b1eb5dfc6a567544526",
       "version_major": 2,
       "version_minor": 0
      },
      "text/plain": [
       "HBox(children=(HTML(value=''), FloatProgress(value=0.0, max=200.0), HTML(value='')))"
      ]
     },
     "metadata": {},
     "output_type": "display_data"
    },
    {
     "name": "stdout",
     "output_type": "stream",
     "text": [
      "\n"
     ]
    },
    {
     "data": {
      "application/vnd.jupyter.widget-view+json": {
       "model_id": "e7f4587bef4947de89583444642ca41a",
       "version_major": 2,
       "version_minor": 0
      },
      "text/plain": [
       "HBox(children=(HTML(value=''), FloatProgress(value=0.0, max=200.0), HTML(value='')))"
      ]
     },
     "metadata": {},
     "output_type": "display_data"
    },
    {
     "name": "stdout",
     "output_type": "stream",
     "text": [
      "\n"
     ]
    },
    {
     "data": {
      "application/vnd.jupyter.widget-view+json": {
       "model_id": "82c1db57fa764da98dc6321259b0fd53",
       "version_major": 2,
       "version_minor": 0
      },
      "text/plain": [
       "HBox(children=(HTML(value=''), FloatProgress(value=0.0, max=200.0), HTML(value='')))"
      ]
     },
     "metadata": {},
     "output_type": "display_data"
    },
    {
     "name": "stdout",
     "output_type": "stream",
     "text": [
      "\n"
     ]
    },
    {
     "data": {
      "application/vnd.jupyter.widget-view+json": {
       "model_id": "50db663d18114de78594adcf51fa1093",
       "version_major": 2,
       "version_minor": 0
      },
      "text/plain": [
       "HBox(children=(HTML(value=''), FloatProgress(value=0.0, max=200.0), HTML(value='')))"
      ]
     },
     "metadata": {},
     "output_type": "display_data"
    },
    {
     "name": "stdout",
     "output_type": "stream",
     "text": [
      "\n"
     ]
    },
    {
     "data": {
      "application/vnd.jupyter.widget-view+json": {
       "model_id": "18f5a263beb4472fabd6913ef2655570",
       "version_major": 2,
       "version_minor": 0
      },
      "text/plain": [
       "HBox(children=(HTML(value=''), FloatProgress(value=0.0, max=200.0), HTML(value='')))"
      ]
     },
     "metadata": {},
     "output_type": "display_data"
    },
    {
     "name": "stdout",
     "output_type": "stream",
     "text": [
      "\n"
     ]
    },
    {
     "data": {
      "application/vnd.jupyter.widget-view+json": {
       "model_id": "1c98742b0ff8449aacfa98920e01da3e",
       "version_major": 2,
       "version_minor": 0
      },
      "text/plain": [
       "HBox(children=(HTML(value=''), FloatProgress(value=0.0, max=200.0), HTML(value='')))"
      ]
     },
     "metadata": {},
     "output_type": "display_data"
    },
    {
     "name": "stdout",
     "output_type": "stream",
     "text": [
      "\n"
     ]
    },
    {
     "data": {
      "application/vnd.jupyter.widget-view+json": {
       "model_id": "a046141f9910415fa64a08faa7eb324a",
       "version_major": 2,
       "version_minor": 0
      },
      "text/plain": [
       "HBox(children=(HTML(value=''), FloatProgress(value=0.0, max=200.0), HTML(value='')))"
      ]
     },
     "metadata": {},
     "output_type": "display_data"
    },
    {
     "name": "stdout",
     "output_type": "stream",
     "text": [
      "\n"
     ]
    },
    {
     "data": {
      "application/vnd.jupyter.widget-view+json": {
       "model_id": "d32e0bca6b5f4fdb91086155435d15a4",
       "version_major": 2,
       "version_minor": 0
      },
      "text/plain": [
       "HBox(children=(HTML(value=''), FloatProgress(value=0.0, max=200.0), HTML(value='')))"
      ]
     },
     "metadata": {},
     "output_type": "display_data"
    },
    {
     "name": "stdout",
     "output_type": "stream",
     "text": [
      "\n"
     ]
    },
    {
     "data": {
      "application/vnd.jupyter.widget-view+json": {
       "model_id": "3fc34758253941fba354fd9aaacd0275",
       "version_major": 2,
       "version_minor": 0
      },
      "text/plain": [
       "HBox(children=(HTML(value=''), FloatProgress(value=0.0, max=200.0), HTML(value='')))"
      ]
     },
     "metadata": {},
     "output_type": "display_data"
    },
    {
     "name": "stdout",
     "output_type": "stream",
     "text": [
      "\n"
     ]
    },
    {
     "data": {
      "application/vnd.jupyter.widget-view+json": {
       "model_id": "e6aa3a9a88784651a3c1f02ae45ea703",
       "version_major": 2,
       "version_minor": 0
      },
      "text/plain": [
       "HBox(children=(HTML(value=''), FloatProgress(value=0.0, max=200.0), HTML(value='')))"
      ]
     },
     "metadata": {},
     "output_type": "display_data"
    },
    {
     "name": "stdout",
     "output_type": "stream",
     "text": [
      "\n"
     ]
    },
    {
     "data": {
      "application/vnd.jupyter.widget-view+json": {
       "model_id": "bdaddf37beed42289973e1d36ce06500",
       "version_major": 2,
       "version_minor": 0
      },
      "text/plain": [
       "HBox(children=(HTML(value=''), FloatProgress(value=0.0, max=200.0), HTML(value='')))"
      ]
     },
     "metadata": {},
     "output_type": "display_data"
    },
    {
     "name": "stdout",
     "output_type": "stream",
     "text": [
      "\n"
     ]
    },
    {
     "data": {
      "application/vnd.jupyter.widget-view+json": {
       "model_id": "18a1a6c3c5c145c98219e4f065d2abdf",
       "version_major": 2,
       "version_minor": 0
      },
      "text/plain": [
       "HBox(children=(HTML(value=''), FloatProgress(value=0.0, max=200.0), HTML(value='')))"
      ]
     },
     "metadata": {},
     "output_type": "display_data"
    },
    {
     "name": "stdout",
     "output_type": "stream",
     "text": [
      "\n"
     ]
    },
    {
     "data": {
      "application/vnd.jupyter.widget-view+json": {
       "model_id": "2b37673d658b4b4f985d1e2b914132dd",
       "version_major": 2,
       "version_minor": 0
      },
      "text/plain": [
       "HBox(children=(HTML(value=''), FloatProgress(value=0.0, max=200.0), HTML(value='')))"
      ]
     },
     "metadata": {},
     "output_type": "display_data"
    },
    {
     "name": "stdout",
     "output_type": "stream",
     "text": [
      "\n"
     ]
    },
    {
     "data": {
      "application/vnd.jupyter.widget-view+json": {
       "model_id": "39c917b51566474088fa2ff9f50984a5",
       "version_major": 2,
       "version_minor": 0
      },
      "text/plain": [
       "HBox(children=(HTML(value=''), FloatProgress(value=0.0, max=200.0), HTML(value='')))"
      ]
     },
     "metadata": {},
     "output_type": "display_data"
    },
    {
     "name": "stdout",
     "output_type": "stream",
     "text": [
      "\n"
     ]
    },
    {
     "data": {
      "application/vnd.jupyter.widget-view+json": {
       "model_id": "4ad99371b1cd4b4baf47e71ba8174bf2",
       "version_major": 2,
       "version_minor": 0
      },
      "text/plain": [
       "HBox(children=(HTML(value=''), FloatProgress(value=0.0, max=200.0), HTML(value='')))"
      ]
     },
     "metadata": {},
     "output_type": "display_data"
    },
    {
     "name": "stdout",
     "output_type": "stream",
     "text": [
      "\n"
     ]
    },
    {
     "data": {
      "application/vnd.jupyter.widget-view+json": {
       "model_id": "aa0a2be7ab9c4cd18bc0bb0fbec579f0",
       "version_major": 2,
       "version_minor": 0
      },
      "text/plain": [
       "HBox(children=(HTML(value=''), FloatProgress(value=0.0, max=200.0), HTML(value='')))"
      ]
     },
     "metadata": {},
     "output_type": "display_data"
    },
    {
     "name": "stdout",
     "output_type": "stream",
     "text": [
      "\n"
     ]
    },
    {
     "data": {
      "application/vnd.jupyter.widget-view+json": {
       "model_id": "a0971fbf3e4748b1a282c063b3010d09",
       "version_major": 2,
       "version_minor": 0
      },
      "text/plain": [
       "HBox(children=(HTML(value=''), FloatProgress(value=0.0, max=200.0), HTML(value='')))"
      ]
     },
     "metadata": {},
     "output_type": "display_data"
    },
    {
     "name": "stdout",
     "output_type": "stream",
     "text": [
      "\n"
     ]
    },
    {
     "data": {
      "application/vnd.jupyter.widget-view+json": {
       "model_id": "2c0adb1394f143afb7cfad1f69d5a544",
       "version_major": 2,
       "version_minor": 0
      },
      "text/plain": [
       "HBox(children=(HTML(value=''), FloatProgress(value=0.0, max=200.0), HTML(value='')))"
      ]
     },
     "metadata": {},
     "output_type": "display_data"
    },
    {
     "name": "stdout",
     "output_type": "stream",
     "text": [
      "\n"
     ]
    },
    {
     "data": {
      "application/vnd.jupyter.widget-view+json": {
       "model_id": "77ea755a9db24014836dee2b302c080c",
       "version_major": 2,
       "version_minor": 0
      },
      "text/plain": [
       "HBox(children=(HTML(value=''), FloatProgress(value=0.0, max=200.0), HTML(value='')))"
      ]
     },
     "metadata": {},
     "output_type": "display_data"
    },
    {
     "name": "stdout",
     "output_type": "stream",
     "text": [
      "\n"
     ]
    },
    {
     "data": {
      "application/vnd.jupyter.widget-view+json": {
       "model_id": "a3d64e59f7ae4694bfd871d0125283a9",
       "version_major": 2,
       "version_minor": 0
      },
      "text/plain": [
       "HBox(children=(HTML(value=''), FloatProgress(value=0.0, max=200.0), HTML(value='')))"
      ]
     },
     "metadata": {},
     "output_type": "display_data"
    },
    {
     "name": "stdout",
     "output_type": "stream",
     "text": [
      "\n"
     ]
    },
    {
     "data": {
      "application/vnd.jupyter.widget-view+json": {
       "model_id": "5be3dc8c9f0046c0892d68f327698b37",
       "version_major": 2,
       "version_minor": 0
      },
      "text/plain": [
       "HBox(children=(HTML(value=''), FloatProgress(value=0.0, max=200.0), HTML(value='')))"
      ]
     },
     "metadata": {},
     "output_type": "display_data"
    },
    {
     "name": "stdout",
     "output_type": "stream",
     "text": [
      "\n"
     ]
    },
    {
     "data": {
      "application/vnd.jupyter.widget-view+json": {
       "model_id": "6b8a4b08571b44cfbd099076cfc51a12",
       "version_major": 2,
       "version_minor": 0
      },
      "text/plain": [
       "HBox(children=(HTML(value=''), FloatProgress(value=0.0, max=200.0), HTML(value='')))"
      ]
     },
     "metadata": {},
     "output_type": "display_data"
    },
    {
     "name": "stdout",
     "output_type": "stream",
     "text": [
      "\n"
     ]
    },
    {
     "data": {
      "application/vnd.jupyter.widget-view+json": {
       "model_id": "914e286afe1c428eba7f26a5b64ee943",
       "version_major": 2,
       "version_minor": 0
      },
      "text/plain": [
       "HBox(children=(HTML(value=''), FloatProgress(value=0.0, max=200.0), HTML(value='')))"
      ]
     },
     "metadata": {},
     "output_type": "display_data"
    },
    {
     "name": "stdout",
     "output_type": "stream",
     "text": [
      "\n"
     ]
    },
    {
     "data": {
      "application/vnd.jupyter.widget-view+json": {
       "model_id": "c11b0a884dba469aa8689d0844fb8881",
       "version_major": 2,
       "version_minor": 0
      },
      "text/plain": [
       "HBox(children=(HTML(value=''), FloatProgress(value=0.0, max=200.0), HTML(value='')))"
      ]
     },
     "metadata": {},
     "output_type": "display_data"
    },
    {
     "name": "stdout",
     "output_type": "stream",
     "text": [
      "\n"
     ]
    },
    {
     "data": {
      "application/vnd.jupyter.widget-view+json": {
       "model_id": "6ba723e475a443f996931b2b487e064d",
       "version_major": 2,
       "version_minor": 0
      },
      "text/plain": [
       "HBox(children=(HTML(value=''), FloatProgress(value=0.0, max=200.0), HTML(value='')))"
      ]
     },
     "metadata": {},
     "output_type": "display_data"
    },
    {
     "name": "stdout",
     "output_type": "stream",
     "text": [
      "\n"
     ]
    },
    {
     "data": {
      "application/vnd.jupyter.widget-view+json": {
       "model_id": "34a63d1bf107452aa7cd440de5106409",
       "version_major": 2,
       "version_minor": 0
      },
      "text/plain": [
       "HBox(children=(HTML(value=''), FloatProgress(value=0.0, max=200.0), HTML(value='')))"
      ]
     },
     "metadata": {},
     "output_type": "display_data"
    },
    {
     "name": "stdout",
     "output_type": "stream",
     "text": [
      "\n"
     ]
    },
    {
     "data": {
      "application/vnd.jupyter.widget-view+json": {
       "model_id": "a04ad20058804a7d85ad1397e9483784",
       "version_major": 2,
       "version_minor": 0
      },
      "text/plain": [
       "HBox(children=(HTML(value=''), FloatProgress(value=0.0, max=200.0), HTML(value='')))"
      ]
     },
     "metadata": {},
     "output_type": "display_data"
    },
    {
     "name": "stdout",
     "output_type": "stream",
     "text": [
      "\n"
     ]
    },
    {
     "data": {
      "application/vnd.jupyter.widget-view+json": {
       "model_id": "27278908e482406ab2db049598c12255",
       "version_major": 2,
       "version_minor": 0
      },
      "text/plain": [
       "HBox(children=(HTML(value=''), FloatProgress(value=0.0, max=200.0), HTML(value='')))"
      ]
     },
     "metadata": {},
     "output_type": "display_data"
    },
    {
     "name": "stdout",
     "output_type": "stream",
     "text": [
      "\n"
     ]
    },
    {
     "data": {
      "application/vnd.jupyter.widget-view+json": {
       "model_id": "75c08c1de29c4031b7b0b7ba3525bbab",
       "version_major": 2,
       "version_minor": 0
      },
      "text/plain": [
       "HBox(children=(HTML(value=''), FloatProgress(value=0.0, max=200.0), HTML(value='')))"
      ]
     },
     "metadata": {},
     "output_type": "display_data"
    },
    {
     "name": "stdout",
     "output_type": "stream",
     "text": [
      "\n"
     ]
    },
    {
     "data": {
      "application/vnd.jupyter.widget-view+json": {
       "model_id": "a8fa841b1d714c5c8ee0d31ed2a1bea3",
       "version_major": 2,
       "version_minor": 0
      },
      "text/plain": [
       "HBox(children=(HTML(value=''), FloatProgress(value=0.0, max=200.0), HTML(value='')))"
      ]
     },
     "metadata": {},
     "output_type": "display_data"
    },
    {
     "name": "stdout",
     "output_type": "stream",
     "text": [
      "\n"
     ]
    },
    {
     "data": {
      "application/vnd.jupyter.widget-view+json": {
       "model_id": "d2c213d496084ee5b6b2190345f9f675",
       "version_major": 2,
       "version_minor": 0
      },
      "text/plain": [
       "HBox(children=(HTML(value=''), FloatProgress(value=0.0, max=200.0), HTML(value='')))"
      ]
     },
     "metadata": {},
     "output_type": "display_data"
    },
    {
     "name": "stdout",
     "output_type": "stream",
     "text": [
      "\n"
     ]
    },
    {
     "data": {
      "application/vnd.jupyter.widget-view+json": {
       "model_id": "2a623384140948ee9c43ef7817f58880",
       "version_major": 2,
       "version_minor": 0
      },
      "text/plain": [
       "HBox(children=(HTML(value=''), FloatProgress(value=0.0, max=200.0), HTML(value='')))"
      ]
     },
     "metadata": {},
     "output_type": "display_data"
    },
    {
     "name": "stdout",
     "output_type": "stream",
     "text": [
      "\n"
     ]
    },
    {
     "data": {
      "application/vnd.jupyter.widget-view+json": {
       "model_id": "9aab57bf94094020afda63fd8e2d6beb",
       "version_major": 2,
       "version_minor": 0
      },
      "text/plain": [
       "HBox(children=(HTML(value=''), FloatProgress(value=0.0, max=200.0), HTML(value='')))"
      ]
     },
     "metadata": {},
     "output_type": "display_data"
    },
    {
     "name": "stdout",
     "output_type": "stream",
     "text": [
      "\n"
     ]
    },
    {
     "data": {
      "application/vnd.jupyter.widget-view+json": {
       "model_id": "65b7de193b0841368d519add46dd8bc6",
       "version_major": 2,
       "version_minor": 0
      },
      "text/plain": [
       "HBox(children=(HTML(value=''), FloatProgress(value=0.0, max=200.0), HTML(value='')))"
      ]
     },
     "metadata": {},
     "output_type": "display_data"
    },
    {
     "name": "stdout",
     "output_type": "stream",
     "text": [
      "\n"
     ]
    },
    {
     "data": {
      "application/vnd.jupyter.widget-view+json": {
       "model_id": "e181f39b02a642bc967a76b470449649",
       "version_major": 2,
       "version_minor": 0
      },
      "text/plain": [
       "HBox(children=(HTML(value=''), FloatProgress(value=0.0, max=200.0), HTML(value='')))"
      ]
     },
     "metadata": {},
     "output_type": "display_data"
    },
    {
     "name": "stdout",
     "output_type": "stream",
     "text": [
      "\n"
     ]
    },
    {
     "data": {
      "application/vnd.jupyter.widget-view+json": {
       "model_id": "e47c910ab6aa4dc7a0a8439b61d5aef7",
       "version_major": 2,
       "version_minor": 0
      },
      "text/plain": [
       "HBox(children=(HTML(value=''), FloatProgress(value=0.0, max=200.0), HTML(value='')))"
      ]
     },
     "metadata": {},
     "output_type": "display_data"
    },
    {
     "name": "stdout",
     "output_type": "stream",
     "text": [
      "\n"
     ]
    },
    {
     "data": {
      "application/vnd.jupyter.widget-view+json": {
       "model_id": "0514f63cdb44477f852942ea8822b1d9",
       "version_major": 2,
       "version_minor": 0
      },
      "text/plain": [
       "HBox(children=(HTML(value=''), FloatProgress(value=0.0, max=200.0), HTML(value='')))"
      ]
     },
     "metadata": {},
     "output_type": "display_data"
    },
    {
     "name": "stdout",
     "output_type": "stream",
     "text": [
      "\n"
     ]
    },
    {
     "data": {
      "application/vnd.jupyter.widget-view+json": {
       "model_id": "99af1cbf49ea4a56828115569ca18132",
       "version_major": 2,
       "version_minor": 0
      },
      "text/plain": [
       "HBox(children=(HTML(value=''), FloatProgress(value=0.0, max=200.0), HTML(value='')))"
      ]
     },
     "metadata": {},
     "output_type": "display_data"
    },
    {
     "name": "stdout",
     "output_type": "stream",
     "text": [
      "\n"
     ]
    },
    {
     "data": {
      "application/vnd.jupyter.widget-view+json": {
       "model_id": "b9a950a41c9545a68b3184d9df700586",
       "version_major": 2,
       "version_minor": 0
      },
      "text/plain": [
       "HBox(children=(HTML(value=''), FloatProgress(value=0.0, max=200.0), HTML(value='')))"
      ]
     },
     "metadata": {},
     "output_type": "display_data"
    },
    {
     "name": "stdout",
     "output_type": "stream",
     "text": [
      "\n"
     ]
    },
    {
     "data": {
      "application/vnd.jupyter.widget-view+json": {
       "model_id": "06bfbf67e723477e8112911430fb06b1",
       "version_major": 2,
       "version_minor": 0
      },
      "text/plain": [
       "HBox(children=(HTML(value=''), FloatProgress(value=0.0, max=200.0), HTML(value='')))"
      ]
     },
     "metadata": {},
     "output_type": "display_data"
    },
    {
     "name": "stdout",
     "output_type": "stream",
     "text": [
      "\n"
     ]
    },
    {
     "data": {
      "application/vnd.jupyter.widget-view+json": {
       "model_id": "69d3a0d2a75b4379bfc62e30a4103440",
       "version_major": 2,
       "version_minor": 0
      },
      "text/plain": [
       "HBox(children=(HTML(value=''), FloatProgress(value=0.0, max=200.0), HTML(value='')))"
      ]
     },
     "metadata": {},
     "output_type": "display_data"
    },
    {
     "name": "stdout",
     "output_type": "stream",
     "text": [
      "\n"
     ]
    },
    {
     "data": {
      "application/vnd.jupyter.widget-view+json": {
       "model_id": "cef874f611bb434baf18b50b9b7a1b3f",
       "version_major": 2,
       "version_minor": 0
      },
      "text/plain": [
       "HBox(children=(HTML(value=''), FloatProgress(value=0.0, max=200.0), HTML(value='')))"
      ]
     },
     "metadata": {},
     "output_type": "display_data"
    },
    {
     "name": "stdout",
     "output_type": "stream",
     "text": [
      "\n"
     ]
    },
    {
     "data": {
      "application/vnd.jupyter.widget-view+json": {
       "model_id": "12cc06d67d504ef8ba985ec8143a5dca",
       "version_major": 2,
       "version_minor": 0
      },
      "text/plain": [
       "HBox(children=(HTML(value=''), FloatProgress(value=0.0, max=200.0), HTML(value='')))"
      ]
     },
     "metadata": {},
     "output_type": "display_data"
    },
    {
     "name": "stdout",
     "output_type": "stream",
     "text": [
      "\n"
     ]
    },
    {
     "data": {
      "application/vnd.jupyter.widget-view+json": {
       "model_id": "0b203be693a94f879207c27d7bd64d2d",
       "version_major": 2,
       "version_minor": 0
      },
      "text/plain": [
       "HBox(children=(HTML(value=''), FloatProgress(value=0.0, max=200.0), HTML(value='')))"
      ]
     },
     "metadata": {},
     "output_type": "display_data"
    },
    {
     "name": "stdout",
     "output_type": "stream",
     "text": [
      "\n"
     ]
    },
    {
     "data": {
      "application/vnd.jupyter.widget-view+json": {
       "model_id": "6f2b8e14275f40e09b4a616fa73e26a7",
       "version_major": 2,
       "version_minor": 0
      },
      "text/plain": [
       "HBox(children=(HTML(value=''), FloatProgress(value=0.0, max=200.0), HTML(value='')))"
      ]
     },
     "metadata": {},
     "output_type": "display_data"
    },
    {
     "name": "stdout",
     "output_type": "stream",
     "text": [
      "\n"
     ]
    },
    {
     "data": {
      "application/vnd.jupyter.widget-view+json": {
       "model_id": "d38e4494acf14397b6e4f69148781338",
       "version_major": 2,
       "version_minor": 0
      },
      "text/plain": [
       "HBox(children=(HTML(value=''), FloatProgress(value=0.0, max=200.0), HTML(value='')))"
      ]
     },
     "metadata": {},
     "output_type": "display_data"
    },
    {
     "name": "stdout",
     "output_type": "stream",
     "text": [
      "\n"
     ]
    },
    {
     "data": {
      "application/vnd.jupyter.widget-view+json": {
       "model_id": "1e97970db6af4cdc9e53698e594a3046",
       "version_major": 2,
       "version_minor": 0
      },
      "text/plain": [
       "HBox(children=(HTML(value=''), FloatProgress(value=0.0, max=200.0), HTML(value='')))"
      ]
     },
     "metadata": {},
     "output_type": "display_data"
    },
    {
     "name": "stdout",
     "output_type": "stream",
     "text": [
      "\n"
     ]
    }
   ],
   "source": [
    "english_results = compute_all_results(english_bpe_context, english_models, method = 'js')\n",
    "finnish_results = compute_all_results(finnish_bpe_context, finnish_models, method = 'js')\n",
    "chinese_results = compute_all_results(chinese_context, chinese_models, method = 'js')"
   ]
  },
  {
   "cell_type": "code",
   "execution_count": null,
   "id": "detected-muslim",
   "metadata": {},
   "outputs": [],
   "source": [
    "english_results"
   ]
  },
  {
   "cell_type": "code",
   "execution_count": 37,
   "id": "unable-massachusetts",
   "metadata": {},
   "outputs": [],
   "source": [
    "torch.save({ 'english': english_results, 'chinese': chinese_results, 'finnish': finnish_results }, 'restart-js-results.pt')"
   ]
  },
  {
   "cell_type": "code",
   "execution_count": 48,
   "id": "fitted-trainer",
   "metadata": {},
   "outputs": [],
   "source": [
    "def get_variance_for(key, language, fn):\n",
    "    d = torch.load(fn)\n",
    "    samples = [x[key] for x in d[language]]\n",
    "    \n",
    "    mean = sum(samples) / len(samples)\n",
    "    \n",
    "    return mean, (sum((j - mean) ** 2 for j in samples) / len(samples)) ** 0.5"
   ]
  },
  {
   "cell_type": "code",
   "execution_count": 49,
   "id": "precious-sierra",
   "metadata": {},
   "outputs": [
    {
     "data": {
      "text/plain": [
       "(tensor(0.6534, grad_fn=<DivBackward0>),\n",
       " tensor(0.0141, grad_fn=<PowBackward0>))"
      ]
     },
     "execution_count": 49,
     "metadata": {},
     "output_type": "execute_result"
    }
   ],
   "source": [
    "get_variance_for('unigram', 'english', 'restart-results.pt')"
   ]
  },
  {
   "cell_type": "code",
   "execution_count": 50,
   "id": "completed-development",
   "metadata": {},
   "outputs": [
    {
     "data": {
      "text/plain": [
       "(tensor(0.5471, grad_fn=<DivBackward0>),\n",
       " tensor(0.0026, grad_fn=<PowBackward0>))"
      ]
     },
     "execution_count": 50,
     "metadata": {},
     "output_type": "execute_result"
    }
   ],
   "source": [
    "get_variance_for('add_interp', 'english', 'restart-results.pt')"
   ]
  },
  {
   "cell_type": "code",
   "execution_count": 96,
   "id": "herbal-omaha",
   "metadata": {},
   "outputs": [
    {
     "data": {
      "text/plain": [
       "(tensor(0.5477, grad_fn=<DivBackward0>),\n",
       " tensor(0.0047, grad_fn=<PowBackward0>))"
      ]
     },
     "execution_count": 96,
     "metadata": {},
     "output_type": "execute_result"
    }
   ],
   "source": [
    "get_variance_for('mul_interp', 'english', 'restart-results.pt')"
   ]
  },
  {
   "cell_type": "code",
   "execution_count": 7,
   "id": "intensive-clarity",
   "metadata": {},
   "outputs": [],
   "source": [
    "d = torch.load('restart-results.pt')"
   ]
  },
  {
   "cell_type": "code",
   "execution_count": 8,
   "id": "annual-series",
   "metadata": {},
   "outputs": [
    {
     "data": {
      "text/plain": [
       "[{'unigram': tensor(0.6318, requires_grad=True),\n",
       "  'bigram': tensor(0.6199, requires_grad=True),\n",
       "  'outedge': tensor(0.6707, requires_grad=True),\n",
       "  'ignore': tensor(0.6827, requires_grad=True),\n",
       "  'add_interp': tensor(0.5423, requires_grad=True),\n",
       "  'mul_interp': tensor(0.5440, requires_grad=True),\n",
       "  'copycat': tensor(0.3543, requires_grad=True)},\n",
       " {'unigram': tensor(0.6462, requires_grad=True),\n",
       "  'bigram': tensor(0.6082, requires_grad=True),\n",
       "  'outedge': tensor(0.6919, requires_grad=True),\n",
       "  'ignore': tensor(0.7075, requires_grad=True),\n",
       "  'add_interp': tensor(0.5483, requires_grad=True),\n",
       "  'mul_interp': tensor(0.5423, requires_grad=True),\n",
       "  'copycat': tensor(0.3701, requires_grad=True)},\n",
       " {'unigram': tensor(0.6557, requires_grad=True),\n",
       "  'bigram': tensor(0.6213, requires_grad=True),\n",
       "  'outedge': tensor(0.6819, requires_grad=True),\n",
       "  'ignore': tensor(0.7049, requires_grad=True),\n",
       "  'add_interp': tensor(0.5499, requires_grad=True),\n",
       "  'mul_interp': tensor(0.5464, requires_grad=True),\n",
       "  'copycat': tensor(0.3647, requires_grad=True)},\n",
       " {'unigram': tensor(0.6586, requires_grad=True),\n",
       "  'bigram': tensor(0.6143, requires_grad=True),\n",
       "  'outedge': tensor(0.6768, requires_grad=True),\n",
       "  'ignore': tensor(0.7277, requires_grad=True),\n",
       "  'add_interp': tensor(0.5473, requires_grad=True),\n",
       "  'mul_interp': tensor(0.5505, requires_grad=True),\n",
       "  'copycat': tensor(0.3787, requires_grad=True)},\n",
       " {'unigram': tensor(0.6744, requires_grad=True),\n",
       "  'bigram': tensor(0.6111, requires_grad=True),\n",
       "  'outedge': tensor(0.6752, requires_grad=True),\n",
       "  'ignore': tensor(0.7028, requires_grad=True),\n",
       "  'add_interp': tensor(0.5476, requires_grad=True),\n",
       "  'mul_interp': tensor(0.5554, requires_grad=True),\n",
       "  'copycat': tensor(0.3558, requires_grad=True)}]"
      ]
     },
     "execution_count": 8,
     "metadata": {},
     "output_type": "execute_result"
    }
   ],
   "source": [
    "d['english']"
   ]
  },
  {
   "cell_type": "code",
   "execution_count": 92,
   "id": "composed-insured",
   "metadata": {},
   "outputs": [
    {
     "data": {
      "text/plain": [
       "((tensor(0.2282, grad_fn=<DivBackward0>),\n",
       "  tensor(0.0189, grad_fn=<PowBackward0>)),\n",
       " (tensor(0.1851, grad_fn=<DivBackward0>),\n",
       "  tensor(0.0208, grad_fn=<PowBackward0>)))"
      ]
     },
     "execution_count": 92,
     "metadata": {},
     "output_type": "execute_result"
    }
   ],
   "source": [
    "(get_variance_for('unigram', 'chinese', 'restart-js-results.pt'), get_variance_for('mul_interp', 'chinese', 'restart-js-results.pt'))"
   ]
  },
  {
   "cell_type": "code",
   "execution_count": 63,
   "id": "complimentary-script",
   "metadata": {},
   "outputs": [
    {
     "data": {
      "text/plain": [
       "(tensor(0.2158, grad_fn=<DivBackward0>),\n",
       " tensor(0.0048, grad_fn=<PowBackward0>))"
      ]
     },
     "execution_count": 63,
     "metadata": {},
     "output_type": "execute_result"
    }
   ],
   "source": [
    "get_variance_for('mul_interp', 'finnish', 'restart-js-results.pt')"
   ]
  },
  {
   "cell_type": "code",
   "execution_count": 64,
   "id": "black-walker",
   "metadata": {},
   "outputs": [
    {
     "data": {
      "text/plain": [
       "(tensor(0.2818, grad_fn=<DivBackward0>),\n",
       " tensor(0.0058, grad_fn=<PowBackward0>))"
      ]
     },
     "execution_count": 64,
     "metadata": {},
     "output_type": "execute_result"
    }
   ],
   "source": [
    "get_variance_for('outedge', 'finnish', 'restart-js-results.pt')"
   ]
  },
  {
   "cell_type": "code",
   "execution_count": 66,
   "id": "sized-waters",
   "metadata": {},
   "outputs": [
    {
     "data": {
      "text/plain": [
       "(tensor(0.4086, grad_fn=<DivBackward0>),\n",
       " tensor(0.0163, grad_fn=<PowBackward0>))"
      ]
     },
     "execution_count": 66,
     "metadata": {},
     "output_type": "execute_result"
    }
   ],
   "source": [
    "get_variance_for('bigram', 'finnish', 'restart-js-results.pt')"
   ]
  },
  {
   "cell_type": "code",
   "execution_count": 70,
   "id": "executive-holly",
   "metadata": {},
   "outputs": [],
   "source": [
    "def compute_t(key1, key2, language, fn):\n",
    "    d = torch.load(fn)\n",
    "    samples1 = [x[key1] for x in d[language]]\n",
    "    samples2 = [x[key2] for x in d[language]]\n",
    "\n",
    "    diffs = [a - b for a,b in zip(samples1, samples2)]\n",
    "    \n",
    "    mean_diff = sum(diffs) / len(diffs)\n",
    "    s_diff = (sum((x - mean_diff) ** 2 for x in diffs) / len(diffs)) ** 0.5\n",
    "    \n",
    "    return mean_diff / (s_diff / (len(diffs) ** 0.5))"
   ]
  },
  {
   "cell_type": "code",
   "execution_count": 71,
   "id": "critical-cycling",
   "metadata": {},
   "outputs": [
    {
     "data": {
      "text/plain": [
       "tensor(23.2084, grad_fn=<DivBackward0>)"
      ]
     },
     "execution_count": 71,
     "metadata": {},
     "output_type": "execute_result"
    }
   ],
   "source": [
    "compute_t('unigram', 'mul_interp', 'english', 'restart-results.pt')"
   ]
  },
  {
   "cell_type": "code",
   "execution_count": 76,
   "id": "pleased-roots",
   "metadata": {},
   "outputs": [
    {
     "data": {
      "application/vnd.jupyter.widget-view+json": {
       "model_id": "1834a447ad1a48349ec60c3f529e5074",
       "version_major": 2,
       "version_minor": 0
      },
      "text/plain": [
       "HBox(children=(HTML(value=''), FloatProgress(value=0.0, max=200.0), HTML(value='')))"
      ]
     },
     "metadata": {},
     "output_type": "display_data"
    },
    {
     "name": "stdout",
     "output_type": "stream",
     "text": [
      "\n"
     ]
    },
    {
     "data": {
      "application/vnd.jupyter.widget-view+json": {
       "model_id": "49257b2ebe4b4ea3806e84b423b9d9a2",
       "version_major": 2,
       "version_minor": 0
      },
      "text/plain": [
       "HBox(children=(HTML(value=''), FloatProgress(value=0.0, max=200.0), HTML(value='')))"
      ]
     },
     "metadata": {},
     "output_type": "display_data"
    },
    {
     "name": "stdout",
     "output_type": "stream",
     "text": [
      "\n"
     ]
    },
    {
     "data": {
      "text/plain": [
       "(0.7346938775510203, tensor(0.4943, grad_fn=<DivBackward0>))"
      ]
     },
     "execution_count": 76,
     "metadata": {},
     "output_type": "execute_result"
    }
   ],
   "source": [
    "finnish_bpe_context.optimal_mul_interpolation(\n",
    "    finnish_bpe_context.outedge_for_model(finnish_models[1]),\n",
    "    finnish_bpe_context.actual_for_model(finnish_models[1])\n",
    ")"
   ]
  },
  {
   "cell_type": "code",
   "execution_count": 75,
   "id": "developing-sphere",
   "metadata": {},
   "outputs": [
    {
     "data": {
      "application/vnd.jupyter.widget-view+json": {
       "model_id": "825f43fcd5c548ce8c8ff789435acfc8",
       "version_major": 2,
       "version_minor": 0
      },
      "text/plain": [
       "HBox(children=(HTML(value=''), FloatProgress(value=0.0, max=200.0), HTML(value='')))"
      ]
     },
     "metadata": {},
     "output_type": "display_data"
    },
    {
     "name": "stdout",
     "output_type": "stream",
     "text": [
      "\n"
     ]
    },
    {
     "data": {
      "application/vnd.jupyter.widget-view+json": {
       "model_id": "97695d30401b4d369f07059a32d3d1da",
       "version_major": 2,
       "version_minor": 0
      },
      "text/plain": [
       "HBox(children=(HTML(value=''), FloatProgress(value=0.0, max=200.0), HTML(value='')))"
      ]
     },
     "metadata": {},
     "output_type": "display_data"
    },
    {
     "name": "stdout",
     "output_type": "stream",
     "text": [
      "\n"
     ]
    },
    {
     "data": {
      "text/plain": [
       "(0.8571428571428571, tensor(0.4472, grad_fn=<DivBackward0>))"
      ]
     },
     "execution_count": 75,
     "metadata": {},
     "output_type": "execute_result"
    }
   ],
   "source": [
    "chinese_context.optimal_mul_interpolation(\n",
    "    chinese_context.outedge_for_model(chinese_models[1]),\n",
    "    chinese_context.actual_for_model(chinese_models[1])\n",
    ")"
   ]
  },
  {
   "cell_type": "code",
   "execution_count": 77,
   "id": "surface-compression",
   "metadata": {},
   "outputs": [
    {
     "data": {
      "application/vnd.jupyter.widget-view+json": {
       "model_id": "e01976959a664fd286c6b4e13eed3637",
       "version_major": 2,
       "version_minor": 0
      },
      "text/plain": [
       "HBox(children=(HTML(value=''), FloatProgress(value=0.0, max=200.0), HTML(value='')))"
      ]
     },
     "metadata": {},
     "output_type": "display_data"
    },
    {
     "name": "stdout",
     "output_type": "stream",
     "text": [
      "\n"
     ]
    },
    {
     "data": {
      "application/vnd.jupyter.widget-view+json": {
       "model_id": "a70f8c85f6a548299a838fb9ef316525",
       "version_major": 2,
       "version_minor": 0
      },
      "text/plain": [
       "HBox(children=(HTML(value=''), FloatProgress(value=0.0, max=200.0), HTML(value='')))"
      ]
     },
     "metadata": {},
     "output_type": "display_data"
    },
    {
     "name": "stdout",
     "output_type": "stream",
     "text": [
      "\n"
     ]
    },
    {
     "data": {
      "application/vnd.jupyter.widget-view+json": {
       "model_id": "b26c98d9f1fe42d0afd683f979c85ee2",
       "version_major": 2,
       "version_minor": 0
      },
      "text/plain": [
       "HBox(children=(HTML(value=''), FloatProgress(value=0.0, max=200.0), HTML(value='')))"
      ]
     },
     "metadata": {},
     "output_type": "display_data"
    },
    {
     "name": "stdout",
     "output_type": "stream",
     "text": [
      "\n"
     ]
    },
    {
     "data": {
      "application/vnd.jupyter.widget-view+json": {
       "model_id": "b4f0e17b932e469dad4f177878c9a3a7",
       "version_major": 2,
       "version_minor": 0
      },
      "text/plain": [
       "HBox(children=(HTML(value=''), FloatProgress(value=0.0, max=200.0), HTML(value='')))"
      ]
     },
     "metadata": {},
     "output_type": "display_data"
    },
    {
     "name": "stdout",
     "output_type": "stream",
     "text": [
      "\n"
     ]
    },
    {
     "data": {
      "application/vnd.jupyter.widget-view+json": {
       "model_id": "288ddb830cb3465f993aff3a8053644b",
       "version_major": 2,
       "version_minor": 0
      },
      "text/plain": [
       "HBox(children=(HTML(value=''), FloatProgress(value=0.0, max=200.0), HTML(value='')))"
      ]
     },
     "metadata": {},
     "output_type": "display_data"
    },
    {
     "name": "stdout",
     "output_type": "stream",
     "text": [
      "\n"
     ]
    },
    {
     "data": {
      "application/vnd.jupyter.widget-view+json": {
       "model_id": "9590497c9c46414b8f9d1cbe730f1a23",
       "version_major": 2,
       "version_minor": 0
      },
      "text/plain": [
       "HBox(children=(HTML(value=''), FloatProgress(value=0.0, max=200.0), HTML(value='')))"
      ]
     },
     "metadata": {},
     "output_type": "display_data"
    },
    {
     "name": "stdout",
     "output_type": "stream",
     "text": [
      "\n"
     ]
    },
    {
     "data": {
      "application/vnd.jupyter.widget-view+json": {
       "model_id": "3170e294aa3b4648834d3148c3374bee",
       "version_major": 2,
       "version_minor": 0
      },
      "text/plain": [
       "HBox(children=(HTML(value=''), FloatProgress(value=0.0, max=200.0), HTML(value='')))"
      ]
     },
     "metadata": {},
     "output_type": "display_data"
    },
    {
     "name": "stdout",
     "output_type": "stream",
     "text": [
      "\n"
     ]
    },
    {
     "data": {
      "application/vnd.jupyter.widget-view+json": {
       "model_id": "ca0690bc85da43e8bd513d1915f9488b",
       "version_major": 2,
       "version_minor": 0
      },
      "text/plain": [
       "HBox(children=(HTML(value=''), FloatProgress(value=0.0, max=200.0), HTML(value='')))"
      ]
     },
     "metadata": {},
     "output_type": "display_data"
    },
    {
     "name": "stdout",
     "output_type": "stream",
     "text": [
      "\n"
     ]
    },
    {
     "data": {
      "application/vnd.jupyter.widget-view+json": {
       "model_id": "d7222e84714241948241fa7d03b914af",
       "version_major": 2,
       "version_minor": 0
      },
      "text/plain": [
       "HBox(children=(HTML(value=''), FloatProgress(value=0.0, max=200.0), HTML(value='')))"
      ]
     },
     "metadata": {},
     "output_type": "display_data"
    },
    {
     "name": "stdout",
     "output_type": "stream",
     "text": [
      "\n"
     ]
    },
    {
     "data": {
      "application/vnd.jupyter.widget-view+json": {
       "model_id": "7b259bf166f04521a49929ce79948069",
       "version_major": 2,
       "version_minor": 0
      },
      "text/plain": [
       "HBox(children=(HTML(value=''), FloatProgress(value=0.0, max=200.0), HTML(value='')))"
      ]
     },
     "metadata": {},
     "output_type": "display_data"
    },
    {
     "name": "stdout",
     "output_type": "stream",
     "text": [
      "\n"
     ]
    }
   ],
   "source": [
    "english_lambdas = [english_bpe_context.optimal_mul_interpolation(\n",
    "    english_bpe_context.outedge_for_model(model),\n",
    "    english_bpe_context.actual_for_model(model)\n",
    ") for model in english_models]"
   ]
  },
  {
   "cell_type": "code",
   "execution_count": 78,
   "id": "dedicated-logan",
   "metadata": {},
   "outputs": [],
   "source": [
    "english_lambdas = [l[0] for l in english_lambdas]"
   ]
  },
  {
   "cell_type": "code",
   "execution_count": 81,
   "id": "traditional-grove",
   "metadata": {},
   "outputs": [],
   "source": [
    "mean = sum(english_lambdas) / len(english_lambdas)"
   ]
  },
  {
   "cell_type": "code",
   "execution_count": 82,
   "id": "moderate-galaxy",
   "metadata": {},
   "outputs": [],
   "source": [
    "std = (sum((x - mean) ** 2 for x in english_lambdas) / len(english_lambdas)) ** 0.5"
   ]
  },
  {
   "cell_type": "code",
   "execution_count": 83,
   "id": "traditional-substance",
   "metadata": {},
   "outputs": [
    {
     "data": {
      "text/plain": [
       "0.016326530612244917"
      ]
     },
     "execution_count": 83,
     "metadata": {},
     "output_type": "execute_result"
    }
   ],
   "source": [
    "std"
   ]
  },
  {
   "cell_type": "code",
   "execution_count": 86,
   "id": "vietnamese-graph",
   "metadata": {},
   "outputs": [],
   "source": [
    "chinese_word_subst = [\n",
    "    load_best_model_from('/raid/lingo/abau/lm/monolingual-models/chinese-subst-%s-1' % s)\n",
    "    for s in ['0', '0.25', '0.5', '0.75']\n",
    "]\n",
    "chinese_word_subst_copycats = [\n",
    "    load_best_model_from('/raid/lingo/abau/lm/monolingual-models/chinese-subst-%s-2' % s)\n",
    "    for s in ['0', '0.25', '0.5', '0.75']\n",
    "]"
   ]
  },
  {
   "cell_type": "code",
   "execution_count": 88,
   "id": "objective-worst",
   "metadata": {},
   "outputs": [
    {
     "data": {
      "application/vnd.jupyter.widget-view+json": {
       "model_id": "e0b219a781d348039eb5c55f3a53d901",
       "version_major": 2,
       "version_minor": 0
      },
      "text/plain": [
       "HBox(children=(HTML(value=''), FloatProgress(value=0.0, max=200.0), HTML(value='')))"
      ]
     },
     "metadata": {},
     "output_type": "display_data"
    },
    {
     "name": "stdout",
     "output_type": "stream",
     "text": [
      "\n"
     ]
    },
    {
     "data": {
      "application/vnd.jupyter.widget-view+json": {
       "model_id": "19840e66c520440cadc9a2fae229dae5",
       "version_major": 2,
       "version_minor": 0
      },
      "text/plain": [
       "HBox(children=(HTML(value=''), FloatProgress(value=0.0, max=200.0), HTML(value='')))"
      ]
     },
     "metadata": {},
     "output_type": "display_data"
    },
    {
     "name": "stdout",
     "output_type": "stream",
     "text": [
      "\n"
     ]
    },
    {
     "data": {
      "application/vnd.jupyter.widget-view+json": {
       "model_id": "52ae1ab9df3245cfb74e53c3285a8695",
       "version_major": 2,
       "version_minor": 0
      },
      "text/plain": [
       "HBox(children=(HTML(value=''), FloatProgress(value=0.0, max=200.0), HTML(value='')))"
      ]
     },
     "metadata": {},
     "output_type": "display_data"
    },
    {
     "name": "stdout",
     "output_type": "stream",
     "text": [
      "\n"
     ]
    },
    {
     "data": {
      "application/vnd.jupyter.widget-view+json": {
       "model_id": "521b93838cf242baaf6b70c7ab8baf35",
       "version_major": 2,
       "version_minor": 0
      },
      "text/plain": [
       "HBox(children=(HTML(value=''), FloatProgress(value=0.0, max=200.0), HTML(value='')))"
      ]
     },
     "metadata": {},
     "output_type": "display_data"
    },
    {
     "name": "stdout",
     "output_type": "stream",
     "text": [
      "\n"
     ]
    },
    {
     "data": {
      "application/vnd.jupyter.widget-view+json": {
       "model_id": "73d980e4993d44ac9ed1de0d73abdcfa",
       "version_major": 2,
       "version_minor": 0
      },
      "text/plain": [
       "HBox(children=(HTML(value=''), FloatProgress(value=0.0, max=200.0), HTML(value='')))"
      ]
     },
     "metadata": {},
     "output_type": "display_data"
    },
    {
     "name": "stdout",
     "output_type": "stream",
     "text": [
      "\n"
     ]
    },
    {
     "data": {
      "application/vnd.jupyter.widget-view+json": {
       "model_id": "5716f49c449a4aa09269cd57a29b18c0",
       "version_major": 2,
       "version_minor": 0
      },
      "text/plain": [
       "HBox(children=(HTML(value=''), FloatProgress(value=0.0, max=200.0), HTML(value='')))"
      ]
     },
     "metadata": {},
     "output_type": "display_data"
    },
    {
     "name": "stdout",
     "output_type": "stream",
     "text": [
      "\n"
     ]
    },
    {
     "data": {
      "application/vnd.jupyter.widget-view+json": {
       "model_id": "b91beadec0cb44ee9e4c28ac65ed604b",
       "version_major": 2,
       "version_minor": 0
      },
      "text/plain": [
       "HBox(children=(HTML(value=''), FloatProgress(value=0.0, max=200.0), HTML(value='')))"
      ]
     },
     "metadata": {},
     "output_type": "display_data"
    },
    {
     "name": "stdout",
     "output_type": "stream",
     "text": [
      "\n"
     ]
    },
    {
     "data": {
      "application/vnd.jupyter.widget-view+json": {
       "model_id": "97967af5923b47c69cdba4039a2a90ea",
       "version_major": 2,
       "version_minor": 0
      },
      "text/plain": [
       "HBox(children=(HTML(value=''), FloatProgress(value=0.0, max=200.0), HTML(value='')))"
      ]
     },
     "metadata": {},
     "output_type": "display_data"
    },
    {
     "name": "stdout",
     "output_type": "stream",
     "text": [
      "\n"
     ]
    },
    {
     "data": {
      "application/vnd.jupyter.widget-view+json": {
       "model_id": "86228e98c6524785a6fd0737b1a4d704",
       "version_major": 2,
       "version_minor": 0
      },
      "text/plain": [
       "HBox(children=(HTML(value=''), FloatProgress(value=0.0, max=200.0), HTML(value='')))"
      ]
     },
     "metadata": {},
     "output_type": "display_data"
    },
    {
     "name": "stdout",
     "output_type": "stream",
     "text": [
      "\n"
     ]
    },
    {
     "data": {
      "application/vnd.jupyter.widget-view+json": {
       "model_id": "3356e966100940449ac14fbc124800d2",
       "version_major": 2,
       "version_minor": 0
      },
      "text/plain": [
       "HBox(children=(HTML(value=''), FloatProgress(value=0.0, max=200.0), HTML(value='')))"
      ]
     },
     "metadata": {},
     "output_type": "display_data"
    },
    {
     "name": "stdout",
     "output_type": "stream",
     "text": [
      "\n"
     ]
    },
    {
     "data": {
      "application/vnd.jupyter.widget-view+json": {
       "model_id": "b3bb381818294541af9571c5091b7128",
       "version_major": 2,
       "version_minor": 0
      },
      "text/plain": [
       "HBox(children=(HTML(value=''), FloatProgress(value=0.0, max=200.0), HTML(value='')))"
      ]
     },
     "metadata": {},
     "output_type": "display_data"
    },
    {
     "name": "stdout",
     "output_type": "stream",
     "text": [
      "\n"
     ]
    },
    {
     "data": {
      "application/vnd.jupyter.widget-view+json": {
       "model_id": "874a8c8c5dcd4c2aa2c524ae0c7e0874",
       "version_major": 2,
       "version_minor": 0
      },
      "text/plain": [
       "HBox(children=(HTML(value=''), FloatProgress(value=0.0, max=200.0), HTML(value='')))"
      ]
     },
     "metadata": {},
     "output_type": "display_data"
    },
    {
     "name": "stdout",
     "output_type": "stream",
     "text": [
      "\n"
     ]
    },
    {
     "data": {
      "application/vnd.jupyter.widget-view+json": {
       "model_id": "8a4dff0faf944dd5b39696df8c102085",
       "version_major": 2,
       "version_minor": 0
      },
      "text/plain": [
       "HBox(children=(HTML(value=''), FloatProgress(value=0.0, max=200.0), HTML(value='')))"
      ]
     },
     "metadata": {},
     "output_type": "display_data"
    },
    {
     "name": "stdout",
     "output_type": "stream",
     "text": [
      "\n"
     ]
    },
    {
     "data": {
      "application/vnd.jupyter.widget-view+json": {
       "model_id": "eb16c729c4da40aba65e1863654c5284",
       "version_major": 2,
       "version_minor": 0
      },
      "text/plain": [
       "HBox(children=(HTML(value=''), FloatProgress(value=0.0, max=200.0), HTML(value='')))"
      ]
     },
     "metadata": {},
     "output_type": "display_data"
    },
    {
     "name": "stdout",
     "output_type": "stream",
     "text": [
      "\n"
     ]
    },
    {
     "data": {
      "application/vnd.jupyter.widget-view+json": {
       "model_id": "bfcefba3d52f44e0855edb1045d45f1b",
       "version_major": 2,
       "version_minor": 0
      },
      "text/plain": [
       "HBox(children=(HTML(value=''), FloatProgress(value=0.0, max=200.0), HTML(value='')))"
      ]
     },
     "metadata": {},
     "output_type": "display_data"
    },
    {
     "name": "stdout",
     "output_type": "stream",
     "text": [
      "\n"
     ]
    },
    {
     "data": {
      "application/vnd.jupyter.widget-view+json": {
       "model_id": "794af74a52ea4e3cb45a8147e50b1b09",
       "version_major": 2,
       "version_minor": 0
      },
      "text/plain": [
       "HBox(children=(HTML(value=''), FloatProgress(value=0.0, max=200.0), HTML(value='')))"
      ]
     },
     "metadata": {},
     "output_type": "display_data"
    },
    {
     "name": "stdout",
     "output_type": "stream",
     "text": [
      "\n"
     ]
    }
   ],
   "source": [
    "subst_results = [\n",
    "    chinese_context.all_hyp_for_model(model, copycat_model=copycat, gold_model=chinese_models[0])\n",
    "    for model, copycat in zip(chinese_word_subst, chinese_word_subst_copycats)\n",
    "]"
   ]
  },
  {
   "cell_type": "code",
   "execution_count": 89,
   "id": "sexual-victor",
   "metadata": {},
   "outputs": [
    {
     "data": {
      "text/plain": [
       "[{'unigram': tensor(0.5318, grad_fn=<DivBackward0>),\n",
       "  'bigram': tensor(0.8148, grad_fn=<DivBackward0>),\n",
       "  'outedge': tensor(0.5051, grad_fn=<DivBackward0>),\n",
       "  'ignore': tensor(0.4888, grad_fn=<DivBackward0>),\n",
       "  'add_interp': tensor(0.4994, grad_fn=<DivBackward0>),\n",
       "  'mul_interp': tensor(0.4706, grad_fn=<DivBackward0>),\n",
       "  'copycat': tensor(0.3120, grad_fn=<DivBackward0>)},\n",
       " {'unigram': tensor(0.5300, grad_fn=<DivBackward0>),\n",
       "  'bigram': tensor(0.8248, grad_fn=<DivBackward0>),\n",
       "  'outedge': tensor(0.4959, grad_fn=<DivBackward0>),\n",
       "  'ignore': tensor(0.4949, grad_fn=<DivBackward0>),\n",
       "  'add_interp': tensor(0.4903, grad_fn=<DivBackward0>),\n",
       "  'mul_interp': tensor(0.4673, grad_fn=<DivBackward0>),\n",
       "  'copycat': tensor(0.3264, grad_fn=<DivBackward0>)},\n",
       " {'unigram': tensor(0.4205, grad_fn=<DivBackward0>),\n",
       "  'bigram': tensor(0.8326, grad_fn=<DivBackward0>),\n",
       "  'outedge': tensor(0.4419, grad_fn=<DivBackward0>),\n",
       "  'ignore': tensor(0.3328, grad_fn=<DivBackward0>),\n",
       "  'add_interp': tensor(0.4370, grad_fn=<DivBackward0>),\n",
       "  'mul_interp': tensor(0.4130, grad_fn=<DivBackward0>),\n",
       "  'copycat': tensor(0.2949, grad_fn=<DivBackward0>)},\n",
       " {'unigram': tensor(0.3055, grad_fn=<DivBackward0>),\n",
       "  'bigram': tensor(0.8595, grad_fn=<DivBackward0>),\n",
       "  'outedge': tensor(0.4497, grad_fn=<DivBackward0>),\n",
       "  'ignore': tensor(0.1567, grad_fn=<DivBackward0>),\n",
       "  'add_interp': tensor(0.4456, grad_fn=<DivBackward0>),\n",
       "  'mul_interp': tensor(0.4249, grad_fn=<DivBackward0>),\n",
       "  'copycat': tensor(0.2175, grad_fn=<DivBackward0>)}]"
      ]
     },
     "execution_count": 89,
     "metadata": {},
     "output_type": "execute_result"
    }
   ],
   "source": [
    "subst_results"
   ]
  },
  {
   "cell_type": "code",
   "execution_count": 93,
   "id": "danish-oasis",
   "metadata": {},
   "outputs": [],
   "source": [
    "chinese_dropout = [\n",
    "    load_best_model_from('/raid/lingo/abau/lm/monolingual-models/chinese-dropout-%s-1' % s)\n",
    "    for s in ['0', '0.25', '0.5', '0.75']\n",
    "]\n",
    "chinese_dropout_copycats = [\n",
    "    load_best_model_from('/raid/lingo/abau/lm/monolingual-models/chinese-dropout-%s-2' % s)\n",
    "    for s in ['0', '0.25', '0.5', '0.75']\n",
    "]"
   ]
  },
  {
   "cell_type": "code",
   "execution_count": 94,
   "id": "framed-korea",
   "metadata": {},
   "outputs": [
    {
     "data": {
      "application/vnd.jupyter.widget-view+json": {
       "model_id": "55a9d1cca396434c87197f359d16dcb0",
       "version_major": 2,
       "version_minor": 0
      },
      "text/plain": [
       "HBox(children=(HTML(value=''), FloatProgress(value=0.0, max=200.0), HTML(value='')))"
      ]
     },
     "metadata": {},
     "output_type": "display_data"
    },
    {
     "name": "stdout",
     "output_type": "stream",
     "text": [
      "\n"
     ]
    },
    {
     "data": {
      "application/vnd.jupyter.widget-view+json": {
       "model_id": "329906129fb244efbdee9f74fdc55c1b",
       "version_major": 2,
       "version_minor": 0
      },
      "text/plain": [
       "HBox(children=(HTML(value=''), FloatProgress(value=0.0, max=200.0), HTML(value='')))"
      ]
     },
     "metadata": {},
     "output_type": "display_data"
    },
    {
     "name": "stdout",
     "output_type": "stream",
     "text": [
      "\n"
     ]
    },
    {
     "data": {
      "application/vnd.jupyter.widget-view+json": {
       "model_id": "f03866f84d804832b384dd3dcc90fab3",
       "version_major": 2,
       "version_minor": 0
      },
      "text/plain": [
       "HBox(children=(HTML(value=''), FloatProgress(value=0.0, max=200.0), HTML(value='')))"
      ]
     },
     "metadata": {},
     "output_type": "display_data"
    },
    {
     "name": "stdout",
     "output_type": "stream",
     "text": [
      "\n"
     ]
    },
    {
     "data": {
      "application/vnd.jupyter.widget-view+json": {
       "model_id": "4fba1c281c504cb1bda3261e1a0845f2",
       "version_major": 2,
       "version_minor": 0
      },
      "text/plain": [
       "HBox(children=(HTML(value=''), FloatProgress(value=0.0, max=200.0), HTML(value='')))"
      ]
     },
     "metadata": {},
     "output_type": "display_data"
    },
    {
     "name": "stdout",
     "output_type": "stream",
     "text": [
      "\n"
     ]
    },
    {
     "data": {
      "application/vnd.jupyter.widget-view+json": {
       "model_id": "af29030c16ca4d4d96e3c7d94fb4f789",
       "version_major": 2,
       "version_minor": 0
      },
      "text/plain": [
       "HBox(children=(HTML(value=''), FloatProgress(value=0.0, max=200.0), HTML(value='')))"
      ]
     },
     "metadata": {},
     "output_type": "display_data"
    },
    {
     "name": "stdout",
     "output_type": "stream",
     "text": [
      "\n"
     ]
    },
    {
     "data": {
      "application/vnd.jupyter.widget-view+json": {
       "model_id": "ee1fce1c48ac4e699e7ac45ac728cc86",
       "version_major": 2,
       "version_minor": 0
      },
      "text/plain": [
       "HBox(children=(HTML(value=''), FloatProgress(value=0.0, max=200.0), HTML(value='')))"
      ]
     },
     "metadata": {},
     "output_type": "display_data"
    },
    {
     "name": "stdout",
     "output_type": "stream",
     "text": [
      "\n"
     ]
    },
    {
     "data": {
      "application/vnd.jupyter.widget-view+json": {
       "model_id": "243208a53fcd483b87807ed3347ec204",
       "version_major": 2,
       "version_minor": 0
      },
      "text/plain": [
       "HBox(children=(HTML(value=''), FloatProgress(value=0.0, max=200.0), HTML(value='')))"
      ]
     },
     "metadata": {},
     "output_type": "display_data"
    },
    {
     "name": "stdout",
     "output_type": "stream",
     "text": [
      "\n"
     ]
    },
    {
     "data": {
      "application/vnd.jupyter.widget-view+json": {
       "model_id": "8756924ab4ab44a990f5d63bf084fca3",
       "version_major": 2,
       "version_minor": 0
      },
      "text/plain": [
       "HBox(children=(HTML(value=''), FloatProgress(value=0.0, max=200.0), HTML(value='')))"
      ]
     },
     "metadata": {},
     "output_type": "display_data"
    },
    {
     "name": "stdout",
     "output_type": "stream",
     "text": [
      "\n"
     ]
    },
    {
     "data": {
      "application/vnd.jupyter.widget-view+json": {
       "model_id": "d9e4b523ada04955825d133004f06682",
       "version_major": 2,
       "version_minor": 0
      },
      "text/plain": [
       "HBox(children=(HTML(value=''), FloatProgress(value=0.0, max=200.0), HTML(value='')))"
      ]
     },
     "metadata": {},
     "output_type": "display_data"
    },
    {
     "name": "stdout",
     "output_type": "stream",
     "text": [
      "\n"
     ]
    },
    {
     "data": {
      "application/vnd.jupyter.widget-view+json": {
       "model_id": "d8fd0804862f443493d04d28eb20a144",
       "version_major": 2,
       "version_minor": 0
      },
      "text/plain": [
       "HBox(children=(HTML(value=''), FloatProgress(value=0.0, max=200.0), HTML(value='')))"
      ]
     },
     "metadata": {},
     "output_type": "display_data"
    },
    {
     "name": "stdout",
     "output_type": "stream",
     "text": [
      "\n"
     ]
    },
    {
     "data": {
      "application/vnd.jupyter.widget-view+json": {
       "model_id": "a36882c239db42fca69a084b3a100e7c",
       "version_major": 2,
       "version_minor": 0
      },
      "text/plain": [
       "HBox(children=(HTML(value=''), FloatProgress(value=0.0, max=200.0), HTML(value='')))"
      ]
     },
     "metadata": {},
     "output_type": "display_data"
    },
    {
     "name": "stdout",
     "output_type": "stream",
     "text": [
      "\n"
     ]
    },
    {
     "data": {
      "application/vnd.jupyter.widget-view+json": {
       "model_id": "bc7e1ed3279440228447aaf74385d5f7",
       "version_major": 2,
       "version_minor": 0
      },
      "text/plain": [
       "HBox(children=(HTML(value=''), FloatProgress(value=0.0, max=200.0), HTML(value='')))"
      ]
     },
     "metadata": {},
     "output_type": "display_data"
    },
    {
     "name": "stdout",
     "output_type": "stream",
     "text": [
      "\n"
     ]
    },
    {
     "data": {
      "application/vnd.jupyter.widget-view+json": {
       "model_id": "717cff9a3f154107a7c11f2ce890cd79",
       "version_major": 2,
       "version_minor": 0
      },
      "text/plain": [
       "HBox(children=(HTML(value=''), FloatProgress(value=0.0, max=200.0), HTML(value='')))"
      ]
     },
     "metadata": {},
     "output_type": "display_data"
    },
    {
     "name": "stdout",
     "output_type": "stream",
     "text": [
      "\n"
     ]
    },
    {
     "data": {
      "application/vnd.jupyter.widget-view+json": {
       "model_id": "da9d007ba4174d6f80ced861d697c2ec",
       "version_major": 2,
       "version_minor": 0
      },
      "text/plain": [
       "HBox(children=(HTML(value=''), FloatProgress(value=0.0, max=200.0), HTML(value='')))"
      ]
     },
     "metadata": {},
     "output_type": "display_data"
    },
    {
     "name": "stdout",
     "output_type": "stream",
     "text": [
      "\n"
     ]
    },
    {
     "data": {
      "application/vnd.jupyter.widget-view+json": {
       "model_id": "f7568c2667a246f4ad3357fadb00926c",
       "version_major": 2,
       "version_minor": 0
      },
      "text/plain": [
       "HBox(children=(HTML(value=''), FloatProgress(value=0.0, max=200.0), HTML(value='')))"
      ]
     },
     "metadata": {},
     "output_type": "display_data"
    },
    {
     "name": "stdout",
     "output_type": "stream",
     "text": [
      "\n"
     ]
    },
    {
     "data": {
      "application/vnd.jupyter.widget-view+json": {
       "model_id": "2632c57c727d450ca4be98845c2938ae",
       "version_major": 2,
       "version_minor": 0
      },
      "text/plain": [
       "HBox(children=(HTML(value=''), FloatProgress(value=0.0, max=200.0), HTML(value='')))"
      ]
     },
     "metadata": {},
     "output_type": "display_data"
    },
    {
     "name": "stdout",
     "output_type": "stream",
     "text": [
      "\n"
     ]
    }
   ],
   "source": [
    "dropout_results = [\n",
    "    chinese_context.all_hyp_for_model(model, copycat_model=copycat, gold_model=chinese_models[0])\n",
    "    for model, copycat in zip(chinese_dropout, chinese_dropout_copycats)\n",
    "]"
   ]
  },
  {
   "cell_type": "code",
   "execution_count": 7,
   "id": "worldwide-packing",
   "metadata": {},
   "outputs": [],
   "source": [
    "def load_best_transformer_model_from(root):\n",
    "    checkpoints = os.listdir(root)\n",
    "    best = min(checkpoints, key = lambda x: float(x.split('loss-')[1].split('.pt')[0]))\n",
    "    loss = float(best.split('loss-')[1].split('.')[0])\n",
    "    state_dict = torch.load(os.path.join(root, best))\n",
    "    model = TransformerModel(2 ** 14, 512, 2, 512, 2, 0.2).cuda()\n",
    "    model.load_state_dict(state_dict)\n",
    "    return model"
   ]
  },
  {
   "cell_type": "code",
   "execution_count": 8,
   "id": "realistic-organizer",
   "metadata": {},
   "outputs": [],
   "source": [
    "english_t_models = [\n",
    "    load_best_transformer_model_from('/raid/lingo/abau/lm/monolingual-models/20k-transformer-seed-%s' % s)\n",
    "    for s in ['0', '1', '2', '3']\n",
    "]\n",
    "finnish_t_models = [\n",
    "    load_best_transformer_model_from('/raid/lingo/abau/lm/monolingual-models/finnish-transformer-seed-%s' % s)\n",
    "    for s in ['0', '1', '2', '3']\n",
    "]\n",
    "chinese_t_models = [\n",
    "    load_best_transformer_model_from('/raid/lingo/abau/lm/monolingual-models/chinese-transformer-seed-%s' % s)\n",
    "    for s in ['0', '1', '2', '3']\n",
    "]"
   ]
  },
  {
   "cell_type": "code",
   "execution_count": 11,
   "id": "based-prairie",
   "metadata": {},
   "outputs": [],
   "source": [
    "def detach_dict(d):\n",
    "    return {k: d[k].detach().cpu() for k in d}\n",
    "def compute_all_results_transformer(context, models, method = 'tvd'):\n",
    "    results = []\n",
    "    for model, copycat in zip(models, models[1:] + [models[0]]):\n",
    "        results.append(detach_dict(context.all_hyp_for_transformer(model, copycat_model = copycat, gold_model = copycat)))\n",
    "    return results"
   ]
  },
  {
   "cell_type": "code",
   "execution_count": 12,
   "id": "enhanced-friend",
   "metadata": {},
   "outputs": [
    {
     "data": {
      "application/vnd.jupyter.widget-view+json": {
       "model_id": "2cb853159f03469299b5561ba91bfac0",
       "version_major": 2,
       "version_minor": 0
      },
      "text/plain": [
       "HBox(children=(HTML(value=''), FloatProgress(value=0.0, max=200.0), HTML(value='')))"
      ]
     },
     "metadata": {},
     "output_type": "display_data"
    },
    {
     "name": "stdout",
     "output_type": "stream",
     "text": [
      "\n"
     ]
    },
    {
     "data": {
      "application/vnd.jupyter.widget-view+json": {
       "model_id": "7517d305b2044266a8d5f7dda160e73a",
       "version_major": 2,
       "version_minor": 0
      },
      "text/plain": [
       "HBox(children=(HTML(value=''), FloatProgress(value=0.0, max=200.0), HTML(value='')))"
      ]
     },
     "metadata": {},
     "output_type": "display_data"
    },
    {
     "name": "stdout",
     "output_type": "stream",
     "text": [
      "\n"
     ]
    },
    {
     "data": {
      "application/vnd.jupyter.widget-view+json": {
       "model_id": "e17a5981a7a340d98ea8e6b6195364fd",
       "version_major": 2,
       "version_minor": 0
      },
      "text/plain": [
       "HBox(children=(HTML(value=''), FloatProgress(value=0.0, max=200.0), HTML(value='')))"
      ]
     },
     "metadata": {},
     "output_type": "display_data"
    },
    {
     "name": "stdout",
     "output_type": "stream",
     "text": [
      "\n"
     ]
    },
    {
     "data": {
      "application/vnd.jupyter.widget-view+json": {
       "model_id": "23ddb9609521414b9cc75f6877c5a24c",
       "version_major": 2,
       "version_minor": 0
      },
      "text/plain": [
       "HBox(children=(HTML(value=''), FloatProgress(value=0.0, max=200.0), HTML(value='')))"
      ]
     },
     "metadata": {},
     "output_type": "display_data"
    },
    {
     "name": "stdout",
     "output_type": "stream",
     "text": [
      "\n"
     ]
    },
    {
     "data": {
      "application/vnd.jupyter.widget-view+json": {
       "model_id": "7724d0d4fe394f9b990dc1bc5879c64d",
       "version_major": 2,
       "version_minor": 0
      },
      "text/plain": [
       "HBox(children=(HTML(value=''), FloatProgress(value=0.0, max=200.0), HTML(value='')))"
      ]
     },
     "metadata": {},
     "output_type": "display_data"
    },
    {
     "name": "stdout",
     "output_type": "stream",
     "text": [
      "\n"
     ]
    },
    {
     "data": {
      "application/vnd.jupyter.widget-view+json": {
       "model_id": "46885edcb0d44cb6ac4b54380d6dfe5e",
       "version_major": 2,
       "version_minor": 0
      },
      "text/plain": [
       "HBox(children=(HTML(value=''), FloatProgress(value=0.0, max=200.0), HTML(value='')))"
      ]
     },
     "metadata": {},
     "output_type": "display_data"
    },
    {
     "name": "stdout",
     "output_type": "stream",
     "text": [
      "\n"
     ]
    },
    {
     "data": {
      "application/vnd.jupyter.widget-view+json": {
       "model_id": "be2f1e4d7e0244b8ab0148c0edbfc0cc",
       "version_major": 2,
       "version_minor": 0
      },
      "text/plain": [
       "HBox(children=(HTML(value=''), FloatProgress(value=0.0, max=200.0), HTML(value='')))"
      ]
     },
     "metadata": {},
     "output_type": "display_data"
    },
    {
     "name": "stdout",
     "output_type": "stream",
     "text": [
      "\n"
     ]
    },
    {
     "data": {
      "application/vnd.jupyter.widget-view+json": {
       "model_id": "2a540d63949142f381c0e4a782299057",
       "version_major": 2,
       "version_minor": 0
      },
      "text/plain": [
       "HBox(children=(HTML(value=''), FloatProgress(value=0.0, max=200.0), HTML(value='')))"
      ]
     },
     "metadata": {},
     "output_type": "display_data"
    },
    {
     "name": "stdout",
     "output_type": "stream",
     "text": [
      "\n"
     ]
    },
    {
     "data": {
      "application/vnd.jupyter.widget-view+json": {
       "model_id": "5abb966fcce54a0391b7afffc76842de",
       "version_major": 2,
       "version_minor": 0
      },
      "text/plain": [
       "HBox(children=(HTML(value=''), FloatProgress(value=0.0, max=200.0), HTML(value='')))"
      ]
     },
     "metadata": {},
     "output_type": "display_data"
    },
    {
     "name": "stdout",
     "output_type": "stream",
     "text": [
      "\n"
     ]
    },
    {
     "data": {
      "application/vnd.jupyter.widget-view+json": {
       "model_id": "1a67e4badfe6426a9adbfb807215fc95",
       "version_major": 2,
       "version_minor": 0
      },
      "text/plain": [
       "HBox(children=(HTML(value=''), FloatProgress(value=0.0, max=200.0), HTML(value='')))"
      ]
     },
     "metadata": {},
     "output_type": "display_data"
    },
    {
     "name": "stdout",
     "output_type": "stream",
     "text": [
      "\n"
     ]
    },
    {
     "data": {
      "application/vnd.jupyter.widget-view+json": {
       "model_id": "93ba98528e58499892af470865d64710",
       "version_major": 2,
       "version_minor": 0
      },
      "text/plain": [
       "HBox(children=(HTML(value=''), FloatProgress(value=0.0, max=200.0), HTML(value='')))"
      ]
     },
     "metadata": {},
     "output_type": "display_data"
    },
    {
     "name": "stdout",
     "output_type": "stream",
     "text": [
      "\n"
     ]
    },
    {
     "data": {
      "application/vnd.jupyter.widget-view+json": {
       "model_id": "7e1c8911e1374b568e22ea10d62e3655",
       "version_major": 2,
       "version_minor": 0
      },
      "text/plain": [
       "HBox(children=(HTML(value=''), FloatProgress(value=0.0, max=200.0), HTML(value='')))"
      ]
     },
     "metadata": {},
     "output_type": "display_data"
    },
    {
     "name": "stdout",
     "output_type": "stream",
     "text": [
      "\n"
     ]
    },
    {
     "data": {
      "application/vnd.jupyter.widget-view+json": {
       "model_id": "40f24a697d2541039cb7da5eca112141",
       "version_major": 2,
       "version_minor": 0
      },
      "text/plain": [
       "HBox(children=(HTML(value=''), FloatProgress(value=0.0, max=200.0), HTML(value='')))"
      ]
     },
     "metadata": {},
     "output_type": "display_data"
    },
    {
     "name": "stdout",
     "output_type": "stream",
     "text": [
      "\n"
     ]
    },
    {
     "data": {
      "application/vnd.jupyter.widget-view+json": {
       "model_id": "7ddb1d324fb34356b3979ff9c5626fdc",
       "version_major": 2,
       "version_minor": 0
      },
      "text/plain": [
       "HBox(children=(HTML(value=''), FloatProgress(value=0.0, max=200.0), HTML(value='')))"
      ]
     },
     "metadata": {},
     "output_type": "display_data"
    },
    {
     "name": "stdout",
     "output_type": "stream",
     "text": [
      "\n"
     ]
    },
    {
     "data": {
      "application/vnd.jupyter.widget-view+json": {
       "model_id": "40ef8bcd3b044a068bf31887e54bd0cc",
       "version_major": 2,
       "version_minor": 0
      },
      "text/plain": [
       "HBox(children=(HTML(value=''), FloatProgress(value=0.0, max=200.0), HTML(value='')))"
      ]
     },
     "metadata": {},
     "output_type": "display_data"
    },
    {
     "name": "stdout",
     "output_type": "stream",
     "text": [
      "\n"
     ]
    },
    {
     "data": {
      "application/vnd.jupyter.widget-view+json": {
       "model_id": "82aaf8c2f30a438189d780fbc645b6e4",
       "version_major": 2,
       "version_minor": 0
      },
      "text/plain": [
       "HBox(children=(HTML(value=''), FloatProgress(value=0.0, max=200.0), HTML(value='')))"
      ]
     },
     "metadata": {},
     "output_type": "display_data"
    },
    {
     "name": "stdout",
     "output_type": "stream",
     "text": [
      "\n"
     ]
    },
    {
     "data": {
      "application/vnd.jupyter.widget-view+json": {
       "model_id": "db4a7f150bce410f9535e842870df31e",
       "version_major": 2,
       "version_minor": 0
      },
      "text/plain": [
       "HBox(children=(HTML(value=''), FloatProgress(value=0.0, max=200.0), HTML(value='')))"
      ]
     },
     "metadata": {},
     "output_type": "display_data"
    },
    {
     "name": "stdout",
     "output_type": "stream",
     "text": [
      "\n"
     ]
    },
    {
     "data": {
      "application/vnd.jupyter.widget-view+json": {
       "model_id": "97a0e0b7b40246d093de289068f59d4c",
       "version_major": 2,
       "version_minor": 0
      },
      "text/plain": [
       "HBox(children=(HTML(value=''), FloatProgress(value=0.0, max=200.0), HTML(value='')))"
      ]
     },
     "metadata": {},
     "output_type": "display_data"
    },
    {
     "name": "stdout",
     "output_type": "stream",
     "text": [
      "\n"
     ]
    },
    {
     "data": {
      "application/vnd.jupyter.widget-view+json": {
       "model_id": "9c6927e6d6944bfaabcd4da36fd2a784",
       "version_major": 2,
       "version_minor": 0
      },
      "text/plain": [
       "HBox(children=(HTML(value=''), FloatProgress(value=0.0, max=200.0), HTML(value='')))"
      ]
     },
     "metadata": {},
     "output_type": "display_data"
    },
    {
     "name": "stdout",
     "output_type": "stream",
     "text": [
      "\n"
     ]
    },
    {
     "data": {
      "application/vnd.jupyter.widget-view+json": {
       "model_id": "f50a9338450f4a1c9b9a270545f2b373",
       "version_major": 2,
       "version_minor": 0
      },
      "text/plain": [
       "HBox(children=(HTML(value=''), FloatProgress(value=0.0, max=200.0), HTML(value='')))"
      ]
     },
     "metadata": {},
     "output_type": "display_data"
    },
    {
     "name": "stdout",
     "output_type": "stream",
     "text": [
      "\n"
     ]
    },
    {
     "data": {
      "application/vnd.jupyter.widget-view+json": {
       "model_id": "d95e875e8bb24c599131a75a7688c656",
       "version_major": 2,
       "version_minor": 0
      },
      "text/plain": [
       "HBox(children=(HTML(value=''), FloatProgress(value=0.0, max=200.0), HTML(value='')))"
      ]
     },
     "metadata": {},
     "output_type": "display_data"
    },
    {
     "name": "stdout",
     "output_type": "stream",
     "text": [
      "\n"
     ]
    },
    {
     "data": {
      "application/vnd.jupyter.widget-view+json": {
       "model_id": "267f8ddfc9f14dd9849dad5f577320c4",
       "version_major": 2,
       "version_minor": 0
      },
      "text/plain": [
       "HBox(children=(HTML(value=''), FloatProgress(value=0.0, max=200.0), HTML(value='')))"
      ]
     },
     "metadata": {},
     "output_type": "display_data"
    },
    {
     "name": "stdout",
     "output_type": "stream",
     "text": [
      "\n"
     ]
    },
    {
     "data": {
      "application/vnd.jupyter.widget-view+json": {
       "model_id": "7776924744c341a6b599da7c9ee68888",
       "version_major": 2,
       "version_minor": 0
      },
      "text/plain": [
       "HBox(children=(HTML(value=''), FloatProgress(value=0.0, max=200.0), HTML(value='')))"
      ]
     },
     "metadata": {},
     "output_type": "display_data"
    },
    {
     "name": "stdout",
     "output_type": "stream",
     "text": [
      "\n"
     ]
    },
    {
     "data": {
      "application/vnd.jupyter.widget-view+json": {
       "model_id": "2a9e5243553349e4a8dec1d140187877",
       "version_major": 2,
       "version_minor": 0
      },
      "text/plain": [
       "HBox(children=(HTML(value=''), FloatProgress(value=0.0, max=200.0), HTML(value='')))"
      ]
     },
     "metadata": {},
     "output_type": "display_data"
    },
    {
     "name": "stdout",
     "output_type": "stream",
     "text": [
      "\n"
     ]
    },
    {
     "data": {
      "application/vnd.jupyter.widget-view+json": {
       "model_id": "11819f30b4b949eeb569247affe30730",
       "version_major": 2,
       "version_minor": 0
      },
      "text/plain": [
       "HBox(children=(HTML(value=''), FloatProgress(value=0.0, max=200.0), HTML(value='')))"
      ]
     },
     "metadata": {},
     "output_type": "display_data"
    },
    {
     "name": "stdout",
     "output_type": "stream",
     "text": [
      "\n"
     ]
    },
    {
     "data": {
      "application/vnd.jupyter.widget-view+json": {
       "model_id": "4fb3c37b97804acc85fdd29f05b2143b",
       "version_major": 2,
       "version_minor": 0
      },
      "text/plain": [
       "HBox(children=(HTML(value=''), FloatProgress(value=0.0, max=200.0), HTML(value='')))"
      ]
     },
     "metadata": {},
     "output_type": "display_data"
    },
    {
     "name": "stdout",
     "output_type": "stream",
     "text": [
      "\n"
     ]
    },
    {
     "data": {
      "application/vnd.jupyter.widget-view+json": {
       "model_id": "753be80f8e724f49b85b23bf52690438",
       "version_major": 2,
       "version_minor": 0
      },
      "text/plain": [
       "HBox(children=(HTML(value=''), FloatProgress(value=0.0, max=200.0), HTML(value='')))"
      ]
     },
     "metadata": {},
     "output_type": "display_data"
    },
    {
     "name": "stdout",
     "output_type": "stream",
     "text": [
      "\n"
     ]
    },
    {
     "data": {
      "application/vnd.jupyter.widget-view+json": {
       "model_id": "cba593a0670641c5b7fe7c3cd0dc1d02",
       "version_major": 2,
       "version_minor": 0
      },
      "text/plain": [
       "HBox(children=(HTML(value=''), FloatProgress(value=0.0, max=200.0), HTML(value='')))"
      ]
     },
     "metadata": {},
     "output_type": "display_data"
    },
    {
     "name": "stdout",
     "output_type": "stream",
     "text": [
      "\n"
     ]
    },
    {
     "data": {
      "application/vnd.jupyter.widget-view+json": {
       "model_id": "7ceaabb7d85e4bcab65ca0fd4b770edd",
       "version_major": 2,
       "version_minor": 0
      },
      "text/plain": [
       "HBox(children=(HTML(value=''), FloatProgress(value=0.0, max=200.0), HTML(value='')))"
      ]
     },
     "metadata": {},
     "output_type": "display_data"
    },
    {
     "name": "stdout",
     "output_type": "stream",
     "text": [
      "\n"
     ]
    },
    {
     "data": {
      "application/vnd.jupyter.widget-view+json": {
       "model_id": "a82e4d1fe3704a459bfa5db8fed955e2",
       "version_major": 2,
       "version_minor": 0
      },
      "text/plain": [
       "HBox(children=(HTML(value=''), FloatProgress(value=0.0, max=200.0), HTML(value='')))"
      ]
     },
     "metadata": {},
     "output_type": "display_data"
    },
    {
     "name": "stdout",
     "output_type": "stream",
     "text": [
      "\n"
     ]
    },
    {
     "data": {
      "application/vnd.jupyter.widget-view+json": {
       "model_id": "e6267e6275d24560b63b64c2f1d5ae48",
       "version_major": 2,
       "version_minor": 0
      },
      "text/plain": [
       "HBox(children=(HTML(value=''), FloatProgress(value=0.0, max=200.0), HTML(value='')))"
      ]
     },
     "metadata": {},
     "output_type": "display_data"
    },
    {
     "name": "stdout",
     "output_type": "stream",
     "text": [
      "\n"
     ]
    },
    {
     "data": {
      "application/vnd.jupyter.widget-view+json": {
       "model_id": "542f16ad0ab84ffa8bb4ac9fe645a4e2",
       "version_major": 2,
       "version_minor": 0
      },
      "text/plain": [
       "HBox(children=(HTML(value=''), FloatProgress(value=0.0, max=200.0), HTML(value='')))"
      ]
     },
     "metadata": {},
     "output_type": "display_data"
    },
    {
     "name": "stdout",
     "output_type": "stream",
     "text": [
      "\n"
     ]
    },
    {
     "data": {
      "application/vnd.jupyter.widget-view+json": {
       "model_id": "aa51395fd5f14b17adea57b8321f24dd",
       "version_major": 2,
       "version_minor": 0
      },
      "text/plain": [
       "HBox(children=(HTML(value=''), FloatProgress(value=0.0, max=200.0), HTML(value='')))"
      ]
     },
     "metadata": {},
     "output_type": "display_data"
    },
    {
     "name": "stdout",
     "output_type": "stream",
     "text": [
      "\n"
     ]
    },
    {
     "data": {
      "application/vnd.jupyter.widget-view+json": {
       "model_id": "78b6a8c6baab483e9c2130898d21b364",
       "version_major": 2,
       "version_minor": 0
      },
      "text/plain": [
       "HBox(children=(HTML(value=''), FloatProgress(value=0.0, max=200.0), HTML(value='')))"
      ]
     },
     "metadata": {},
     "output_type": "display_data"
    },
    {
     "name": "stdout",
     "output_type": "stream",
     "text": [
      "\n"
     ]
    },
    {
     "data": {
      "application/vnd.jupyter.widget-view+json": {
       "model_id": "0c5e249a4f1549ad8098f5060976f14b",
       "version_major": 2,
       "version_minor": 0
      },
      "text/plain": [
       "HBox(children=(HTML(value=''), FloatProgress(value=0.0, max=200.0), HTML(value='')))"
      ]
     },
     "metadata": {},
     "output_type": "display_data"
    },
    {
     "name": "stdout",
     "output_type": "stream",
     "text": [
      "\n"
     ]
    },
    {
     "data": {
      "application/vnd.jupyter.widget-view+json": {
       "model_id": "6971c088f5ce4b3aa63dad69e3811fcc",
       "version_major": 2,
       "version_minor": 0
      },
      "text/plain": [
       "HBox(children=(HTML(value=''), FloatProgress(value=0.0, max=200.0), HTML(value='')))"
      ]
     },
     "metadata": {},
     "output_type": "display_data"
    },
    {
     "name": "stdout",
     "output_type": "stream",
     "text": [
      "\n"
     ]
    },
    {
     "data": {
      "application/vnd.jupyter.widget-view+json": {
       "model_id": "d3670e7e8a2e4bd097b023dbaeadca3b",
       "version_major": 2,
       "version_minor": 0
      },
      "text/plain": [
       "HBox(children=(HTML(value=''), FloatProgress(value=0.0, max=200.0), HTML(value='')))"
      ]
     },
     "metadata": {},
     "output_type": "display_data"
    },
    {
     "name": "stdout",
     "output_type": "stream",
     "text": [
      "\n"
     ]
    },
    {
     "data": {
      "application/vnd.jupyter.widget-view+json": {
       "model_id": "ab7de3540a404f49843ca6d3b5be240d",
       "version_major": 2,
       "version_minor": 0
      },
      "text/plain": [
       "HBox(children=(HTML(value=''), FloatProgress(value=0.0, max=200.0), HTML(value='')))"
      ]
     },
     "metadata": {},
     "output_type": "display_data"
    },
    {
     "name": "stdout",
     "output_type": "stream",
     "text": [
      "\n"
     ]
    },
    {
     "data": {
      "application/vnd.jupyter.widget-view+json": {
       "model_id": "76a506c872184420b6cc952bc1d0ff5a",
       "version_major": 2,
       "version_minor": 0
      },
      "text/plain": [
       "HBox(children=(HTML(value=''), FloatProgress(value=0.0, max=200.0), HTML(value='')))"
      ]
     },
     "metadata": {},
     "output_type": "display_data"
    },
    {
     "name": "stdout",
     "output_type": "stream",
     "text": [
      "\n"
     ]
    },
    {
     "data": {
      "application/vnd.jupyter.widget-view+json": {
       "model_id": "d77ed69d082947caac16f1b448e490a5",
       "version_major": 2,
       "version_minor": 0
      },
      "text/plain": [
       "HBox(children=(HTML(value=''), FloatProgress(value=0.0, max=200.0), HTML(value='')))"
      ]
     },
     "metadata": {},
     "output_type": "display_data"
    },
    {
     "name": "stdout",
     "output_type": "stream",
     "text": [
      "\n"
     ]
    },
    {
     "data": {
      "application/vnd.jupyter.widget-view+json": {
       "model_id": "7f2dfc8c4db741f78f46fcf39d2b9087",
       "version_major": 2,
       "version_minor": 0
      },
      "text/plain": [
       "HBox(children=(HTML(value=''), FloatProgress(value=0.0, max=200.0), HTML(value='')))"
      ]
     },
     "metadata": {},
     "output_type": "display_data"
    },
    {
     "name": "stdout",
     "output_type": "stream",
     "text": [
      "\n"
     ]
    },
    {
     "data": {
      "application/vnd.jupyter.widget-view+json": {
       "model_id": "120e22060ea242bc919ff48bc872cd09",
       "version_major": 2,
       "version_minor": 0
      },
      "text/plain": [
       "HBox(children=(HTML(value=''), FloatProgress(value=0.0, max=200.0), HTML(value='')))"
      ]
     },
     "metadata": {},
     "output_type": "display_data"
    },
    {
     "name": "stdout",
     "output_type": "stream",
     "text": [
      "\n"
     ]
    },
    {
     "data": {
      "application/vnd.jupyter.widget-view+json": {
       "model_id": "2d7ab9afaa834951b46787b780640954",
       "version_major": 2,
       "version_minor": 0
      },
      "text/plain": [
       "HBox(children=(HTML(value=''), FloatProgress(value=0.0, max=200.0), HTML(value='')))"
      ]
     },
     "metadata": {},
     "output_type": "display_data"
    },
    {
     "name": "stdout",
     "output_type": "stream",
     "text": [
      "\n"
     ]
    },
    {
     "data": {
      "application/vnd.jupyter.widget-view+json": {
       "model_id": "71c976161ee8497883522e7260c33375",
       "version_major": 2,
       "version_minor": 0
      },
      "text/plain": [
       "HBox(children=(HTML(value=''), FloatProgress(value=0.0, max=200.0), HTML(value='')))"
      ]
     },
     "metadata": {},
     "output_type": "display_data"
    },
    {
     "name": "stdout",
     "output_type": "stream",
     "text": [
      "\n"
     ]
    },
    {
     "data": {
      "application/vnd.jupyter.widget-view+json": {
       "model_id": "c64d8e35beb649988a6dc4e13f2f3561",
       "version_major": 2,
       "version_minor": 0
      },
      "text/plain": [
       "HBox(children=(HTML(value=''), FloatProgress(value=0.0, max=200.0), HTML(value='')))"
      ]
     },
     "metadata": {},
     "output_type": "display_data"
    },
    {
     "name": "stdout",
     "output_type": "stream",
     "text": [
      "\n"
     ]
    },
    {
     "data": {
      "application/vnd.jupyter.widget-view+json": {
       "model_id": "8388000a6b164c7c9239f262d585a5f9",
       "version_major": 2,
       "version_minor": 0
      },
      "text/plain": [
       "HBox(children=(HTML(value=''), FloatProgress(value=0.0, max=200.0), HTML(value='')))"
      ]
     },
     "metadata": {},
     "output_type": "display_data"
    },
    {
     "name": "stdout",
     "output_type": "stream",
     "text": [
      "\n"
     ]
    },
    {
     "data": {
      "application/vnd.jupyter.widget-view+json": {
       "model_id": "665e3d69ab0c4f86a3f05f338578f406",
       "version_major": 2,
       "version_minor": 0
      },
      "text/plain": [
       "HBox(children=(HTML(value=''), FloatProgress(value=0.0, max=200.0), HTML(value='')))"
      ]
     },
     "metadata": {},
     "output_type": "display_data"
    },
    {
     "name": "stdout",
     "output_type": "stream",
     "text": [
      "\n"
     ]
    },
    {
     "data": {
      "application/vnd.jupyter.widget-view+json": {
       "model_id": "22827afba4ae4fb985c770962ca412de",
       "version_major": 2,
       "version_minor": 0
      },
      "text/plain": [
       "HBox(children=(HTML(value=''), FloatProgress(value=0.0, max=200.0), HTML(value='')))"
      ]
     },
     "metadata": {},
     "output_type": "display_data"
    },
    {
     "name": "stdout",
     "output_type": "stream",
     "text": [
      "\n"
     ]
    }
   ],
   "source": [
    "english_t_results = compute_all_results_transformer(english_bpe_context, english_t_models)\n",
    "finnish_t_results = compute_all_results_transformer(finnish_bpe_context, finnish_t_models)\n",
    "chinese_t_results = compute_all_results_transformer(chinese_context, chinese_t_models)"
   ]
  },
  {
   "cell_type": "code",
   "execution_count": 13,
   "id": "extraordinary-doubt",
   "metadata": {},
   "outputs": [],
   "source": [
    "torch.save({ 'english': english_t_results, 'chinese': chinese_t_results, 'finnish': finnish_t_results }, 'restart-transformer-results.pt')"
   ]
  },
  {
   "cell_type": "code",
   "execution_count": 15,
   "id": "underlying-possible",
   "metadata": {},
   "outputs": [
    {
     "data": {
      "application/vnd.jupyter.widget-view+json": {
       "model_id": "f465b80ab58f4011ae9a6b18005d36ed",
       "version_major": 2,
       "version_minor": 0
      },
      "text/plain": [
       "HBox(children=(HTML(value=''), FloatProgress(value=0.0, max=200.0), HTML(value='')))"
      ]
     },
     "metadata": {},
     "output_type": "display_data"
    },
    {
     "name": "stdout",
     "output_type": "stream",
     "text": [
      "\n"
     ]
    },
    {
     "data": {
      "application/vnd.jupyter.widget-view+json": {
       "model_id": "7468498ae1544308ae7c5589915e6474",
       "version_major": 2,
       "version_minor": 0
      },
      "text/plain": [
       "HBox(children=(HTML(value=''), FloatProgress(value=0.0, max=200.0), HTML(value='')))"
      ]
     },
     "metadata": {},
     "output_type": "display_data"
    },
    {
     "name": "stdout",
     "output_type": "stream",
     "text": [
      "\n"
     ]
    },
    {
     "data": {
      "application/vnd.jupyter.widget-view+json": {
       "model_id": "2b52fe22978944e9a9851f9ef563f021",
       "version_major": 2,
       "version_minor": 0
      },
      "text/plain": [
       "HBox(children=(HTML(value=''), FloatProgress(value=0.0, max=200.0), HTML(value='')))"
      ]
     },
     "metadata": {},
     "output_type": "display_data"
    },
    {
     "name": "stdout",
     "output_type": "stream",
     "text": [
      "\n"
     ]
    }
   ],
   "source": [
    "outedges = [ context.outedge_for_model(model_set[0]) for context, model_set in zip((english_bpe_context, chinese_context, finnish_bpe_context), (english_models, chinese_models, finnish_models))]"
   ]
  },
  {
   "cell_type": "code",
   "execution_count": 16,
   "id": "virgin-module",
   "metadata": {},
   "outputs": [
    {
     "data": {
      "application/vnd.jupyter.widget-view+json": {
       "model_id": "4b090555b91d4605a4713640355c471d",
       "version_major": 2,
       "version_minor": 0
      },
      "text/plain": [
       "HBox(children=(HTML(value=''), FloatProgress(value=0.0, max=200.0), HTML(value='')))"
      ]
     },
     "metadata": {},
     "output_type": "display_data"
    },
    {
     "name": "stdout",
     "output_type": "stream",
     "text": [
      "\n"
     ]
    },
    {
     "data": {
      "application/vnd.jupyter.widget-view+json": {
       "model_id": "0974d521cb9343efa3c2cea1238c130f",
       "version_major": 2,
       "version_minor": 0
      },
      "text/plain": [
       "HBox(children=(HTML(value=''), FloatProgress(value=0.0, max=200.0), HTML(value='')))"
      ]
     },
     "metadata": {},
     "output_type": "display_data"
    },
    {
     "name": "stdout",
     "output_type": "stream",
     "text": [
      "\n"
     ]
    },
    {
     "data": {
      "application/vnd.jupyter.widget-view+json": {
       "model_id": "604e0f38ed1946d2a46ed6915cf49b00",
       "version_major": 2,
       "version_minor": 0
      },
      "text/plain": [
       "HBox(children=(HTML(value=''), FloatProgress(value=0.0, max=200.0), HTML(value='')))"
      ]
     },
     "metadata": {},
     "output_type": "display_data"
    },
    {
     "name": "stdout",
     "output_type": "stream",
     "text": [
      "\n"
     ]
    }
   ],
   "source": [
    "actuals = [ context.actual_for_model(model_set[0]) for context, model_set in zip((english_bpe_context, chinese_context, finnish_bpe_context), (english_models, chinese_models, finnish_models))]"
   ]
  },
  {
   "cell_type": "code",
   "execution_count": 17,
   "id": "dress-hundred",
   "metadata": {},
   "outputs": [
    {
     "name": "stderr",
     "output_type": "stream",
     "text": [
      "findfont: Font family ['Helvetica'] not found. Falling back to DejaVu Sans.\n"
     ]
    },
    {
     "data": {
      "image/png": "[encoded data removed]",
      "text/plain": [
       "<Figure size 432x288 with 1 Axes>"
      ]
     },
     "metadata": {},
     "output_type": "display_data"
    }
   ],
   "source": [
    "mul_curves = [ context.mul_interpolation_curve(outedge, actual) for context, outedge, actual\n",
    "              in zip([english_bpe_context, chinese_context, finnish_bpe_context],\n",
    "                    outedges, actuals)]"
   ]
  },
  {
   "cell_type": "code",
   "execution_count": 18,
   "id": "appreciated-chest",
   "metadata": {},
   "outputs": [],
   "source": [
    "pandas_curves = sum([\n",
    "    [\n",
    "        (lang, a, b) for (a, b) in\n",
    "        zip(mul_curve[0], [float(x) for x in mul_curve[1]])\n",
    "    ]\n",
    "    for lang, mul_curve in zip(['English', 'Chinese', 'Finnish'], mul_curves)\n",
    "], [])"
   ]
  },
  {
   "cell_type": "code",
   "execution_count": 17,
   "id": "conditional-drilling",
   "metadata": {},
   "outputs": [],
   "source": [
    "import pandas as pd"
   ]
  },
  {
   "cell_type": "code",
   "execution_count": 20,
   "id": "regulated-alloy",
   "metadata": {},
   "outputs": [],
   "source": [
    "mul_data = pd.DataFrame(pandas_curves, columns=['Language', '$\\\\lambda$', '$\\\\textrm{err}(\\\\tilde{p}, p_{\\\\mathrm{LM}})$'])"
   ]
  },
  {
   "cell_type": "code",
   "execution_count": 48,
   "id": "independent-diamond",
   "metadata": {},
   "outputs": [],
   "source": [
    "import seaborn as sns\n",
    "sns.set(font_scale=1.4)\n",
    "sns.set_style('white', {'font.family':'Times New Roman'})"
   ]
  },
  {
   "cell_type": "code",
   "execution_count": 25,
   "id": "adult-trust",
   "metadata": {},
   "outputs": [
    {
     "data": {
      "image/png": "[encoded data removed]",
      "text/plain": [
       "<Figure size 477.065x360 with 1 Axes>"
      ]
     },
     "metadata": {},
     "output_type": "display_data"
    }
   ],
   "source": [
    "ax = sns.relplot(\n",
    "    data=mul_data.pivot('$\\\\lambda$', 'Language', '$\\\\textrm{err}(\\\\tilde{p}, p_{\\\\mathrm{LM}})$'),\n",
    "    kind='line')\n",
    "ax.axes[0][0].set_ylabel('TVD error')\n",
    "plt.savefig(f\"overlaid.png\")"
   ]
  },
  {
   "cell_type": "code",
   "execution_count": 6,
   "id": "consolidated-mason",
   "metadata": {},
   "outputs": [],
   "source": [
    "def load_noise_sequence(corpus, ntype):\n",
    "    return [\n",
    "        (load_best_model_from('/raid/lingo/abau/lm/monolingual-models/%s-%s-%s-1' %\n",
    "            (corpus, ntype, amount)),\n",
    "         load_best_model_from('/raid/lingo/abau/lm/monolingual-models/%s-%s-%s-2' %\n",
    "            (corpus, ntype, amount))\n",
    "        )\n",
    "        for amount in ['0', '0.25', '0.5']\n",
    "    ]"
   ]
  },
  {
   "cell_type": "code",
   "execution_count": 7,
   "id": "sized-davis",
   "metadata": {},
   "outputs": [],
   "source": [
    "def get_results_for(corpus, ntype, context):\n",
    "    return [context.all_hyp_for_model(model, copycat_model=copycat) for model, copycat in load_noise_sequence(corpus, ntype)]"
   ]
  },
  {
   "cell_type": "code",
   "execution_count": 8,
   "id": "sustained-shoulder",
   "metadata": {},
   "outputs": [
    {
     "data": {
      "application/vnd.jupyter.widget-view+json": {
       "model_id": "365f9d56e9174536b54074cad96d6688",
       "version_major": 2,
       "version_minor": 0
      },
      "text/plain": [
       "HBox(children=(HTML(value=''), FloatProgress(value=0.0, max=200.0), HTML(value='')))"
      ]
     },
     "metadata": {},
     "output_type": "display_data"
    },
    {
     "name": "stdout",
     "output_type": "stream",
     "text": [
      "\n"
     ]
    },
    {
     "data": {
      "application/vnd.jupyter.widget-view+json": {
       "model_id": "b3bfc6ee856e4ca1adaab86994d6e22d",
       "version_major": 2,
       "version_minor": 0
      },
      "text/plain": [
       "HBox(children=(HTML(value=''), FloatProgress(value=0.0, max=200.0), HTML(value='')))"
      ]
     },
     "metadata": {},
     "output_type": "display_data"
    },
    {
     "name": "stdout",
     "output_type": "stream",
     "text": [
      "\n"
     ]
    },
    {
     "data": {
      "application/vnd.jupyter.widget-view+json": {
       "model_id": "3772507509724a14b59b606134af8ed4",
       "version_major": 2,
       "version_minor": 0
      },
      "text/plain": [
       "HBox(children=(HTML(value=''), FloatProgress(value=0.0, max=200.0), HTML(value='')))"
      ]
     },
     "metadata": {},
     "output_type": "display_data"
    },
    {
     "name": "stdout",
     "output_type": "stream",
     "text": [
      "\n"
     ]
    },
    {
     "data": {
      "application/vnd.jupyter.widget-view+json": {
       "model_id": "18b93317ebcc493b96f1d045b344538e",
       "version_major": 2,
       "version_minor": 0
      },
      "text/plain": [
       "HBox(children=(HTML(value=''), FloatProgress(value=0.0, max=200.0), HTML(value='')))"
      ]
     },
     "metadata": {},
     "output_type": "display_data"
    },
    {
     "name": "stdout",
     "output_type": "stream",
     "text": [
      "\n"
     ]
    },
    {
     "data": {
      "application/vnd.jupyter.widget-view+json": {
       "model_id": "d4ea49978c5a4df7824de09780adacbc",
       "version_major": 2,
       "version_minor": 0
      },
      "text/plain": [
       "HBox(children=(HTML(value=''), FloatProgress(value=0.0, max=200.0), HTML(value='')))"
      ]
     },
     "metadata": {},
     "output_type": "display_data"
    },
    {
     "name": "stdout",
     "output_type": "stream",
     "text": [
      "\n"
     ]
    },
    {
     "data": {
      "application/vnd.jupyter.widget-view+json": {
       "model_id": "bfc20e1b9e6642eb8f721f23bac2b259",
       "version_major": 2,
       "version_minor": 0
      },
      "text/plain": [
       "HBox(children=(HTML(value=''), FloatProgress(value=0.0, max=200.0), HTML(value='')))"
      ]
     },
     "metadata": {},
     "output_type": "display_data"
    },
    {
     "name": "stdout",
     "output_type": "stream",
     "text": [
      "\n"
     ]
    },
    {
     "data": {
      "application/vnd.jupyter.widget-view+json": {
       "model_id": "b14c97a62e0445b7b9190de38fabb11b",
       "version_major": 2,
       "version_minor": 0
      },
      "text/plain": [
       "HBox(children=(HTML(value=''), FloatProgress(value=0.0, max=200.0), HTML(value='')))"
      ]
     },
     "metadata": {},
     "output_type": "display_data"
    },
    {
     "name": "stdout",
     "output_type": "stream",
     "text": [
      "\n"
     ]
    },
    {
     "data": {
      "application/vnd.jupyter.widget-view+json": {
       "model_id": "df8231891983448c9f4aa182fa0f521b",
       "version_major": 2,
       "version_minor": 0
      },
      "text/plain": [
       "HBox(children=(HTML(value=''), FloatProgress(value=0.0, max=200.0), HTML(value='')))"
      ]
     },
     "metadata": {},
     "output_type": "display_data"
    },
    {
     "name": "stdout",
     "output_type": "stream",
     "text": [
      "\n"
     ]
    },
    {
     "data": {
      "application/vnd.jupyter.widget-view+json": {
       "model_id": "57664c398ba84c3e9b98a4c04b14f1db",
       "version_major": 2,
       "version_minor": 0
      },
      "text/plain": [
       "HBox(children=(HTML(value=''), FloatProgress(value=0.0, max=200.0), HTML(value='')))"
      ]
     },
     "metadata": {},
     "output_type": "display_data"
    },
    {
     "name": "stdout",
     "output_type": "stream",
     "text": [
      "\n"
     ]
    },
    {
     "data": {
      "application/vnd.jupyter.widget-view+json": {
       "model_id": "1205628a4aa24a859a071c7e12cb21c7",
       "version_major": 2,
       "version_minor": 0
      },
      "text/plain": [
       "HBox(children=(HTML(value=''), FloatProgress(value=0.0, max=200.0), HTML(value='')))"
      ]
     },
     "metadata": {},
     "output_type": "display_data"
    },
    {
     "name": "stdout",
     "output_type": "stream",
     "text": [
      "\n"
     ]
    },
    {
     "data": {
      "application/vnd.jupyter.widget-view+json": {
       "model_id": "a8094c486bf340c4b41fa18878652be2",
       "version_major": 2,
       "version_minor": 0
      },
      "text/plain": [
       "HBox(children=(HTML(value=''), FloatProgress(value=0.0, max=200.0), HTML(value='')))"
      ]
     },
     "metadata": {},
     "output_type": "display_data"
    },
    {
     "name": "stdout",
     "output_type": "stream",
     "text": [
      "\n"
     ]
    },
    {
     "data": {
      "application/vnd.jupyter.widget-view+json": {
       "model_id": "cf0325bfed4148afb7d6cd2e1681c5d7",
       "version_major": 2,
       "version_minor": 0
      },
      "text/plain": [
       "HBox(children=(HTML(value=''), FloatProgress(value=0.0, max=200.0), HTML(value='')))"
      ]
     },
     "metadata": {},
     "output_type": "display_data"
    },
    {
     "name": "stdout",
     "output_type": "stream",
     "text": [
      "\n"
     ]
    },
    {
     "data": {
      "application/vnd.jupyter.widget-view+json": {
       "model_id": "0c99a9484b434eafa13b15a39b993c29",
       "version_major": 2,
       "version_minor": 0
      },
      "text/plain": [
       "HBox(children=(HTML(value=''), FloatProgress(value=0.0, max=200.0), HTML(value='')))"
      ]
     },
     "metadata": {},
     "output_type": "display_data"
    },
    {
     "name": "stdout",
     "output_type": "stream",
     "text": [
      "\n"
     ]
    },
    {
     "data": {
      "application/vnd.jupyter.widget-view+json": {
       "model_id": "68781540c15b479e85f02c544024f6d4",
       "version_major": 2,
       "version_minor": 0
      },
      "text/plain": [
       "HBox(children=(HTML(value=''), FloatProgress(value=0.0, max=200.0), HTML(value='')))"
      ]
     },
     "metadata": {},
     "output_type": "display_data"
    },
    {
     "name": "stdout",
     "output_type": "stream",
     "text": [
      "\n"
     ]
    },
    {
     "data": {
      "application/vnd.jupyter.widget-view+json": {
       "model_id": "57d73c3ece2d4c6faa894786bcafb502",
       "version_major": 2,
       "version_minor": 0
      },
      "text/plain": [
       "HBox(children=(HTML(value=''), FloatProgress(value=0.0, max=200.0), HTML(value='')))"
      ]
     },
     "metadata": {},
     "output_type": "display_data"
    },
    {
     "name": "stdout",
     "output_type": "stream",
     "text": [
      "\n"
     ]
    },
    {
     "data": {
      "application/vnd.jupyter.widget-view+json": {
       "model_id": "d74c3140abde440c9e01a6cb08151665",
       "version_major": 2,
       "version_minor": 0
      },
      "text/plain": [
       "HBox(children=(HTML(value=''), FloatProgress(value=0.0, max=200.0), HTML(value='')))"
      ]
     },
     "metadata": {},
     "output_type": "display_data"
    },
    {
     "name": "stdout",
     "output_type": "stream",
     "text": [
      "\n"
     ]
    },
    {
     "data": {
      "application/vnd.jupyter.widget-view+json": {
       "model_id": "19800e7ed2284de389717304ee50136a",
       "version_major": 2,
       "version_minor": 0
      },
      "text/plain": [
       "HBox(children=(HTML(value=''), FloatProgress(value=0.0, max=200.0), HTML(value='')))"
      ]
     },
     "metadata": {},
     "output_type": "display_data"
    },
    {
     "name": "stdout",
     "output_type": "stream",
     "text": [
      "\n"
     ]
    },
    {
     "data": {
      "application/vnd.jupyter.widget-view+json": {
       "model_id": "ad5c4b330cbd4e29b35b69bc96da0b05",
       "version_major": 2,
       "version_minor": 0
      },
      "text/plain": [
       "HBox(children=(HTML(value=''), FloatProgress(value=0.0, max=200.0), HTML(value='')))"
      ]
     },
     "metadata": {},
     "output_type": "display_data"
    },
    {
     "name": "stdout",
     "output_type": "stream",
     "text": [
      "\n"
     ]
    },
    {
     "data": {
      "application/vnd.jupyter.widget-view+json": {
       "model_id": "43f90c4bf8814c4f843abd9d22299d38",
       "version_major": 2,
       "version_minor": 0
      },
      "text/plain": [
       "HBox(children=(HTML(value=''), FloatProgress(value=0.0, max=200.0), HTML(value='')))"
      ]
     },
     "metadata": {},
     "output_type": "display_data"
    },
    {
     "name": "stdout",
     "output_type": "stream",
     "text": [
      "\n"
     ]
    },
    {
     "data": {
      "application/vnd.jupyter.widget-view+json": {
       "model_id": "f08f4541c26b48cb86236ec63a1f0b35",
       "version_major": 2,
       "version_minor": 0
      },
      "text/plain": [
       "HBox(children=(HTML(value=''), FloatProgress(value=0.0, max=200.0), HTML(value='')))"
      ]
     },
     "metadata": {},
     "output_type": "display_data"
    },
    {
     "name": "stdout",
     "output_type": "stream",
     "text": [
      "\n"
     ]
    },
    {
     "data": {
      "application/vnd.jupyter.widget-view+json": {
       "model_id": "516e5c750b5640ccb081a794a7d6c76a",
       "version_major": 2,
       "version_minor": 0
      },
      "text/plain": [
       "HBox(children=(HTML(value=''), FloatProgress(value=0.0, max=200.0), HTML(value='')))"
      ]
     },
     "metadata": {},
     "output_type": "display_data"
    },
    {
     "name": "stdout",
     "output_type": "stream",
     "text": [
      "\n"
     ]
    },
    {
     "data": {
      "application/vnd.jupyter.widget-view+json": {
       "model_id": "7af8c98592f4461ca8a62d571bb17a56",
       "version_major": 2,
       "version_minor": 0
      },
      "text/plain": [
       "HBox(children=(HTML(value=''), FloatProgress(value=0.0, max=200.0), HTML(value='')))"
      ]
     },
     "metadata": {},
     "output_type": "display_data"
    },
    {
     "name": "stdout",
     "output_type": "stream",
     "text": [
      "\n"
     ]
    },
    {
     "data": {
      "application/vnd.jupyter.widget-view+json": {
       "model_id": "557ca740f57649c1a3d5254c14a903d3",
       "version_major": 2,
       "version_minor": 0
      },
      "text/plain": [
       "HBox(children=(HTML(value=''), FloatProgress(value=0.0, max=200.0), HTML(value='')))"
      ]
     },
     "metadata": {},
     "output_type": "display_data"
    },
    {
     "name": "stdout",
     "output_type": "stream",
     "text": [
      "\n"
     ]
    },
    {
     "data": {
      "application/vnd.jupyter.widget-view+json": {
       "model_id": "bfd0c86fdfb940448e2f736c0181609c",
       "version_major": 2,
       "version_minor": 0
      },
      "text/plain": [
       "HBox(children=(HTML(value=''), FloatProgress(value=0.0, max=200.0), HTML(value='')))"
      ]
     },
     "metadata": {},
     "output_type": "display_data"
    },
    {
     "name": "stdout",
     "output_type": "stream",
     "text": [
      "\n"
     ]
    },
    {
     "data": {
      "application/vnd.jupyter.widget-view+json": {
       "model_id": "6bcba993b23f48b98333879e2d99205d",
       "version_major": 2,
       "version_minor": 0
      },
      "text/plain": [
       "HBox(children=(HTML(value=''), FloatProgress(value=0.0, max=200.0), HTML(value='')))"
      ]
     },
     "metadata": {},
     "output_type": "display_data"
    },
    {
     "name": "stdout",
     "output_type": "stream",
     "text": [
      "\n"
     ]
    },
    {
     "data": {
      "application/vnd.jupyter.widget-view+json": {
       "model_id": "c6389fdfa38b4427838267bc425a9b47",
       "version_major": 2,
       "version_minor": 0
      },
      "text/plain": [
       "HBox(children=(HTML(value=''), FloatProgress(value=0.0, max=200.0), HTML(value='')))"
      ]
     },
     "metadata": {},
     "output_type": "display_data"
    },
    {
     "name": "stdout",
     "output_type": "stream",
     "text": [
      "\n"
     ]
    },
    {
     "data": {
      "application/vnd.jupyter.widget-view+json": {
       "model_id": "ff2143e50a3142ad8aeaebf1d81cce83",
       "version_major": 2,
       "version_minor": 0
      },
      "text/plain": [
       "HBox(children=(HTML(value=''), FloatProgress(value=0.0, max=200.0), HTML(value='')))"
      ]
     },
     "metadata": {},
     "output_type": "display_data"
    },
    {
     "name": "stdout",
     "output_type": "stream",
     "text": [
      "\n"
     ]
    },
    {
     "data": {
      "application/vnd.jupyter.widget-view+json": {
       "model_id": "c05da28291b24714b8a86f45f31af87b",
       "version_major": 2,
       "version_minor": 0
      },
      "text/plain": [
       "HBox(children=(HTML(value=''), FloatProgress(value=0.0, max=200.0), HTML(value='')))"
      ]
     },
     "metadata": {},
     "output_type": "display_data"
    },
    {
     "name": "stdout",
     "output_type": "stream",
     "text": [
      "\n"
     ]
    },
    {
     "data": {
      "application/vnd.jupyter.widget-view+json": {
       "model_id": "da4fd1519f5743ef9bd983a7e845499d",
       "version_major": 2,
       "version_minor": 0
      },
      "text/plain": [
       "HBox(children=(HTML(value=''), FloatProgress(value=0.0, max=200.0), HTML(value='')))"
      ]
     },
     "metadata": {},
     "output_type": "display_data"
    },
    {
     "name": "stdout",
     "output_type": "stream",
     "text": [
      "\n"
     ]
    },
    {
     "data": {
      "application/vnd.jupyter.widget-view+json": {
       "model_id": "a46713d7500445b9af1929f5289d3ae1",
       "version_major": 2,
       "version_minor": 0
      },
      "text/plain": [
       "HBox(children=(HTML(value=''), FloatProgress(value=0.0, max=200.0), HTML(value='')))"
      ]
     },
     "metadata": {},
     "output_type": "display_data"
    },
    {
     "name": "stdout",
     "output_type": "stream",
     "text": [
      "\n"
     ]
    },
    {
     "data": {
      "application/vnd.jupyter.widget-view+json": {
       "model_id": "cc65999d9ea74db89c595daf0adb7815",
       "version_major": 2,
       "version_minor": 0
      },
      "text/plain": [
       "HBox(children=(HTML(value=''), FloatProgress(value=0.0, max=200.0), HTML(value='')))"
      ]
     },
     "metadata": {},
     "output_type": "display_data"
    },
    {
     "name": "stdout",
     "output_type": "stream",
     "text": [
      "\n"
     ]
    },
    {
     "data": {
      "application/vnd.jupyter.widget-view+json": {
       "model_id": "23193cabc46244a693029100a4845d00",
       "version_major": 2,
       "version_minor": 0
      },
      "text/plain": [
       "HBox(children=(HTML(value=''), FloatProgress(value=0.0, max=200.0), HTML(value='')))"
      ]
     },
     "metadata": {},
     "output_type": "display_data"
    },
    {
     "name": "stdout",
     "output_type": "stream",
     "text": [
      "\n"
     ]
    },
    {
     "data": {
      "application/vnd.jupyter.widget-view+json": {
       "model_id": "bbaa02fb280b4b118c67bc1600e5a92c",
       "version_major": 2,
       "version_minor": 0
      },
      "text/plain": [
       "HBox(children=(HTML(value=''), FloatProgress(value=0.0, max=200.0), HTML(value='')))"
      ]
     },
     "metadata": {},
     "output_type": "display_data"
    },
    {
     "name": "stdout",
     "output_type": "stream",
     "text": [
      "\n"
     ]
    },
    {
     "data": {
      "application/vnd.jupyter.widget-view+json": {
       "model_id": "8c4708c2e141463a9dd0cacef6e14586",
       "version_major": 2,
       "version_minor": 0
      },
      "text/plain": [
       "HBox(children=(HTML(value=''), FloatProgress(value=0.0, max=200.0), HTML(value='')))"
      ]
     },
     "metadata": {},
     "output_type": "display_data"
    },
    {
     "name": "stdout",
     "output_type": "stream",
     "text": [
      "\n"
     ]
    },
    {
     "data": {
      "application/vnd.jupyter.widget-view+json": {
       "model_id": "d0cc2ae3965e48f4bb9f9061eb643650",
       "version_major": 2,
       "version_minor": 0
      },
      "text/plain": [
       "HBox(children=(HTML(value=''), FloatProgress(value=0.0, max=200.0), HTML(value='')))"
      ]
     },
     "metadata": {},
     "output_type": "display_data"
    },
    {
     "name": "stdout",
     "output_type": "stream",
     "text": [
      "\n"
     ]
    },
    {
     "data": {
      "application/vnd.jupyter.widget-view+json": {
       "model_id": "7529d0ee6dc44c9e84c9f96890ce7a50",
       "version_major": 2,
       "version_minor": 0
      },
      "text/plain": [
       "HBox(children=(HTML(value=''), FloatProgress(value=0.0, max=200.0), HTML(value='')))"
      ]
     },
     "metadata": {},
     "output_type": "display_data"
    },
    {
     "name": "stdout",
     "output_type": "stream",
     "text": [
      "\n"
     ]
    },
    {
     "data": {
      "application/vnd.jupyter.widget-view+json": {
       "model_id": "5c68173fa07142fa9dc205d52ed9b354",
       "version_major": 2,
       "version_minor": 0
      },
      "text/plain": [
       "HBox(children=(HTML(value=''), FloatProgress(value=0.0, max=200.0), HTML(value='')))"
      ]
     },
     "metadata": {},
     "output_type": "display_data"
    },
    {
     "name": "stdout",
     "output_type": "stream",
     "text": [
      "\n"
     ]
    },
    {
     "data": {
      "application/vnd.jupyter.widget-view+json": {
       "model_id": "0378a02d7acb4d5aa1390c0762f7ae51",
       "version_major": 2,
       "version_minor": 0
      },
      "text/plain": [
       "HBox(children=(HTML(value=''), FloatProgress(value=0.0, max=200.0), HTML(value='')))"
      ]
     },
     "metadata": {},
     "output_type": "display_data"
    },
    {
     "name": "stdout",
     "output_type": "stream",
     "text": [
      "\n"
     ]
    },
    {
     "data": {
      "application/vnd.jupyter.widget-view+json": {
       "model_id": "fef7024685c64959ae2de2b1ce7613ac",
       "version_major": 2,
       "version_minor": 0
      },
      "text/plain": [
       "HBox(children=(HTML(value=''), FloatProgress(value=0.0, max=200.0), HTML(value='')))"
      ]
     },
     "metadata": {},
     "output_type": "display_data"
    },
    {
     "name": "stdout",
     "output_type": "stream",
     "text": [
      "\n"
     ]
    },
    {
     "data": {
      "application/vnd.jupyter.widget-view+json": {
       "model_id": "1b672ed22f4d404c92551d8785359c33",
       "version_major": 2,
       "version_minor": 0
      },
      "text/plain": [
       "HBox(children=(HTML(value=''), FloatProgress(value=0.0, max=200.0), HTML(value='')))"
      ]
     },
     "metadata": {},
     "output_type": "display_data"
    },
    {
     "name": "stdout",
     "output_type": "stream",
     "text": [
      "\n"
     ]
    },
    {
     "data": {
      "application/vnd.jupyter.widget-view+json": {
       "model_id": "1fc5ceaa420b46cd95c0c29103a682d7",
       "version_major": 2,
       "version_minor": 0
      },
      "text/plain": [
       "HBox(children=(HTML(value=''), FloatProgress(value=0.0, max=200.0), HTML(value='')))"
      ]
     },
     "metadata": {},
     "output_type": "display_data"
    },
    {
     "name": "stdout",
     "output_type": "stream",
     "text": [
      "\n"
     ]
    },
    {
     "data": {
      "application/vnd.jupyter.widget-view+json": {
       "model_id": "8eec4ba273134fde8b0cb488d883007a",
       "version_major": 2,
       "version_minor": 0
      },
      "text/plain": [
       "HBox(children=(HTML(value=''), FloatProgress(value=0.0, max=200.0), HTML(value='')))"
      ]
     },
     "metadata": {},
     "output_type": "display_data"
    },
    {
     "name": "stdout",
     "output_type": "stream",
     "text": [
      "\n"
     ]
    },
    {
     "data": {
      "application/vnd.jupyter.widget-view+json": {
       "model_id": "4045c32208784b0aab287b1e32e4c01b",
       "version_major": 2,
       "version_minor": 0
      },
      "text/plain": [
       "HBox(children=(HTML(value=''), FloatProgress(value=0.0, max=200.0), HTML(value='')))"
      ]
     },
     "metadata": {},
     "output_type": "display_data"
    },
    {
     "name": "stdout",
     "output_type": "stream",
     "text": [
      "\n"
     ]
    },
    {
     "data": {
      "application/vnd.jupyter.widget-view+json": {
       "model_id": "9211a82dd357490aad909af7cd3e284f",
       "version_major": 2,
       "version_minor": 0
      },
      "text/plain": [
       "HBox(children=(HTML(value=''), FloatProgress(value=0.0, max=200.0), HTML(value='')))"
      ]
     },
     "metadata": {},
     "output_type": "display_data"
    },
    {
     "name": "stdout",
     "output_type": "stream",
     "text": [
      "\n"
     ]
    },
    {
     "data": {
      "application/vnd.jupyter.widget-view+json": {
       "model_id": "13b0778952e645c1878ae687f7abcb83",
       "version_major": 2,
       "version_minor": 0
      },
      "text/plain": [
       "HBox(children=(HTML(value=''), FloatProgress(value=0.0, max=200.0), HTML(value='')))"
      ]
     },
     "metadata": {},
     "output_type": "display_data"
    },
    {
     "name": "stdout",
     "output_type": "stream",
     "text": [
      "\n"
     ]
    },
    {
     "data": {
      "application/vnd.jupyter.widget-view+json": {
       "model_id": "fd3e5c093be547bc98a149a4240be59d",
       "version_major": 2,
       "version_minor": 0
      },
      "text/plain": [
       "HBox(children=(HTML(value=''), FloatProgress(value=0.0, max=200.0), HTML(value='')))"
      ]
     },
     "metadata": {},
     "output_type": "display_data"
    },
    {
     "name": "stdout",
     "output_type": "stream",
     "text": [
      "\n"
     ]
    },
    {
     "data": {
      "application/vnd.jupyter.widget-view+json": {
       "model_id": "d37db74d94c44dbc9859a97fbd6e101f",
       "version_major": 2,
       "version_minor": 0
      },
      "text/plain": [
       "HBox(children=(HTML(value=''), FloatProgress(value=0.0, max=200.0), HTML(value='')))"
      ]
     },
     "metadata": {},
     "output_type": "display_data"
    },
    {
     "name": "stdout",
     "output_type": "stream",
     "text": [
      "\n"
     ]
    },
    {
     "data": {
      "application/vnd.jupyter.widget-view+json": {
       "model_id": "a8ac0cb648f1445abb8a3de7950d0658",
       "version_major": 2,
       "version_minor": 0
      },
      "text/plain": [
       "HBox(children=(HTML(value=''), FloatProgress(value=0.0, max=200.0), HTML(value='')))"
      ]
     },
     "metadata": {},
     "output_type": "display_data"
    },
    {
     "name": "stdout",
     "output_type": "stream",
     "text": [
      "\n"
     ]
    },
    {
     "data": {
      "application/vnd.jupyter.widget-view+json": {
       "model_id": "68862fd5747c4307b2e5b8875bc256cc",
       "version_major": 2,
       "version_minor": 0
      },
      "text/plain": [
       "HBox(children=(HTML(value=''), FloatProgress(value=0.0, max=200.0), HTML(value='')))"
      ]
     },
     "metadata": {},
     "output_type": "display_data"
    },
    {
     "ename": "RuntimeError",
     "evalue": "CUDA out of memory. Tried to allocate 50.00 MiB (GPU 0; 31.75 GiB total capacity; 9.92 GiB already allocated; 36.50 MiB free; 10.00 GiB reserved in total by PyTorch)",
     "output_type": "error",
     "traceback": [
      "\u001b[0;31m---------------------------------------------------------------------------\u001b[0m",
      "\u001b[0;31mRuntimeError\u001b[0m                              Traceback (most recent call last)",
      "\u001b[0;32m<ipython-input-8-2bb507562cef>\u001b[0m in \u001b[0;36m<module>\u001b[0;34m\u001b[0m\n\u001b[1;32m      3\u001b[0m \u001b[0mfinnish_state\u001b[0m \u001b[0;34m=\u001b[0m \u001b[0mget_results_for\u001b[0m\u001b[0;34m(\u001b[0m\u001b[0;34m'finnish-bpe'\u001b[0m\u001b[0;34m,\u001b[0m \u001b[0;34m'state'\u001b[0m\u001b[0;34m,\u001b[0m \u001b[0mfinnish_bpe_context\u001b[0m\u001b[0;34m)\u001b[0m\u001b[0;34m\u001b[0m\u001b[0;34m\u001b[0m\u001b[0m\n\u001b[1;32m      4\u001b[0m \u001b[0mfinnish_subst\u001b[0m \u001b[0;34m=\u001b[0m \u001b[0mget_results_for\u001b[0m\u001b[0;34m(\u001b[0m\u001b[0;34m'finnish-bpe'\u001b[0m\u001b[0;34m,\u001b[0m \u001b[0;34m'subst'\u001b[0m\u001b[0;34m,\u001b[0m \u001b[0mfinnish_bpe_context\u001b[0m\u001b[0;34m)\u001b[0m\u001b[0;34m\u001b[0m\u001b[0;34m\u001b[0m\u001b[0m\n\u001b[0;32m----> 5\u001b[0;31m \u001b[0menglish_state\u001b[0m \u001b[0;34m=\u001b[0m \u001b[0mget_results_for\u001b[0m\u001b[0;34m(\u001b[0m\u001b[0;34m'20k-bpe'\u001b[0m\u001b[0;34m,\u001b[0m \u001b[0;34m'state'\u001b[0m\u001b[0;34m,\u001b[0m \u001b[0menglish_bpe_context\u001b[0m\u001b[0;34m)\u001b[0m\u001b[0;34m\u001b[0m\u001b[0;34m\u001b[0m\u001b[0m\n\u001b[0m\u001b[1;32m      6\u001b[0m \u001b[0menglish_subst\u001b[0m \u001b[0;34m=\u001b[0m \u001b[0mget_results_for\u001b[0m\u001b[0;34m(\u001b[0m\u001b[0;34m'20k-bpe'\u001b[0m\u001b[0;34m,\u001b[0m \u001b[0;34m'subst'\u001b[0m\u001b[0;34m,\u001b[0m \u001b[0menglish_bpe_context\u001b[0m\u001b[0;34m)\u001b[0m\u001b[0;34m\u001b[0m\u001b[0;34m\u001b[0m\u001b[0m\n",
      "\u001b[0;32m<ipython-input-7-5ca1161a8363>\u001b[0m in \u001b[0;36mget_results_for\u001b[0;34m(corpus, ntype, context)\u001b[0m\n\u001b[1;32m      1\u001b[0m \u001b[0;32mdef\u001b[0m \u001b[0mget_results_for\u001b[0m\u001b[0;34m(\u001b[0m\u001b[0mcorpus\u001b[0m\u001b[0;34m,\u001b[0m \u001b[0mntype\u001b[0m\u001b[0;34m,\u001b[0m \u001b[0mcontext\u001b[0m\u001b[0;34m)\u001b[0m\u001b[0;34m:\u001b[0m\u001b[0;34m\u001b[0m\u001b[0;34m\u001b[0m\u001b[0m\n\u001b[0;32m----> 2\u001b[0;31m     \u001b[0;32mreturn\u001b[0m \u001b[0;34m[\u001b[0m\u001b[0mcontext\u001b[0m\u001b[0;34m.\u001b[0m\u001b[0mall_hyp_for_model\u001b[0m\u001b[0;34m(\u001b[0m\u001b[0mmodel\u001b[0m\u001b[0;34m,\u001b[0m \u001b[0mcopycat_model\u001b[0m\u001b[0;34m=\u001b[0m\u001b[0mcopycat\u001b[0m\u001b[0;34m)\u001b[0m \u001b[0;32mfor\u001b[0m \u001b[0mmodel\u001b[0m\u001b[0;34m,\u001b[0m \u001b[0mcopycat\u001b[0m \u001b[0;32min\u001b[0m \u001b[0mload_noise_sequence\u001b[0m\u001b[0;34m(\u001b[0m\u001b[0mcorpus\u001b[0m\u001b[0;34m,\u001b[0m \u001b[0mntype\u001b[0m\u001b[0;34m)\u001b[0m\u001b[0;34m]\u001b[0m\u001b[0;34m\u001b[0m\u001b[0;34m\u001b[0m\u001b[0m\n\u001b[0m",
      "\u001b[0;32m<ipython-input-7-5ca1161a8363>\u001b[0m in \u001b[0;36m<listcomp>\u001b[0;34m(.0)\u001b[0m\n\u001b[1;32m      1\u001b[0m \u001b[0;32mdef\u001b[0m \u001b[0mget_results_for\u001b[0m\u001b[0;34m(\u001b[0m\u001b[0mcorpus\u001b[0m\u001b[0;34m,\u001b[0m \u001b[0mntype\u001b[0m\u001b[0;34m,\u001b[0m \u001b[0mcontext\u001b[0m\u001b[0;34m)\u001b[0m\u001b[0;34m:\u001b[0m\u001b[0;34m\u001b[0m\u001b[0;34m\u001b[0m\u001b[0m\n\u001b[0;32m----> 2\u001b[0;31m     \u001b[0;32mreturn\u001b[0m \u001b[0;34m[\u001b[0m\u001b[0mcontext\u001b[0m\u001b[0;34m.\u001b[0m\u001b[0mall_hyp_for_model\u001b[0m\u001b[0;34m(\u001b[0m\u001b[0mmodel\u001b[0m\u001b[0;34m,\u001b[0m \u001b[0mcopycat_model\u001b[0m\u001b[0;34m=\u001b[0m\u001b[0mcopycat\u001b[0m\u001b[0;34m)\u001b[0m \u001b[0;32mfor\u001b[0m \u001b[0mmodel\u001b[0m\u001b[0;34m,\u001b[0m \u001b[0mcopycat\u001b[0m \u001b[0;32min\u001b[0m \u001b[0mload_noise_sequence\u001b[0m\u001b[0;34m(\u001b[0m\u001b[0mcorpus\u001b[0m\u001b[0;34m,\u001b[0m \u001b[0mntype\u001b[0m\u001b[0;34m)\u001b[0m\u001b[0;34m]\u001b[0m\u001b[0;34m\u001b[0m\u001b[0;34m\u001b[0m\u001b[0m\n\u001b[0m",
      "\u001b[0;32m/lingo/abau/language-models/interactive.py\u001b[0m in \u001b[0;36mall_hyp_for_model\u001b[0;34m(self, model, copycat_model, gold_model, method)\u001b[0m\n\u001b[1;32m    305\u001b[0m             \u001b[0mgold_model\u001b[0m \u001b[0;34m=\u001b[0m \u001b[0mcopycat_model\u001b[0m\u001b[0;34m\u001b[0m\u001b[0;34m\u001b[0m\u001b[0m\n\u001b[1;32m    306\u001b[0m \u001b[0;34m\u001b[0m\u001b[0m\n\u001b[0;32m--> 307\u001b[0;31m         \u001b[0moutedge\u001b[0m \u001b[0;34m=\u001b[0m \u001b[0mself\u001b[0m\u001b[0;34m.\u001b[0m\u001b[0moutedge_for_model\u001b[0m\u001b[0;34m(\u001b[0m\u001b[0mgold_model\u001b[0m\u001b[0;34m)\u001b[0m\u001b[0;34m.\u001b[0m\u001b[0mcpu\u001b[0m\u001b[0;34m(\u001b[0m\u001b[0;34m)\u001b[0m\u001b[0;34m\u001b[0m\u001b[0;34m\u001b[0m\u001b[0m\n\u001b[0m\u001b[1;32m    308\u001b[0m         \u001b[0mactual\u001b[0m \u001b[0;34m=\u001b[0m \u001b[0mself\u001b[0m\u001b[0;34m.\u001b[0m\u001b[0mactual_for_model\u001b[0m\u001b[0;34m(\u001b[0m\u001b[0mmodel\u001b[0m\u001b[0;34m)\u001b[0m\u001b[0;34m.\u001b[0m\u001b[0mcpu\u001b[0m\u001b[0;34m(\u001b[0m\u001b[0;34m)\u001b[0m\u001b[0;34m\u001b[0m\u001b[0;34m\u001b[0m\u001b[0m\n\u001b[1;32m    309\u001b[0m         \u001b[0mignore\u001b[0m \u001b[0;34m=\u001b[0m \u001b[0mself\u001b[0m\u001b[0;34m.\u001b[0m\u001b[0mignore_for_model\u001b[0m\u001b[0;34m(\u001b[0m\u001b[0mmodel\u001b[0m\u001b[0;34m)\u001b[0m\u001b[0;34m.\u001b[0m\u001b[0mcpu\u001b[0m\u001b[0;34m(\u001b[0m\u001b[0;34m)\u001b[0m\u001b[0;34m\u001b[0m\u001b[0;34m\u001b[0m\u001b[0m\n",
      "\u001b[0;32m/lingo/abau/language-models/interactive.py\u001b[0m in \u001b[0;36moutedge_for_model\u001b[0;34m(self, model)\u001b[0m\n\u001b[1;32m    184\u001b[0m     \u001b[0;32mdef\u001b[0m \u001b[0moutedge_for_model\u001b[0m\u001b[0;34m(\u001b[0m\u001b[0mself\u001b[0m\u001b[0;34m,\u001b[0m \u001b[0mmodel\u001b[0m\u001b[0;34m)\u001b[0m\u001b[0;34m:\u001b[0m\u001b[0;34m\u001b[0m\u001b[0;34m\u001b[0m\u001b[0m\n\u001b[1;32m    185\u001b[0m         return torch.stack(\n\u001b[0;32m--> 186\u001b[0;31m             \u001b[0;34m[\u001b[0m \u001b[0mpreds\u001b[0m\u001b[0;34m.\u001b[0m\u001b[0moutedge\u001b[0m\u001b[0;34m(\u001b[0m\u001b[0mmodel\u001b[0m\u001b[0;34m,\u001b[0m \u001b[0mtorch\u001b[0m\u001b[0;34m.\u001b[0m\u001b[0mLongTensor\u001b[0m\u001b[0;34m(\u001b[0m\u001b[0mseq\u001b[0m\u001b[0;34m)\u001b[0m\u001b[0;34m.\u001b[0m\u001b[0munsqueeze\u001b[0m\u001b[0;34m(\u001b[0m\u001b[0;36m0\u001b[0m\u001b[0;34m)\u001b[0m\u001b[0;34m,\u001b[0m \u001b[0;34m[\u001b[0m\u001b[0;36m0\u001b[0m\u001b[0;34m,\u001b[0m \u001b[0;36m1\u001b[0m\u001b[0;34m]\u001b[0m\u001b[0;34m,\u001b[0m \u001b[0;36m15\u001b[0m\u001b[0;34m)\u001b[0m \u001b[0;32mfor\u001b[0m \u001b[0mseq\u001b[0m \u001b[0;32min\u001b[0m \u001b[0mtqdm\u001b[0m\u001b[0;34m(\u001b[0m\u001b[0mself\u001b[0m\u001b[0;34m.\u001b[0m\u001b[0msubpool\u001b[0m\u001b[0;34m)\u001b[0m \u001b[0;34m]\u001b[0m\u001b[0;34m\u001b[0m\u001b[0;34m\u001b[0m\u001b[0m\n\u001b[0m\u001b[1;32m    187\u001b[0m         ).squeeze()\n\u001b[1;32m    188\u001b[0m \u001b[0;34m\u001b[0m\u001b[0m\n",
      "\u001b[0;32m/lingo/abau/language-models/interactive.py\u001b[0m in \u001b[0;36m<listcomp>\u001b[0;34m(.0)\u001b[0m\n\u001b[1;32m    184\u001b[0m     \u001b[0;32mdef\u001b[0m \u001b[0moutedge_for_model\u001b[0m\u001b[0;34m(\u001b[0m\u001b[0mself\u001b[0m\u001b[0;34m,\u001b[0m \u001b[0mmodel\u001b[0m\u001b[0;34m)\u001b[0m\u001b[0;34m:\u001b[0m\u001b[0;34m\u001b[0m\u001b[0;34m\u001b[0m\u001b[0m\n\u001b[1;32m    185\u001b[0m         return torch.stack(\n\u001b[0;32m--> 186\u001b[0;31m             \u001b[0;34m[\u001b[0m \u001b[0mpreds\u001b[0m\u001b[0;34m.\u001b[0m\u001b[0moutedge\u001b[0m\u001b[0;34m(\u001b[0m\u001b[0mmodel\u001b[0m\u001b[0;34m,\u001b[0m \u001b[0mtorch\u001b[0m\u001b[0;34m.\u001b[0m\u001b[0mLongTensor\u001b[0m\u001b[0;34m(\u001b[0m\u001b[0mseq\u001b[0m\u001b[0;34m)\u001b[0m\u001b[0;34m.\u001b[0m\u001b[0munsqueeze\u001b[0m\u001b[0;34m(\u001b[0m\u001b[0;36m0\u001b[0m\u001b[0;34m)\u001b[0m\u001b[0;34m,\u001b[0m \u001b[0;34m[\u001b[0m\u001b[0;36m0\u001b[0m\u001b[0;34m,\u001b[0m \u001b[0;36m1\u001b[0m\u001b[0;34m]\u001b[0m\u001b[0;34m,\u001b[0m \u001b[0;36m15\u001b[0m\u001b[0;34m)\u001b[0m \u001b[0;32mfor\u001b[0m \u001b[0mseq\u001b[0m \u001b[0;32min\u001b[0m \u001b[0mtqdm\u001b[0m\u001b[0;34m(\u001b[0m\u001b[0mself\u001b[0m\u001b[0;34m.\u001b[0m\u001b[0msubpool\u001b[0m\u001b[0;34m)\u001b[0m \u001b[0;34m]\u001b[0m\u001b[0;34m\u001b[0m\u001b[0;34m\u001b[0m\u001b[0m\n\u001b[0m\u001b[1;32m    187\u001b[0m         ).squeeze()\n\u001b[1;32m    188\u001b[0m \u001b[0;34m\u001b[0m\u001b[0m\n",
      "\u001b[0;32m/lingo/abau/language-models/hypo/preds.py\u001b[0m in \u001b[0;36moutedge\u001b[0;34m(model, sequences, length_dist, beam_size)\u001b[0m\n\u001b[1;32m     12\u001b[0m \u001b[0;34m\u001b[0m\u001b[0m\n\u001b[1;32m     13\u001b[0m     \u001b[0;31m# Omit \"bad token\"\u001b[0m\u001b[0;34m\u001b[0m\u001b[0;34m\u001b[0m\u001b[0;34m\u001b[0m\u001b[0m\n\u001b[0;32m---> 14\u001b[0;31m     \u001b[0moutputs\u001b[0m\u001b[0;34m,\u001b[0m \u001b[0mhiddens\u001b[0m \u001b[0;34m=\u001b[0m \u001b[0mpred\u001b[0m\u001b[0;34m(\u001b[0m\u001b[0mmodel\u001b[0m\u001b[0;34m,\u001b[0m \u001b[0msequences\u001b[0m\u001b[0;34m[\u001b[0m\u001b[0;34m:\u001b[0m\u001b[0;34m,\u001b[0m \u001b[0;34m:\u001b[0m\u001b[0;34m-\u001b[0m\u001b[0;36m1\u001b[0m\u001b[0;34m]\u001b[0m\u001b[0;34m)\u001b[0m\u001b[0;34m\u001b[0m\u001b[0;34m\u001b[0m\u001b[0m\n\u001b[0m\u001b[1;32m     15\u001b[0m \u001b[0;34m\u001b[0m\u001b[0m\n\u001b[1;32m     16\u001b[0m     \u001b[0;31m# Final marginal output has size batch_size x output_size\u001b[0m\u001b[0;34m\u001b[0m\u001b[0;34m\u001b[0m\u001b[0;34m\u001b[0m\u001b[0m\n",
      "\u001b[0;32m/lingo/abau/language-models/hypo/preds.py\u001b[0m in \u001b[0;36mpred\u001b[0;34m(model, seq)\u001b[0m\n\u001b[1;32m     91\u001b[0m \u001b[0;34m\u001b[0m\u001b[0m\n\u001b[1;32m     92\u001b[0m     \u001b[0;32mfor\u001b[0m \u001b[0mi\u001b[0m \u001b[0;32min\u001b[0m \u001b[0mrange\u001b[0m\u001b[0;34m(\u001b[0m\u001b[0mn\u001b[0m \u001b[0;34m//\u001b[0m \u001b[0mMAX_BATCH_SIZE\u001b[0m \u001b[0;34m+\u001b[0m \u001b[0;36m1\u001b[0m\u001b[0;34m)\u001b[0m\u001b[0;34m:\u001b[0m\u001b[0;34m\u001b[0m\u001b[0;34m\u001b[0m\u001b[0m\n\u001b[0;32m---> 93\u001b[0;31m         output, hidden = pred_batch(\n\u001b[0m\u001b[1;32m     94\u001b[0m             \u001b[0mmodel\u001b[0m\u001b[0;34m,\u001b[0m\u001b[0;34m\u001b[0m\u001b[0;34m\u001b[0m\u001b[0m\n\u001b[1;32m     95\u001b[0m             \u001b[0mseq\u001b[0m\u001b[0;34m[\u001b[0m\u001b[0mi\u001b[0m \u001b[0;34m*\u001b[0m \u001b[0mMAX_BATCH_SIZE\u001b[0m\u001b[0;34m:\u001b[0m\u001b[0;34m(\u001b[0m\u001b[0mi\u001b[0m \u001b[0;34m+\u001b[0m \u001b[0;36m1\u001b[0m\u001b[0;34m)\u001b[0m \u001b[0;34m*\u001b[0m \u001b[0mMAX_BATCH_SIZE\u001b[0m\u001b[0;34m]\u001b[0m\u001b[0;34m.\u001b[0m\u001b[0mcuda\u001b[0m\u001b[0;34m(\u001b[0m\u001b[0;34m)\u001b[0m\u001b[0;34m\u001b[0m\u001b[0;34m\u001b[0m\u001b[0m\n",
      "\u001b[0;32m/lingo/abau/language-models/hypo/preds.py\u001b[0m in \u001b[0;36mpred_batch\u001b[0;34m(model, seq)\u001b[0m\n\u001b[1;32m    106\u001b[0m \u001b[0;34m\u001b[0m\u001b[0m\n\u001b[1;32m    107\u001b[0m     \u001b[0;32mfor\u001b[0m \u001b[0mi\u001b[0m \u001b[0;32min\u001b[0m \u001b[0mrange\u001b[0m\u001b[0;34m(\u001b[0m\u001b[0mseq_len\u001b[0m\u001b[0;34m)\u001b[0m\u001b[0;34m:\u001b[0m\u001b[0;34m\u001b[0m\u001b[0;34m\u001b[0m\u001b[0m\n\u001b[0;32m--> 108\u001b[0;31m         \u001b[0moutput\u001b[0m\u001b[0;34m,\u001b[0m \u001b[0mhidden\u001b[0m \u001b[0;34m=\u001b[0m \u001b[0mmodel\u001b[0m\u001b[0;34m(\u001b[0m\u001b[0mseq\u001b[0m\u001b[0;34m[\u001b[0m\u001b[0;34m:\u001b[0m\u001b[0;34m,\u001b[0m \u001b[0mi\u001b[0m\u001b[0;34m]\u001b[0m\u001b[0;34m,\u001b[0m \u001b[0mhidden\u001b[0m\u001b[0;34m)\u001b[0m\u001b[0;34m\u001b[0m\u001b[0;34m\u001b[0m\u001b[0m\n\u001b[0m\u001b[1;32m    109\u001b[0m \u001b[0;34m\u001b[0m\u001b[0m\n\u001b[1;32m    110\u001b[0m     \u001b[0;32mreturn\u001b[0m \u001b[0moutput\u001b[0m\u001b[0;34m,\u001b[0m \u001b[0mhidden\u001b[0m\u001b[0;34m\u001b[0m\u001b[0;34m\u001b[0m\u001b[0m\n",
      "\u001b[0;32m/lingo/abau/miniconda3/lib/python3.8/site-packages/torch/nn/modules/module.py\u001b[0m in \u001b[0;36m_call_impl\u001b[0;34m(self, *input, **kwargs)\u001b[0m\n\u001b[1;32m    725\u001b[0m             \u001b[0mresult\u001b[0m \u001b[0;34m=\u001b[0m \u001b[0mself\u001b[0m\u001b[0;34m.\u001b[0m\u001b[0m_slow_forward\u001b[0m\u001b[0;34m(\u001b[0m\u001b[0;34m*\u001b[0m\u001b[0minput\u001b[0m\u001b[0;34m,\u001b[0m \u001b[0;34m**\u001b[0m\u001b[0mkwargs\u001b[0m\u001b[0;34m)\u001b[0m\u001b[0;34m\u001b[0m\u001b[0;34m\u001b[0m\u001b[0m\n\u001b[1;32m    726\u001b[0m         \u001b[0;32melse\u001b[0m\u001b[0;34m:\u001b[0m\u001b[0;34m\u001b[0m\u001b[0;34m\u001b[0m\u001b[0m\n\u001b[0;32m--> 727\u001b[0;31m             \u001b[0mresult\u001b[0m \u001b[0;34m=\u001b[0m \u001b[0mself\u001b[0m\u001b[0;34m.\u001b[0m\u001b[0mforward\u001b[0m\u001b[0;34m(\u001b[0m\u001b[0;34m*\u001b[0m\u001b[0minput\u001b[0m\u001b[0;34m,\u001b[0m \u001b[0;34m**\u001b[0m\u001b[0mkwargs\u001b[0m\u001b[0;34m)\u001b[0m\u001b[0;34m\u001b[0m\u001b[0;34m\u001b[0m\u001b[0m\n\u001b[0m\u001b[1;32m    728\u001b[0m         for hook in itertools.chain(\n\u001b[1;32m    729\u001b[0m                 \u001b[0m_global_forward_hooks\u001b[0m\u001b[0;34m.\u001b[0m\u001b[0mvalues\u001b[0m\u001b[0;34m(\u001b[0m\u001b[0;34m)\u001b[0m\u001b[0;34m,\u001b[0m\u001b[0;34m\u001b[0m\u001b[0;34m\u001b[0m\u001b[0m\n",
      "\u001b[0;32m/lingo/abau/language-models/models/model.py\u001b[0m in \u001b[0;36mforward\u001b[0;34m(self, input, hidden)\u001b[0m\n\u001b[1;32m     30\u001b[0m         \u001b[0mencoded\u001b[0m \u001b[0;34m=\u001b[0m \u001b[0mself\u001b[0m\u001b[0;34m.\u001b[0m\u001b[0mencoder\u001b[0m\u001b[0;34m(\u001b[0m\u001b[0minput\u001b[0m\u001b[0;34m)\u001b[0m\u001b[0;34m\u001b[0m\u001b[0;34m\u001b[0m\u001b[0m\n\u001b[1;32m     31\u001b[0m         \u001b[0mencoded\u001b[0m \u001b[0;34m=\u001b[0m \u001b[0mself\u001b[0m\u001b[0;34m.\u001b[0m\u001b[0membedding_dropout\u001b[0m\u001b[0;34m(\u001b[0m\u001b[0mencoded\u001b[0m\u001b[0;34m)\u001b[0m\u001b[0;34m\u001b[0m\u001b[0;34m\u001b[0m\u001b[0m\n\u001b[0;32m---> 32\u001b[0;31m         \u001b[0moutput\u001b[0m\u001b[0;34m,\u001b[0m \u001b[0mhidden\u001b[0m \u001b[0;34m=\u001b[0m \u001b[0mself\u001b[0m\u001b[0;34m.\u001b[0m\u001b[0mrnn\u001b[0m\u001b[0;34m(\u001b[0m\u001b[0mencoded\u001b[0m\u001b[0;34m.\u001b[0m\u001b[0mview\u001b[0m\u001b[0;34m(\u001b[0m\u001b[0;36m1\u001b[0m\u001b[0;34m,\u001b[0m \u001b[0mbatch_size\u001b[0m\u001b[0;34m,\u001b[0m \u001b[0;34m-\u001b[0m\u001b[0;36m1\u001b[0m\u001b[0;34m)\u001b[0m\u001b[0;34m,\u001b[0m \u001b[0mhidden\u001b[0m\u001b[0;34m)\u001b[0m\u001b[0;34m\u001b[0m\u001b[0;34m\u001b[0m\u001b[0m\n\u001b[0m\u001b[1;32m     33\u001b[0m         \u001b[0moutput\u001b[0m \u001b[0;34m=\u001b[0m \u001b[0mself\u001b[0m\u001b[0;34m.\u001b[0m\u001b[0mdecoder\u001b[0m\u001b[0;34m(\u001b[0m\u001b[0moutput\u001b[0m\u001b[0;34m.\u001b[0m\u001b[0mview\u001b[0m\u001b[0;34m(\u001b[0m\u001b[0mbatch_size\u001b[0m\u001b[0;34m,\u001b[0m \u001b[0;34m-\u001b[0m\u001b[0;36m1\u001b[0m\u001b[0;34m)\u001b[0m\u001b[0;34m)\u001b[0m\u001b[0;34m\u001b[0m\u001b[0;34m\u001b[0m\u001b[0m\n\u001b[1;32m     34\u001b[0m         \u001b[0;32mreturn\u001b[0m \u001b[0moutput\u001b[0m\u001b[0;34m,\u001b[0m \u001b[0mself\u001b[0m\u001b[0;34m.\u001b[0m\u001b[0mstate_dropout\u001b[0m\u001b[0;34m(\u001b[0m\u001b[0mhidden\u001b[0m\u001b[0;34m)\u001b[0m\u001b[0;34m\u001b[0m\u001b[0;34m\u001b[0m\u001b[0m\n",
      "\u001b[0;32m/lingo/abau/miniconda3/lib/python3.8/site-packages/torch/nn/modules/module.py\u001b[0m in \u001b[0;36m_call_impl\u001b[0;34m(self, *input, **kwargs)\u001b[0m\n\u001b[1;32m    725\u001b[0m             \u001b[0mresult\u001b[0m \u001b[0;34m=\u001b[0m \u001b[0mself\u001b[0m\u001b[0;34m.\u001b[0m\u001b[0m_slow_forward\u001b[0m\u001b[0;34m(\u001b[0m\u001b[0;34m*\u001b[0m\u001b[0minput\u001b[0m\u001b[0;34m,\u001b[0m \u001b[0;34m**\u001b[0m\u001b[0mkwargs\u001b[0m\u001b[0;34m)\u001b[0m\u001b[0;34m\u001b[0m\u001b[0;34m\u001b[0m\u001b[0m\n\u001b[1;32m    726\u001b[0m         \u001b[0;32melse\u001b[0m\u001b[0;34m:\u001b[0m\u001b[0;34m\u001b[0m\u001b[0;34m\u001b[0m\u001b[0m\n\u001b[0;32m--> 727\u001b[0;31m             \u001b[0mresult\u001b[0m \u001b[0;34m=\u001b[0m \u001b[0mself\u001b[0m\u001b[0;34m.\u001b[0m\u001b[0mforward\u001b[0m\u001b[0;34m(\u001b[0m\u001b[0;34m*\u001b[0m\u001b[0minput\u001b[0m\u001b[0;34m,\u001b[0m \u001b[0;34m**\u001b[0m\u001b[0mkwargs\u001b[0m\u001b[0;34m)\u001b[0m\u001b[0;34m\u001b[0m\u001b[0;34m\u001b[0m\u001b[0m\n\u001b[0m\u001b[1;32m    728\u001b[0m         for hook in itertools.chain(\n\u001b[1;32m    729\u001b[0m                 \u001b[0m_global_forward_hooks\u001b[0m\u001b[0;34m.\u001b[0m\u001b[0mvalues\u001b[0m\u001b[0;34m(\u001b[0m\u001b[0;34m)\u001b[0m\u001b[0;34m,\u001b[0m\u001b[0;34m\u001b[0m\u001b[0;34m\u001b[0m\u001b[0m\n",
      "\u001b[0;32m/lingo/abau/miniconda3/lib/python3.8/site-packages/torch/nn/modules/rnn.py\u001b[0m in \u001b[0;36mforward\u001b[0;34m(self, input, hx)\u001b[0m\n\u001b[1;32m    737\u001b[0m         \u001b[0mself\u001b[0m\u001b[0;34m.\u001b[0m\u001b[0mcheck_forward_args\u001b[0m\u001b[0;34m(\u001b[0m\u001b[0minput\u001b[0m\u001b[0;34m,\u001b[0m \u001b[0mhx\u001b[0m\u001b[0;34m,\u001b[0m \u001b[0mbatch_sizes\u001b[0m\u001b[0;34m)\u001b[0m\u001b[0;34m\u001b[0m\u001b[0;34m\u001b[0m\u001b[0m\n\u001b[1;32m    738\u001b[0m         \u001b[0;32mif\u001b[0m \u001b[0mbatch_sizes\u001b[0m \u001b[0;32mis\u001b[0m \u001b[0;32mNone\u001b[0m\u001b[0;34m:\u001b[0m\u001b[0;34m\u001b[0m\u001b[0;34m\u001b[0m\u001b[0m\n\u001b[0;32m--> 739\u001b[0;31m             result = _VF.gru(input, hx, self._flat_weights, self.bias, self.num_layers,\n\u001b[0m\u001b[1;32m    740\u001b[0m                              self.dropout, self.training, self.bidirectional, self.batch_first)\n\u001b[1;32m    741\u001b[0m         \u001b[0;32melse\u001b[0m\u001b[0;34m:\u001b[0m\u001b[0;34m\u001b[0m\u001b[0;34m\u001b[0m\u001b[0m\n",
      "\u001b[0;31mRuntimeError\u001b[0m: CUDA out of memory. Tried to allocate 50.00 MiB (GPU 0; 31.75 GiB total capacity; 9.92 GiB already allocated; 36.50 MiB free; 10.00 GiB reserved in total by PyTorch)"
     ]
    }
   ],
   "source": [
    "chinese_state = get_results_for('chinese', 'dropout', chinese_context)\n",
    "chinese_subst = get_results_for('chinese', 'subst', chinese_context)\n",
    "finnish_state = get_results_for('finnish-bpe', 'state', finnish_bpe_context)\n",
    "finnish_subst = get_results_for('finnish-bpe', 'subst', finnish_bpe_context)"
   ]
  },
  {
   "cell_type": "code",
   "execution_count": 18,
   "id": "missing-beast",
   "metadata": {},
   "outputs": [],
   "source": [
    "#del chinese_state\n",
    "del chinese_subst\n",
    "del finnish_state\n",
    "del finnish_subst"
   ]
  },
  {
   "cell_type": "code",
   "execution_count": 19,
   "id": "dependent-vermont",
   "metadata": {},
   "outputs": [
    {
     "data": {
      "application/vnd.jupyter.widget-view+json": {
       "model_id": "8219e972fda84c158be1b74398cca95f",
       "version_major": 2,
       "version_minor": 0
      },
      "text/plain": [
       "HBox(children=(HTML(value=''), FloatProgress(value=0.0, max=200.0), HTML(value='')))"
      ]
     },
     "metadata": {},
     "output_type": "display_data"
    },
    {
     "name": "stdout",
     "output_type": "stream",
     "text": [
      "\n"
     ]
    },
    {
     "data": {
      "application/vnd.jupyter.widget-view+json": {
       "model_id": "b3120733a4004a5691a14e0307dc5b15",
       "version_major": 2,
       "version_minor": 0
      },
      "text/plain": [
       "HBox(children=(HTML(value=''), FloatProgress(value=0.0, max=200.0), HTML(value='')))"
      ]
     },
     "metadata": {},
     "output_type": "display_data"
    },
    {
     "name": "stdout",
     "output_type": "stream",
     "text": [
      "\n"
     ]
    },
    {
     "data": {
      "application/vnd.jupyter.widget-view+json": {
       "model_id": "b2589a23e3a145b1a4032e67455e1d8b",
       "version_major": 2,
       "version_minor": 0
      },
      "text/plain": [
       "HBox(children=(HTML(value=''), FloatProgress(value=0.0, max=200.0), HTML(value='')))"
      ]
     },
     "metadata": {},
     "output_type": "display_data"
    },
    {
     "name": "stdout",
     "output_type": "stream",
     "text": [
      "\n"
     ]
    },
    {
     "data": {
      "application/vnd.jupyter.widget-view+json": {
       "model_id": "519e7d422b78431e88f54cb280c336a2",
       "version_major": 2,
       "version_minor": 0
      },
      "text/plain": [
       "HBox(children=(HTML(value=''), FloatProgress(value=0.0, max=200.0), HTML(value='')))"
      ]
     },
     "metadata": {},
     "output_type": "display_data"
    },
    {
     "name": "stdout",
     "output_type": "stream",
     "text": [
      "\n"
     ]
    },
    {
     "data": {
      "application/vnd.jupyter.widget-view+json": {
       "model_id": "1dffed79220f478eafb4b610f0eeecf3",
       "version_major": 2,
       "version_minor": 0
      },
      "text/plain": [
       "HBox(children=(HTML(value=''), FloatProgress(value=0.0, max=200.0), HTML(value='')))"
      ]
     },
     "metadata": {},
     "output_type": "display_data"
    },
    {
     "name": "stdout",
     "output_type": "stream",
     "text": [
      "\n"
     ]
    },
    {
     "data": {
      "application/vnd.jupyter.widget-view+json": {
       "model_id": "868948ebdddf4c2986271d17388e2883",
       "version_major": 2,
       "version_minor": 0
      },
      "text/plain": [
       "HBox(children=(HTML(value=''), FloatProgress(value=0.0, max=200.0), HTML(value='')))"
      ]
     },
     "metadata": {},
     "output_type": "display_data"
    },
    {
     "name": "stdout",
     "output_type": "stream",
     "text": [
      "\n"
     ]
    },
    {
     "data": {
      "application/vnd.jupyter.widget-view+json": {
       "model_id": "c6bcb18fa0e64e769b3c985fddfdebd5",
       "version_major": 2,
       "version_minor": 0
      },
      "text/plain": [
       "HBox(children=(HTML(value=''), FloatProgress(value=0.0, max=200.0), HTML(value='')))"
      ]
     },
     "metadata": {},
     "output_type": "display_data"
    },
    {
     "name": "stdout",
     "output_type": "stream",
     "text": [
      "\n"
     ]
    },
    {
     "data": {
      "application/vnd.jupyter.widget-view+json": {
       "model_id": "a48f6d7fe6204529b08bd854848af672",
       "version_major": 2,
       "version_minor": 0
      },
      "text/plain": [
       "HBox(children=(HTML(value=''), FloatProgress(value=0.0, max=200.0), HTML(value='')))"
      ]
     },
     "metadata": {},
     "output_type": "display_data"
    },
    {
     "name": "stdout",
     "output_type": "stream",
     "text": [
      "\n"
     ]
    },
    {
     "data": {
      "application/vnd.jupyter.widget-view+json": {
       "model_id": "ac98e880d2a64477bf8fddb6eb6b0402",
       "version_major": 2,
       "version_minor": 0
      },
      "text/plain": [
       "HBox(children=(HTML(value=''), FloatProgress(value=0.0, max=200.0), HTML(value='')))"
      ]
     },
     "metadata": {},
     "output_type": "display_data"
    },
    {
     "name": "stdout",
     "output_type": "stream",
     "text": [
      "\n"
     ]
    },
    {
     "data": {
      "application/vnd.jupyter.widget-view+json": {
       "model_id": "ae478133d2a64eefbcec6da8b6ab16a8",
       "version_major": 2,
       "version_minor": 0
      },
      "text/plain": [
       "HBox(children=(HTML(value=''), FloatProgress(value=0.0, max=200.0), HTML(value='')))"
      ]
     },
     "metadata": {},
     "output_type": "display_data"
    },
    {
     "name": "stdout",
     "output_type": "stream",
     "text": [
      "\n"
     ]
    },
    {
     "data": {
      "application/vnd.jupyter.widget-view+json": {
       "model_id": "e5a0e82e8b114d7cacbd9bf46c79735a",
       "version_major": 2,
       "version_minor": 0
      },
      "text/plain": [
       "HBox(children=(HTML(value=''), FloatProgress(value=0.0, max=200.0), HTML(value='')))"
      ]
     },
     "metadata": {},
     "output_type": "display_data"
    },
    {
     "name": "stdout",
     "output_type": "stream",
     "text": [
      "\n"
     ]
    },
    {
     "data": {
      "application/vnd.jupyter.widget-view+json": {
       "model_id": "fad6807bf7564b05a63f81d6c243d002",
       "version_major": 2,
       "version_minor": 0
      },
      "text/plain": [
       "HBox(children=(HTML(value=''), FloatProgress(value=0.0, max=200.0), HTML(value='')))"
      ]
     },
     "metadata": {},
     "output_type": "display_data"
    },
    {
     "name": "stdout",
     "output_type": "stream",
     "text": [
      "\n"
     ]
    },
    {
     "data": {
      "application/vnd.jupyter.widget-view+json": {
       "model_id": "fc7b1b3fe1d9443696c845ebe38b194a",
       "version_major": 2,
       "version_minor": 0
      },
      "text/plain": [
       "HBox(children=(HTML(value=''), FloatProgress(value=0.0, max=200.0), HTML(value='')))"
      ]
     },
     "metadata": {},
     "output_type": "display_data"
    },
    {
     "name": "stdout",
     "output_type": "stream",
     "text": [
      "\n"
     ]
    },
    {
     "data": {
      "application/vnd.jupyter.widget-view+json": {
       "model_id": "636316516816442abe883ea4c24f2090",
       "version_major": 2,
       "version_minor": 0
      },
      "text/plain": [
       "HBox(children=(HTML(value=''), FloatProgress(value=0.0, max=200.0), HTML(value='')))"
      ]
     },
     "metadata": {},
     "output_type": "display_data"
    },
    {
     "name": "stdout",
     "output_type": "stream",
     "text": [
      "\n"
     ]
    },
    {
     "data": {
      "application/vnd.jupyter.widget-view+json": {
       "model_id": "571a76616dbb41e6a2524720bf7e5c43",
       "version_major": 2,
       "version_minor": 0
      },
      "text/plain": [
       "HBox(children=(HTML(value=''), FloatProgress(value=0.0, max=200.0), HTML(value='')))"
      ]
     },
     "metadata": {},
     "output_type": "display_data"
    },
    {
     "name": "stdout",
     "output_type": "stream",
     "text": [
      "\n"
     ]
    },
    {
     "data": {
      "application/vnd.jupyter.widget-view+json": {
       "model_id": "75eed9233d644880a1e8925075f2aa4d",
       "version_major": 2,
       "version_minor": 0
      },
      "text/plain": [
       "HBox(children=(HTML(value=''), FloatProgress(value=0.0, max=200.0), HTML(value='')))"
      ]
     },
     "metadata": {},
     "output_type": "display_data"
    },
    {
     "name": "stdout",
     "output_type": "stream",
     "text": [
      "\n"
     ]
    },
    {
     "data": {
      "application/vnd.jupyter.widget-view+json": {
       "model_id": "248589a2ce264c30a251ce66e140b749",
       "version_major": 2,
       "version_minor": 0
      },
      "text/plain": [
       "HBox(children=(HTML(value=''), FloatProgress(value=0.0, max=200.0), HTML(value='')))"
      ]
     },
     "metadata": {},
     "output_type": "display_data"
    },
    {
     "name": "stdout",
     "output_type": "stream",
     "text": [
      "\n"
     ]
    },
    {
     "data": {
      "application/vnd.jupyter.widget-view+json": {
       "model_id": "493578effccc40d2b0f3929aee2696be",
       "version_major": 2,
       "version_minor": 0
      },
      "text/plain": [
       "HBox(children=(HTML(value=''), FloatProgress(value=0.0, max=200.0), HTML(value='')))"
      ]
     },
     "metadata": {},
     "output_type": "display_data"
    },
    {
     "name": "stdout",
     "output_type": "stream",
     "text": [
      "\n"
     ]
    },
    {
     "data": {
      "application/vnd.jupyter.widget-view+json": {
       "model_id": "4da3d3509de8468a856072eb80101c0e",
       "version_major": 2,
       "version_minor": 0
      },
      "text/plain": [
       "HBox(children=(HTML(value=''), FloatProgress(value=0.0, max=200.0), HTML(value='')))"
      ]
     },
     "metadata": {},
     "output_type": "display_data"
    },
    {
     "name": "stdout",
     "output_type": "stream",
     "text": [
      "\n",
      "\n"
     ]
    },
    {
     "data": {
      "application/vnd.jupyter.widget-view+json": {
       "model_id": "b51d6e97ea6b4b2bb239dd8ccd475a93",
       "version_major": 2,
       "version_minor": 0
      },
      "text/plain": [
       "HBox(children=(HTML(value=''), FloatProgress(value=0.0, max=200.0), HTML(value='')))"
      ]
     },
     "metadata": {},
     "output_type": "display_data"
    },
    {
     "name": "stdout",
     "output_type": "stream",
     "text": [
      "\n"
     ]
    },
    {
     "data": {
      "application/vnd.jupyter.widget-view+json": {
       "model_id": "44776d0c2b784da098d7ae4f9a6b8141",
       "version_major": 2,
       "version_minor": 0
      },
      "text/plain": [
       "HBox(children=(HTML(value=''), FloatProgress(value=0.0, max=200.0), HTML(value='')))"
      ]
     },
     "metadata": {},
     "output_type": "display_data"
    },
    {
     "name": "stdout",
     "output_type": "stream",
     "text": [
      "\n"
     ]
    },
    {
     "data": {
      "application/vnd.jupyter.widget-view+json": {
       "model_id": "3878e96cccb840a0997e5d7a830cb024",
       "version_major": 2,
       "version_minor": 0
      },
      "text/plain": [
       "HBox(children=(HTML(value=''), FloatProgress(value=0.0, max=200.0), HTML(value='')))"
      ]
     },
     "metadata": {},
     "output_type": "display_data"
    },
    {
     "name": "stdout",
     "output_type": "stream",
     "text": [
      "\n"
     ]
    },
    {
     "data": {
      "application/vnd.jupyter.widget-view+json": {
       "model_id": "67bc31cb53ba41dc9a18efae0881bfa5",
       "version_major": 2,
       "version_minor": 0
      },
      "text/plain": [
       "HBox(children=(HTML(value=''), FloatProgress(value=0.0, max=200.0), HTML(value='')))"
      ]
     },
     "metadata": {},
     "output_type": "display_data"
    },
    {
     "name": "stdout",
     "output_type": "stream",
     "text": [
      "\n"
     ]
    },
    {
     "data": {
      "application/vnd.jupyter.widget-view+json": {
       "model_id": "df5ca13a292e451aba0e76f57e98237a",
       "version_major": 2,
       "version_minor": 0
      },
      "text/plain": [
       "HBox(children=(HTML(value=''), FloatProgress(value=0.0, max=200.0), HTML(value='')))"
      ]
     },
     "metadata": {},
     "output_type": "display_data"
    },
    {
     "name": "stdout",
     "output_type": "stream",
     "text": [
      "\n"
     ]
    }
   ],
   "source": [
    "english_state = get_results_for('20k-bpe', 'state', english_bpe_context)\n",
    "english_subst = get_results_for('20k-bpe', 'subst', english_bpe_context)"
   ]
  },
  {
   "cell_type": "code",
   "execution_count": 10,
   "id": "constitutional-installation",
   "metadata": {},
   "outputs": [],
   "source": [
    "def make_for_dataset(dataset):\n",
    "    noise_values = [0, 0.25, 0.5, 0.75]\n",
    "    return pd.DataFrame([\n",
    "        {\n",
    "            'hypothesis': fix_abau_hyp_name(key),\n",
    "            'noise': noise_values[i],\n",
    "            'tvd': item\n",
    "        }\n",
    "        for key in dataset\n",
    "        for i, item in enumerate(dataset[key])\n",
    "    ])"
   ]
  },
  {
   "cell_type": "code",
   "execution_count": 11,
   "id": "emotional-comedy",
   "metadata": {},
   "outputs": [],
   "source": [
    "def fix_abau_hyp_name(name, both_interp=False):\n",
    "    return {\n",
    "        \"unigram\": \"Unigram\",\n",
    "        \"bigram\": \"Local\\nContext\",\n",
    "        \"outedge\": \"Global\\nContext\",\n",
    "        \"ignore\": \"Ignore\",\n",
    "        \"add_interp\": \"Interp.\\n(add.)\",\n",
    "        \"mul_interp\": \"Interp.\\n(mul.)\",\n",
    "        \"copycat\": \"Random\\nRestart\"\n",
    "    }[name]"
   ]
  },
  {
   "cell_type": "code",
   "execution_count": 12,
   "id": "small-affiliation",
   "metadata": {},
   "outputs": [],
   "source": [
    "import pandas as pd\n",
    "import seaborn as sns\n",
    "sns.set(font_scale=1.4)\n",
    "sns.set_style('white', {'font.family':'Times New Roman'})"
   ]
  },
  {
   "cell_type": "code",
   "execution_count": 13,
   "id": "optimum-communist",
   "metadata": {},
   "outputs": [],
   "source": [
    "def plot_for_dataset(results, noise_type = 'Noise', fname = None):\n",
    "    noise_values = [0, 0.25, 0.5, 0.75]\n",
    "    frame = pd.DataFrame([\n",
    "        {\n",
    "            'Hypothesis': fix_abau_hyp_name(key),\n",
    "            noise_type: noise_values[i],\n",
    "            'Accuracy (1 - TVD)': 1 - point[key].detach().cpu().numpy().tolist()\n",
    "        }\n",
    "        for i, point in enumerate(results)\n",
    "        for key in point\n",
    "    ])\n",
    "    fig = sns.relplot(data=frame, x=noise_type, y='Accuracy (1 - TVD)', hue='Hypothesis',\n",
    "                          palette={\n",
    "        \"Unigram\": \"#666666\",\n",
    "        \"Global\\nContext\": \"#0076ba\",\n",
    "        \"Local\\nContext\": \"#ee220c\",\n",
    "        \"Interp.\\n(add.)\": \"#d41876\",\n",
    "        \"Interp.\\n(mul.)\": \"#ff42a1\",\n",
    "        \"Random\\nRestart\": \"#feae00\",\n",
    "        \"Ignore\": \"#006400\"\n",
    "    }, kind='line')\n",
    "    #fig.axes[0][0].set_ylim((0, 1))\n",
    "    if fname is not None:\n",
    "        plt.savefig(fname)"
   ]
  },
  {
   "cell_type": "code",
   "execution_count": 20,
   "id": "ambient-auckland",
   "metadata": {},
   "outputs": [
    {
     "data": {
      "image/png": "[encoded data removed]",
      "text/plain": [
       "<Figure size 470.065x360 with 1 Axes>"
      ]
     },
     "metadata": {},
     "output_type": "display_data"
    },
    {
     "data": {
      "image/png": "[encoded data removed]",
      "text/plain": [
       "<Figure size 470.065x360 with 1 Axes>"
      ]
     },
     "metadata": {},
     "output_type": "display_data"
    }
   ],
   "source": [
    "#plot_for_dataset(chinese_state, noise_type = 'State dropout', fname='chinese-state.pdf')\n",
    "#plot_for_dataset(chinese_subst, noise_type = 'Substitution probability', fname='chinese-subst.pdf')\n",
    "#plot_for_dataset(finnish_state, noise_type = 'State dropout', fname='finnish-state.pdf')\n",
    "#plot_for_dataset(finnish_subst, noise_type = 'Substitution probability', fname='finnish-subst.pdf')\n",
    "plot_for_dataset(english_state, noise_type = 'State dropout', fname='english-state.pdf')\n",
    "plot_for_dataset(english_subst, noise_type = 'Substitution probability', fname='english-subst.pdf')"
   ]
  },
  {
   "cell_type": "code",
   "execution_count": 21,
   "id": "desperate-raising",
   "metadata": {},
   "outputs": [],
   "source": [
    "import json\n",
    "with open(\"/raid/lingo/jda/code/my-rnn/gru.json\") as reader:\n",
    "    gru_data = json.load(reader)"
   ]
  },
  {
   "cell_type": "code",
   "execution_count": 42,
   "id": "operating-handling",
   "metadata": {},
   "outputs": [
    {
     "data": {
      "image/png": "[encoded data removed]",
      "text/plain": [
       "<Figure size 470.065x360 with 1 Axes>"
      ]
     },
     "metadata": {},
     "output_type": "display_data"
    }
   ],
   "source": [
    "noises = [\"symbol_swap\", \"symbol_mask\", \"symbol_dropout\", \"state_reset\", \"state_skip\", \"state_noise\", \"state_dropout\"]\n",
    "\n",
    "def fix_hyp_names(result, language, both_interp=True):\n",
    "    pretty_names = {\n",
    "        \"copycat\": \"Random\\nRestart\",\n",
    "        \"ngram(2)\": \"Local\\nContext\",\n",
    "        \"ngram(1)\": \"Unigram\",\n",
    "        \"skip\": \"Ignore\",\n",
    "        \"mean_dist_state\": \"Global\\nContext\",\n",
    "        \"interp_add\": \"Interp.\\n(add.)\",\n",
    "        \"interp_mul\": \"Interp.\\n(mul.)\"\n",
    "    }\n",
    "    new_result = dict(**result)\n",
    "    new_result[\"hypothesis\"] = pretty_names[result[\"hypothesis\"]]\n",
    "    new_result[\"language\"] = language\n",
    "    return new_result\n",
    "\n",
    "for model, data in [(\"gru\", gru_data)]:\n",
    "    clean = []\n",
    "    for result_group in data:\n",
    "        noise_type, = (n for n in noises if n in result_group[0])\n",
    "        for result in result_group:\n",
    "            if result[\"hypothesis\"] in (\"gt\", \"skip\"):\n",
    "                continue\n",
    "            clean.append(fix_hyp_names(result, language=\"Regular Langs.\"))\n",
    "            \n",
    "    assert model == \"gru\"\n",
    "                    \n",
    "    for datum in clean:\n",
    "        if \"symbol_swap\" in datum:\n",
    "            datum[\"noise_type\"] = \"symbol_swap\"\n",
    "            datum[\"noise_value\"] = datum[\"symbol_swap\"]\n",
    "        elif \"state_dropout\" in datum:\n",
    "            datum[\"noise_type\"] = \"state_dropout\"\n",
    "            datum[\"noise_value\"] = datum[\"state_dropout\"]\n",
    "            \n",
    "    all_cols = [\"n_states\", \"n_symbols\", \"n_neighbors\", \"hypothesis\", \"interp_acc\", \"extrap_acc\", \"symbol_swap\", \"language\", \"noise_type\", \"noise_value\", \"extrap_weight_ngram\", \"extrap_weight_out\", \"symbol_mask\", \"symbol_dropout\", \"state_reset\", \"state_skip\", \"state_noise\", \"state_dropout\", \"real_extrap_acc\"]\n",
    "    keep_cols = [\"extrap_acc\", \"noise_type\", \"noise_value\", \"language\", \"hypothesis\"]\n",
    "    for datum in clean:\n",
    "        for col in all_cols:\n",
    "            if col in datum and col not in keep_cols:\n",
    "                del datum[col]\n",
    "                 \n",
    "    df = pd.DataFrame(clean)\n",
    "    df[\"real_extrap_acc\"] = 1 - df[\"extrap_acc\"]\n",
    "    df['Hypothesis'] = df['hypothesis']\n",
    "    fig = sns.relplot(data=df[(df['noise_type'] == 'symbol_swap') & (df['noise_value'] <= 0.5)],\n",
    "                      x='noise_value', y='real_extrap_acc', hue='Hypothesis', ci=None,\n",
    "                          palette={\n",
    "        \"Unigram\": \"#666666\",\n",
    "        \"Global\\nContext\": \"#0076ba\",\n",
    "        \"Local\\nContext\": \"#ee220c\",\n",
    "        \"Interp.\\n(add.)\": \"#d41876\",\n",
    "        \"Interp.\\n(mul.)\": \"#ff42a1\",\n",
    "        \"Random\\nRestart\": \"#feae00\",\n",
    "        \"Ignore\": \"#006400\"\n",
    "    }, kind='line')\n",
    "    fig.axes[0][0].set_xlabel('Substitution probability')\n",
    "    fig.axes[0][0].set_ylabel('Accuracy (1 - TVD)')\n",
    "    plt.savefig('regulargru_swap.pdf')"
   ]
  },
  {
   "cell_type": "code",
   "execution_count": 43,
   "id": "celtic-convertible",
   "metadata": {},
   "outputs": [
    {
     "data": {
      "image/png": "[encoded data removed]",
      "text/plain": [
       "<Figure size 470.065x360 with 1 Axes>"
      ]
     },
     "metadata": {},
     "output_type": "display_data"
    }
   ],
   "source": [
    "noises = [\"symbol_swap\", \"symbol_mask\", \"symbol_dropout\", \"state_reset\", \"state_skip\", \"state_noise\", \"state_dropout\"]\n",
    "\n",
    "def fix_hyp_names(result, language, both_interp=True):\n",
    "    pretty_names = {\n",
    "        \"copycat\": \"Random\\nRestart\",\n",
    "        \"ngram(2)\": \"Local\\nContext\",\n",
    "        \"ngram(1)\": \"Unigram\",\n",
    "        \"skip\": \"Ignore\",\n",
    "        \"mean_dist_state\": \"Global\\nContext\",\n",
    "        \"interp_add\": \"Interp.\\n(add.)\",\n",
    "        \"interp_mul\": \"Interp.\\n(mul.)\"\n",
    "    }\n",
    "    new_result = dict(**result)\n",
    "    new_result[\"hypothesis\"] = pretty_names[result[\"hypothesis\"]]\n",
    "    new_result[\"language\"] = language\n",
    "    return new_result\n",
    "\n",
    "for model, data in [(\"gru\", gru_data)]:\n",
    "    clean = []\n",
    "    for result_group in data:\n",
    "        noise_type, = (n for n in noises if n in result_group[0])\n",
    "        for result in result_group:\n",
    "            if result[\"hypothesis\"] in (\"gt\", \"skip\"):\n",
    "                continue\n",
    "            clean.append(fix_hyp_names(result, language=\"Regular Langs.\"))\n",
    "            \n",
    "    assert model == \"gru\"\n",
    "                    \n",
    "    for datum in clean:\n",
    "        if \"symbol_swap\" in datum:\n",
    "            datum[\"noise_type\"] = \"symbol_swap\"\n",
    "            datum[\"noise_value\"] = datum[\"symbol_swap\"]\n",
    "        elif \"state_dropout\" in datum:\n",
    "            datum[\"noise_type\"] = \"state_dropout\"\n",
    "            datum[\"noise_value\"] = datum[\"state_dropout\"]\n",
    "            \n",
    "    all_cols = [\"n_states\", \"n_symbols\", \"n_neighbors\", \"hypothesis\", \"interp_acc\", \"extrap_acc\", \"symbol_swap\", \"language\", \"noise_type\", \"noise_value\", \"extrap_weight_ngram\", \"extrap_weight_out\", \"symbol_mask\", \"symbol_dropout\", \"state_reset\", \"state_skip\", \"state_noise\", \"state_dropout\", \"real_extrap_acc\"]\n",
    "    keep_cols = [\"extrap_acc\", \"noise_type\", \"noise_value\", \"language\", \"hypothesis\"]\n",
    "    for datum in clean:\n",
    "        for col in all_cols:\n",
    "            if col in datum and col not in keep_cols:\n",
    "                del datum[col]\n",
    "                 \n",
    "    df = pd.DataFrame(clean)\n",
    "    df[\"real_extrap_acc\"] = 1 - df[\"extrap_acc\"]\n",
    "    df['Hypothesis'] = df['hypothesis']\n",
    "    fig = sns.relplot(data=df[(df['noise_type'] == 'state_dropout') & (df['noise_value'] <= 0.5)],\n",
    "                      x='noise_value', y='real_extrap_acc', hue='Hypothesis', ci=None,\n",
    "                          palette={\n",
    "        \"Unigram\": \"#666666\",\n",
    "        \"Global\\nContext\": \"#0076ba\",\n",
    "        \"Local\\nContext\": \"#ee220c\",\n",
    "        \"Interp.\\n(add.)\": \"#d41876\",\n",
    "        \"Interp.\\n(mul.)\": \"#ff42a1\",\n",
    "        \"Random\\nRestart\": \"#feae00\",\n",
    "        \"Ignore\": \"#006400\"\n",
    "    }, kind='line')\n",
    "    fig.axes[0][0].set_xlabel('State dropout')\n",
    "    fig.axes[0][0].set_ylabel('Accuracy (1 - TVD)')\n",
    "    plt.savefig('regulargru_state.pdf')"
   ]
  },
  {
   "cell_type": "code",
   "execution_count": 44,
   "id": "drawn-shark",
   "metadata": {},
   "outputs": [],
   "source": [
    "import json\n",
    "with open(\"/raid/lingo/jda/code/my-rnn/transformer.json\") as reader:\n",
    "    transformer_data = json.load(reader)"
   ]
  },
  {
   "cell_type": "code",
   "execution_count": 45,
   "id": "latest-market",
   "metadata": {},
   "outputs": [
    {
     "data": {
      "image/png": "[encoded data removed]",
      "text/plain": [
       "<Figure size 470.065x360 with 1 Axes>"
      ]
     },
     "metadata": {},
     "output_type": "display_data"
    }
   ],
   "source": [
    "noises = [\"symbol_swap\", \"symbol_mask\", \"symbol_dropout\", \"state_reset\", \"state_skip\", \"state_noise\", \"state_dropout\"]\n",
    "\n",
    "def fix_hyp_names(result, language, both_interp=True):\n",
    "    pretty_names = {\n",
    "        \"copycat\": \"Random\\nRestart\",\n",
    "        \"ngram(2)\": \"Local\\nContext\",\n",
    "        \"ngram(1)\": \"Unigram\",\n",
    "        \"skip\": \"Ignore\",\n",
    "        \"mean_dist_state\": \"Global\\nContext\",\n",
    "        \"interp_add\": \"Interp.\\n(add.)\",\n",
    "        \"interp_mul\": \"Interp.\\n(mul.)\"\n",
    "    }\n",
    "    new_result = dict(**result)\n",
    "    new_result[\"hypothesis\"] = pretty_names[result[\"hypothesis\"]]\n",
    "    new_result[\"language\"] = language\n",
    "    return new_result\n",
    "\n",
    "for model, data in [(\"transformers\", transformer_data)]:\n",
    "    clean = []\n",
    "    for result_group in data:\n",
    "        noise_type, = (n for n in noises if n in result_group[0])\n",
    "        for result in result_group:\n",
    "            if result[\"hypothesis\"] in (\"gt\", \"skip\"):\n",
    "                continue\n",
    "            clean.append(fix_hyp_names(result, language=\"Regular Langs.\"))\n",
    "            \n",
    "    assert model == \"transformers\"\n",
    "                    \n",
    "    for datum in clean:\n",
    "        if \"symbol_swap\" in datum:\n",
    "            datum[\"noise_type\"] = \"symbol_swap\"\n",
    "            datum[\"noise_value\"] = datum[\"symbol_swap\"]\n",
    "        elif \"state_dropout\" in datum:\n",
    "            datum[\"noise_type\"] = \"state_dropout\"\n",
    "            datum[\"noise_value\"] = datum[\"state_dropout\"]\n",
    "            \n",
    "    all_cols = [\"n_states\", \"n_symbols\", \"n_neighbors\", \"hypothesis\", \"interp_acc\", \"extrap_acc\", \"symbol_swap\", \"language\", \"noise_type\", \"noise_value\", \"extrap_weight_ngram\", \"extrap_weight_out\", \"symbol_mask\", \"symbol_dropout\", \"state_reset\", \"state_skip\", \"state_noise\", \"state_dropout\", \"real_extrap_acc\"]\n",
    "    keep_cols = [\"extrap_acc\", \"noise_type\", \"noise_value\", \"language\", \"hypothesis\"]\n",
    "    for datum in clean:\n",
    "        for col in all_cols:\n",
    "            if col in datum and col not in keep_cols:\n",
    "                del datum[col]\n",
    "                 \n",
    "    df = pd.DataFrame(clean)\n",
    "    df[\"real_extrap_acc\"] = 1 - df[\"extrap_acc\"]\n",
    "    df['Hypothesis'] = df['hypothesis']\n",
    "    fig = sns.relplot(data=df[(df['noise_type'] == 'symbol_swap') & (df['noise_value'] <= 0.5)],\n",
    "                      x='noise_value', y='real_extrap_acc', hue='Hypothesis', ci=None,\n",
    "                          palette={\n",
    "        \"Unigram\": \"#666666\",\n",
    "        \"Global\\nContext\": \"#0076ba\",\n",
    "        \"Local\\nContext\": \"#ee220c\",\n",
    "        \"Interp.\\n(add.)\": \"#d41876\",\n",
    "        \"Interp.\\n(mul.)\": \"#ff42a1\",\n",
    "        \"Random\\nRestart\": \"#feae00\",\n",
    "        \"Ignore\": \"#006400\"\n",
    "    }, kind='line')\n",
    "    fig.axes[0][0].set_xlabel('Substitution probability')\n",
    "    fig.axes[0][0].set_ylabel('Accuracy (1 - TVD)')\n",
    "    plt.savefig('regulartransform_swap.pdf')"
   ]
  },
  {
   "cell_type": "code",
   "execution_count": 48,
   "id": "rotary-boundary",
   "metadata": {},
   "outputs": [
    {
     "data": {
      "image/png": "[encoded data removed]",
      "text/plain": [
       "<Figure size 470.065x360 with 1 Axes>"
      ]
     },
     "metadata": {},
     "output_type": "display_data"
    }
   ],
   "source": [
    "noises = [\"symbol_swap\", \"symbol_mask\", \"symbol_dropout\", \"state_reset\", \"state_skip\", \"state_noise\", \"state_dropout\"]\n",
    "\n",
    "def fix_hyp_names(result, language, both_interp=True):\n",
    "    pretty_names = {\n",
    "        \"copycat\": \"Random\\nRestart\",\n",
    "        \"ngram(2)\": \"Local\\nContext\",\n",
    "        \"ngram(1)\": \"Unigram\",\n",
    "        \"skip\": \"Ignore\",\n",
    "        \"mean_dist_state\": \"Global\\nContext\",\n",
    "        \"interp_add\": \"Interp.\\n(add.)\",\n",
    "        \"interp_mul\": \"Interp.\\n(mul.)\"\n",
    "    }\n",
    "    new_result = dict(**result)\n",
    "    new_result[\"hypothesis\"] = pretty_names[result[\"hypothesis\"]]\n",
    "    new_result[\"language\"] = language\n",
    "    return new_result\n",
    "\n",
    "for model, data in [(\"transformers\", transformer_data)]:\n",
    "    clean = []\n",
    "    for result_group in data:\n",
    "        noise_type, = (n for n in noises if n in result_group[0])\n",
    "        for result in result_group:\n",
    "            if result[\"hypothesis\"] in (\"gt\", \"skip\"):\n",
    "                continue\n",
    "            clean.append(fix_hyp_names(result, language=\"Regular Langs.\"))\n",
    "                                \n",
    "    for datum in clean:\n",
    "        if \"symbol_swap\" in datum:\n",
    "            datum[\"noise_type\"] = \"symbol_swap\"\n",
    "            datum[\"noise_value\"] = datum[\"symbol_swap\"]\n",
    "        elif \"state_dropout\" in datum:\n",
    "            datum[\"noise_type\"] = \"state_dropout\"\n",
    "            datum[\"noise_value\"] = datum[\"state_dropout\"]\n",
    "            \n",
    "    all_cols = [\"n_states\", \"n_symbols\", \"n_neighbors\", \"hypothesis\", \"interp_acc\", \"extrap_acc\", \"symbol_swap\", \"language\", \"noise_type\", \"noise_value\", \"extrap_weight_ngram\", \"extrap_weight_out\", \"symbol_mask\", \"symbol_dropout\", \"state_reset\", \"state_skip\", \"state_noise\", \"state_dropout\", \"real_extrap_acc\"]\n",
    "    keep_cols = [\"extrap_acc\", \"noise_type\", \"noise_value\", \"language\", \"hypothesis\"]\n",
    "    for datum in clean:\n",
    "        for col in all_cols:\n",
    "            if col in datum and col not in keep_cols:\n",
    "                del datum[col]\n",
    "                 \n",
    "    df = pd.DataFrame(clean)\n",
    "    df[\"real_extrap_acc\"] = 1 - df[\"extrap_acc\"]\n",
    "    df['Hypothesis'] = df['hypothesis']\n",
    "    fig = sns.relplot(data=df[(df['noise_type'] == 'state_dropout') & (df['noise_value'] <= 0.5)],\n",
    "                      x='noise_value', y='real_extrap_acc', hue='Hypothesis', ci=None,\n",
    "                          palette={\n",
    "        \"Unigram\": \"#666666\",\n",
    "        \"Global\\nContext\": \"#0076ba\",\n",
    "        \"Local\\nContext\": \"#ee220c\",\n",
    "        \"Interp.\\n(add.)\": \"#d41876\",\n",
    "        \"Interp.\\n(mul.)\": \"#ff42a1\",\n",
    "        \"Random\\nRestart\": \"#feae00\",\n",
    "        \"Ignore\": \"#006400\"\n",
    "    }, kind='line')\n",
    "    fig.axes[0][0].set_xlabel('State dropout')\n",
    "    fig.axes[0][0].set_ylabel('Accuracy (1 - TVD)')\n",
    "    plt.savefig('regulartransform_state.pdf')"
   ]
  },
  {
   "cell_type": "code",
   "execution_count": 46,
   "id": "neural-aruba",
   "metadata": {},
   "outputs": [
    {
     "ename": "NameError",
     "evalue": "name 'finnish_subst' is not defined",
     "output_type": "error",
     "traceback": [
      "\u001b[0;31m---------------------------------------------------------------------------\u001b[0m",
      "\u001b[0;31mNameError\u001b[0m                                 Traceback (most recent call last)",
      "\u001b[0;32m<ipython-input-46-6720c2f3b9ea>\u001b[0m in \u001b[0;36m<module>\u001b[0;34m\u001b[0m\n\u001b[1;32m      2\u001b[0m     \u001b[0;34m(\u001b[0m\u001b[0;34m'English'\u001b[0m\u001b[0;34m,\u001b[0m \u001b[0;34m'symbol_swap'\u001b[0m\u001b[0;34m,\u001b[0m \u001b[0menglish_subst\u001b[0m\u001b[0;34m)\u001b[0m\u001b[0;34m,\u001b[0m\u001b[0;34m\u001b[0m\u001b[0;34m\u001b[0m\u001b[0m\n\u001b[1;32m      3\u001b[0m     \u001b[0;34m(\u001b[0m\u001b[0;34m'English'\u001b[0m\u001b[0;34m,\u001b[0m \u001b[0;34m'state_dropout'\u001b[0m\u001b[0;34m,\u001b[0m \u001b[0menglish_state\u001b[0m\u001b[0;34m)\u001b[0m\u001b[0;34m,\u001b[0m\u001b[0;34m\u001b[0m\u001b[0;34m\u001b[0m\u001b[0m\n\u001b[0;32m----> 4\u001b[0;31m     \u001b[0;34m(\u001b[0m\u001b[0;34m'Finnish'\u001b[0m\u001b[0;34m,\u001b[0m \u001b[0;34m'symbol_swap'\u001b[0m\u001b[0;34m,\u001b[0m \u001b[0mfinnish_subst\u001b[0m\u001b[0;34m)\u001b[0m\u001b[0;34m,\u001b[0m\u001b[0;34m\u001b[0m\u001b[0;34m\u001b[0m\u001b[0m\n\u001b[0m\u001b[1;32m      5\u001b[0m     \u001b[0;34m(\u001b[0m\u001b[0;34m'Finnish'\u001b[0m\u001b[0;34m,\u001b[0m \u001b[0;34m'state_dropout'\u001b[0m\u001b[0;34m,\u001b[0m \u001b[0mfinnish_state\u001b[0m\u001b[0;34m)\u001b[0m\u001b[0;34m,\u001b[0m\u001b[0;34m\u001b[0m\u001b[0;34m\u001b[0m\u001b[0m\n\u001b[1;32m      6\u001b[0m ]\n",
      "\u001b[0;31mNameError\u001b[0m: name 'finnish_subst' is not defined"
     ]
    }
   ],
   "source": [
    "samples = [\n",
    "    ('English', 'symbol_swap', english_subst),\n",
    "    ('English', 'state_dropout', english_state),\n",
    "    ('Finnish', 'symbol_swap', finnish_subst),\n",
    "    ('Finnish', 'state_dropout', finnish_state),\n",
    "]\n",
    "\n",
    "noises = [\"symbol_swap\", \"symbol_mask\", \"symbol_dropout\", \"state_reset\", \"state_skip\", \"state_noise\", \"state_dropout\"]\n",
    "\n",
    "def fix_hyp_names(result, language, both_interp=True):\n",
    "    pretty_names = {\n",
    "        \"copycat\": \"Random\\nRestart\",\n",
    "        \"ngram(2)\": \"Lexical\\nContext\",\n",
    "        \"ngram(1)\": \"Unigram\",\n",
    "        \"skip\": \"Ignore\",\n",
    "        \"mean_dist_state\": \"Syntactic\\nContext\",\n",
    "        \"interp_add\": \"Interp.\\n(add.)\",\n",
    "        \"interp_mul\": \"Interp.\\n(mul.)\"\n",
    "    }\n",
    "    new_result = dict(**result)\n",
    "    new_result[\"hypothesis\"] = pretty_names[result[\"hypothesis\"]]\n",
    "    new_result[\"language\"] = language\n",
    "    return new_result\n",
    "\n",
    "\n",
    "def fix_abau_hyp_name(name, both_interp=False):\n",
    "    return {\n",
    "        \"unigram\": \"Unigram\",\n",
    "        \"bigram\": \"Lexical\\nContext\",\n",
    "        \"outedge\": \"Syntactic\\nContext\",\n",
    "        \"ignore\": \"Ignore\",\n",
    "        \"add_interp\": \"Interp.\\n(add.)\",\n",
    "        \"mul_interp\": \"Interp.\\n(mul.)\",\n",
    "        \"copycat\": \"Random\\nRestart\"\n",
    "    }[name]\n",
    "\n",
    "for model, data in [(\"transformers\", transformer_data)]:\n",
    "    clean = []\n",
    "    for result_group in data:\n",
    "        noise_type, = (n for n in noises if n in result_group[0])\n",
    "        for result in result_group:\n",
    "            if result[\"hypothesis\"] in (\"gt\", \"skip\"):\n",
    "                continue\n",
    "            clean.append(fix_hyp_names(result, language=\"Regular Langs.\"))\n",
    "                \n",
    "    noise_strength = [0, 0.25, 0.5]\n",
    "    for lang, noise, data in samples:\n",
    "        for i, result in enumerate(data):\n",
    "            for hypothesis, value in result.items():\n",
    "                clean.append({\n",
    "                    'language': lang,\n",
    "                    'hypothesis': fix_abau_hyp_name(hypothesis),\n",
    "                    'extrap_acc': value.detach().cpu().numpy().tolist(),\n",
    "                    noise: noise_strength[i]\n",
    "                })\n",
    "                    \n",
    "    for datum in clean:\n",
    "        if \"symbol_swap\" in datum:\n",
    "            datum[\"noise_type\"] = \"Word substitution\"\n",
    "            datum[\"noise_value\"] = datum[\"symbol_swap\"]\n",
    "        elif \"state_dropout\" in datum:\n",
    "            datum[\"noise_type\"] = \"State dropout\"\n",
    "            datum[\"noise_value\"] = datum[\"state_dropout\"]\n",
    "            \n",
    "    all_cols = [\"n_states\", \"n_symbols\", \"n_neighbors\", \"hypothesis\", \"interp_acc\", \"extrap_acc\", \"symbol_swap\", \"language\", \"noise_type\", \"noise_value\", \"extrap_weight_ngram\", \"extrap_weight_out\", \"symbol_mask\", \"symbol_dropout\", \"state_reset\", \"state_skip\", \"state_noise\", \"state_dropout\", \"real_extrap_acc\"]\n",
    "    keep_cols = [\"extrap_acc\", \"noise_type\", \"noise_value\", \"language\", \"hypothesis\"]\n",
    "    for datum in clean:\n",
    "        for col in all_cols:\n",
    "            if col in datum and col not in keep_cols:\n",
    "                del datum[col]\n",
    "                 \n",
    "    df = pd.DataFrame(clean)\n",
    "    print(df)\n",
    "    df[\"real_extrap_acc\"] = 1 - df[\"extrap_acc\"]\n",
    "    df = df.query(\"noise_type == 'Word substitution' | noise_type == 'State dropout'\")\n",
    "    #df = df.query(\"language == 'English'\")\n",
    "    \n",
    "    #display(df.query(\"language == 'Finnish'\"))\n",
    "    grid = sns.FacetGrid(df, row=\"noise_type\", col=\"language\", margin_titles=True)\n",
    "    grid.map_dataframe(\n",
    "        sns.lineplot,\n",
    "        x=\"noise_value\",\n",
    "        y=\"real_extrap_acc\",\n",
    "        hue=\"hypothesis\",\n",
    "        hue_order=[\"Unigram\", \"Syntactic\\nContext\", \"Lexical\\nContext\", \"Interp.\\n(mul.)\"],\n",
    "        palette={\n",
    "            \"Unigram\": \"#666666\",\n",
    "            \"Syntactic\\nContext\": \"#0076ba\",\n",
    "            \"Lexical\\nContext\": \"#ee220c\",\n",
    "            \"Interp.\\n(add.)\": \"#d41876\",\n",
    "            \"Interp.\\n(mul.)\": \"#ff42a1\",\n",
    "            \"Random\\nRestart\": \"#feae00\",\n",
    "        },\n",
    "        ci=0,\n",
    "        #aspect=1.5,\n",
    "        #kind=\"line\",\n",
    "    )\n",
    "    grid.set_titles(col_template=\"{col_name}\", row_template=\"{row_name}\")\n",
    "    grid.set(xlim=(0, .5), ylim=(0, 1), xticks=[0, 0.25, 0.5], yticks=[0, 0.2, 0.4, 0.6, 0.8, 1.0])\n",
    "    grid.fig.subplots_adjust(wspace=0.3)\n",
    "    plt.savefig(f\"noise_grid.pdf\")\n",
    "    #grid.axes[0][0].legend()\n",
    "    \n",
    "    #sns.relplot(data=df, x=\"noise_value\", y=\"real_extrap_acc\", kind=\"line\")\n",
    "\n",
    "    #plt.xlabel(f\"Noise strength ({noise_type})\")\n",
    "    #plt.ylabel(f\"({model}) Model Error\")\n",
    "    #plt.savefig(f\"{model}_{noise_type}.pdf\")"
   ]
  },
  {
   "cell_type": "code",
   "execution_count": 52,
   "id": "cardiovascular-thomas",
   "metadata": {},
   "outputs": [],
   "source": [
    "torch.save({\n",
    "    'english_subst': english_subst,\n",
    "    'english_state': english_state,\n",
    "    'finnish_subst': finnish_subst,\n",
    "    'finnish_state': finnish_state,\n",
    "    'chinese_subst': chinese_subst,\n",
    "    'chinese_state': chinese_state\n",
    "}, 'noise-test-results.pt')"
   ]
  },
  {
   "cell_type": "code",
   "execution_count": 83,
   "id": "popular-comparative",
   "metadata": {},
   "outputs": [
    {
     "name": "stdout",
     "output_type": "stream",
     "text": [
      "             hypothesis  extrap_acc        language     noise_type  \\\n",
      "0       Random\\nRestart    0.152903  Regular Langs.    symbol_swap   \n",
      "1        Local\\nContext    0.239320  Regular Langs.    symbol_swap   \n",
      "2               Unigram    0.516738  Regular Langs.    symbol_swap   \n",
      "3       Global\\nContext    0.310871  Regular Langs.    symbol_swap   \n",
      "4       Interp.\\n(add.)    0.229608  Regular Langs.    symbol_swap   \n",
      "..                  ...         ...             ...            ...   \n",
      "583  Syntactic\\nContext    0.647197         Finnish  state_dropout   \n",
      "584              Ignore    0.698094         Finnish  state_dropout   \n",
      "585     Interp.\\n(add.)    0.533932         Finnish  state_dropout   \n",
      "586     Interp.\\n(mul.)    0.528237         Finnish  state_dropout   \n",
      "587     Random\\nRestart    0.363513         Finnish  state_dropout   \n",
      "\n",
      "     noise_value  \n",
      "0            0.0  \n",
      "1            0.0  \n",
      "2            0.0  \n",
      "3            0.0  \n",
      "4            0.0  \n",
      "..           ...  \n",
      "583          0.5  \n",
      "584          0.5  \n",
      "585          0.5  \n",
      "586          0.5  \n",
      "587          0.5  \n",
      "\n",
      "[588 rows x 5 columns]\n"
     ]
    }
   ],
   "source": [
    "samples = [\n",
    "    ('English', 'symbol_swap', english_subst),\n",
    "    ('English', 'state_dropout', english_state),\n",
    "    ('Finnish', 'symbol_swap', finnish_subst),\n",
    "    ('Finnish', 'state_dropout', finnish_state),\n",
    "]\n",
    "\n",
    "noises = [\"symbol_swap\", \"symbol_mask\", \"symbol_dropout\", \"state_reset\", \"state_skip\", \"state_noise\", \"state_dropout\"]\n",
    "\n",
    "def fix_hyp_names(result, language, both_interp=True):\n",
    "    pretty_names = {\n",
    "        \"copycat\": \"Random\\nRestart\",\n",
    "        \"ngram(2)\": \"Local\\nContext\",\n",
    "        \"ngram(1)\": \"Unigram\",\n",
    "        \"skip\": \"Ignore\",\n",
    "        \"mean_dist_state\": \"Global\\nContext\",\n",
    "        \"interp_add\": \"Interp.\\n(add.)\",\n",
    "        \"interp_mul\": \"Interp.\\n(mul.)\"\n",
    "    }\n",
    "    new_result = dict(**result)\n",
    "    new_result[\"hypothesis\"] = pretty_names[result[\"hypothesis\"]]\n",
    "    new_result[\"language\"] = language\n",
    "    return new_result\n",
    "\n",
    "\n",
    "def fix_abau_hyp_name(name, both_interp=False):\n",
    "    return {\n",
    "        \"unigram\": \"Unigram\",\n",
    "        \"bigram\": \"Lexical\\nContext\",\n",
    "        \"outedge\": \"Syntactic\\nContext\",\n",
    "        \"ignore\": \"Ignore\",\n",
    "        \"add_interp\": \"Interp.\\n(add.)\",\n",
    "        \"mul_interp\": \"Interp.\\n(mul.)\",\n",
    "        \"copycat\": \"Random\\nRestart\"\n",
    "    }[name]\n",
    "\n",
    "for model, data in [(\"gru\", gru_data)]:\n",
    "    clean = []\n",
    "    for result_group in data:\n",
    "        noise_type, = (n for n in noises if n in result_group[0])\n",
    "        for result in result_group:\n",
    "            if result[\"hypothesis\"] in (\"gt\", \"skip\"):\n",
    "                continue\n",
    "            clean.append(fix_hyp_names(result, language=\"Regular Langs.\"))\n",
    "            \n",
    "    assert model == \"gru\"\n",
    "    \n",
    "    noise_strength = [0, 0.25, 0.5]\n",
    "    for lang, noise, data in samples:\n",
    "        for i, result in enumerate(data):\n",
    "            for hypothesis, value in result.items():\n",
    "                clean.append({\n",
    "                    'language': lang,\n",
    "                    'hypothesis': fix_abau_hyp_name(hypothesis),\n",
    "                    'extrap_acc': value.detach().cpu().numpy().tolist(),\n",
    "                    noise: noise_strength[i]\n",
    "                })\n",
    "                    \n",
    "    for datum in clean:\n",
    "        if \"symbol_swap\" in datum:\n",
    "            datum[\"noise_type\"] = \"symbol_swap\"\n",
    "            datum[\"noise_value\"] = datum[\"symbol_swap\"]\n",
    "        elif \"state_dropout\" in datum:\n",
    "            datum[\"noise_type\"] = \"state_dropout\"\n",
    "            datum[\"noise_value\"] = datum[\"state_dropout\"]\n",
    "            \n",
    "    all_cols = [\"n_states\", \"n_symbols\", \"n_neighbors\", \"hypothesis\", \"interp_acc\", \"extrap_acc\", \"symbol_swap\", \"language\", \"noise_type\", \"noise_value\", \"extrap_weight_ngram\", \"extrap_weight_out\", \"symbol_mask\", \"symbol_dropout\", \"state_reset\", \"state_skip\", \"state_noise\", \"state_dropout\", \"real_extrap_acc\"]\n",
    "    keep_cols = [\"extrap_acc\", \"noise_type\", \"noise_value\", \"language\", \"hypothesis\"]\n",
    "    for datum in clean:\n",
    "        for col in all_cols:\n",
    "            if col in datum and col not in keep_cols:\n",
    "                del datum[col]\n",
    "                 \n",
    "    df = pd.DataFrame(clean)\n",
    "    print(df)\n",
    "    df[\"real_extrap_acc\"] = 1 - df[\"extrap_acc\"]\n",
    "    df = df.query(\"noise_type == 'symbol_swap' | noise_type == 'state_dropout'\")"
   ]
  },
  {
   "cell_type": "code",
   "execution_count": 84,
   "id": "capital-blackberry",
   "metadata": {},
   "outputs": [],
   "source": [
    "df['Hypothesis'] = df['hypothesis']"
   ]
  },
  {
   "cell_type": "code",
   "execution_count": 94,
   "id": "allied-ideal",
   "metadata": {},
   "outputs": [
    {
     "data": {
      "text/plain": [
       "Text(34.98074266666667, 0.5, 'Accuracy (1 - TVD)')"
      ]
     },
     "execution_count": 94,
     "metadata": {},
     "output_type": "execute_result"
    },
    {
     "data": {
      "image/png": "[encoded data removed]",
      "text/plain": [
       "<Figure size 481.44x360 with 1 Axes>"
      ]
     },
     "metadata": {},
     "output_type": "display_data"
    }
   ],
   "source": [
    "dfstate = df[df['noise_type'] == 'state_dropout']\n",
    "fig = sns.relplot(data=dfstate, x='noise_value', y='real_extrap_acc', hue='Hypothesis',\n",
    "                      palette={\n",
    "        \"Unigram\": \"#666666\",\n",
    "        \"Global\\nContext\": \"#0076ba\",\n",
    "        \"Local\\nContext\": \"#ee220c\",\n",
    "        \"Interp.\\n(add.)\": \"#d41876\",\n",
    "        \"Interp.\\n(mul.)\": \"#ff42a1\",\n",
    "        \"Random\\nRestart\": \"#feae00\",\n",
    "    }, ci=None, kind='line')\n",
    "fig.axes[0][0].set_ylim((0, 1))\n",
    "fig.axes[0][0].set_xlabel('State dropout')\n",
    "fig.axes[0][0].set_ylabel('Accuracy (1 - TVD)')\n"
   ]
  },
  {
   "cell_type": "code",
   "execution_count": 82,
   "id": "actual-violation",
   "metadata": {},
   "outputs": [
    {
     "data": {
      "text/html": [
       "<div>\n",
       "<style scoped>\n",
       "    .dataframe tbody tr th:only-of-type {\n",
       "        vertical-align: middle;\n",
       "    }\n",
       "\n",
       "    .dataframe tbody tr th {\n",
       "        vertical-align: top;\n",
       "    }\n",
       "\n",
       "    .dataframe thead th {\n",
       "        text-align: right;\n",
       "    }\n",
       "</style>\n",
       "<table border=\"1\" class=\"dataframe\">\n",
       "  <thead>\n",
       "    <tr style=\"text-align: right;\">\n",
       "      <th></th>\n",
       "      <th>hypothesis</th>\n",
       "      <th>extrap_acc</th>\n",
       "      <th>Hypothesis</th>\n",
       "      <th>language</th>\n",
       "      <th>noise_type</th>\n",
       "      <th>noise_value</th>\n",
       "      <th>real_extrap_acc</th>\n",
       "    </tr>\n",
       "  </thead>\n",
       "  <tbody>\n",
       "    <tr>\n",
       "      <th>504</th>\n",
       "      <td>Unigram</td>\n",
       "      <td>0.653614</td>\n",
       "      <td>Unigram</td>\n",
       "      <td>English</td>\n",
       "      <td>symbol_swap</td>\n",
       "      <td>0.00</td>\n",
       "      <td>0.346386</td>\n",
       "    </tr>\n",
       "    <tr>\n",
       "      <th>511</th>\n",
       "      <td>Unigram</td>\n",
       "      <td>0.595030</td>\n",
       "      <td>Unigram</td>\n",
       "      <td>English</td>\n",
       "      <td>symbol_swap</td>\n",
       "      <td>0.25</td>\n",
       "      <td>0.404970</td>\n",
       "    </tr>\n",
       "    <tr>\n",
       "      <th>518</th>\n",
       "      <td>Unigram</td>\n",
       "      <td>0.490713</td>\n",
       "      <td>Unigram</td>\n",
       "      <td>English</td>\n",
       "      <td>symbol_swap</td>\n",
       "      <td>0.50</td>\n",
       "      <td>0.509287</td>\n",
       "    </tr>\n",
       "    <tr>\n",
       "      <th>525</th>\n",
       "      <td>Unigram</td>\n",
       "      <td>0.653614</td>\n",
       "      <td>Unigram</td>\n",
       "      <td>English</td>\n",
       "      <td>state_dropout</td>\n",
       "      <td>0.00</td>\n",
       "      <td>0.346386</td>\n",
       "    </tr>\n",
       "    <tr>\n",
       "      <th>532</th>\n",
       "      <td>Unigram</td>\n",
       "      <td>0.705393</td>\n",
       "      <td>Unigram</td>\n",
       "      <td>English</td>\n",
       "      <td>state_dropout</td>\n",
       "      <td>0.25</td>\n",
       "      <td>0.294607</td>\n",
       "    </tr>\n",
       "    <tr>\n",
       "      <th>539</th>\n",
       "      <td>Unigram</td>\n",
       "      <td>0.694077</td>\n",
       "      <td>Unigram</td>\n",
       "      <td>English</td>\n",
       "      <td>state_dropout</td>\n",
       "      <td>0.50</td>\n",
       "      <td>0.305923</td>\n",
       "    </tr>\n",
       "    <tr>\n",
       "      <th>546</th>\n",
       "      <td>Unigram</td>\n",
       "      <td>0.554744</td>\n",
       "      <td>Unigram</td>\n",
       "      <td>Finnish</td>\n",
       "      <td>symbol_swap</td>\n",
       "      <td>0.00</td>\n",
       "      <td>0.445256</td>\n",
       "    </tr>\n",
       "    <tr>\n",
       "      <th>553</th>\n",
       "      <td>Unigram</td>\n",
       "      <td>0.504262</td>\n",
       "      <td>Unigram</td>\n",
       "      <td>Finnish</td>\n",
       "      <td>symbol_swap</td>\n",
       "      <td>0.25</td>\n",
       "      <td>0.495738</td>\n",
       "    </tr>\n",
       "    <tr>\n",
       "      <th>560</th>\n",
       "      <td>Unigram</td>\n",
       "      <td>0.404958</td>\n",
       "      <td>Unigram</td>\n",
       "      <td>Finnish</td>\n",
       "      <td>symbol_swap</td>\n",
       "      <td>0.50</td>\n",
       "      <td>0.595042</td>\n",
       "    </tr>\n",
       "    <tr>\n",
       "      <th>567</th>\n",
       "      <td>Unigram</td>\n",
       "      <td>0.554744</td>\n",
       "      <td>Unigram</td>\n",
       "      <td>Finnish</td>\n",
       "      <td>state_dropout</td>\n",
       "      <td>0.00</td>\n",
       "      <td>0.445256</td>\n",
       "    </tr>\n",
       "    <tr>\n",
       "      <th>574</th>\n",
       "      <td>Unigram</td>\n",
       "      <td>0.606983</td>\n",
       "      <td>Unigram</td>\n",
       "      <td>Finnish</td>\n",
       "      <td>state_dropout</td>\n",
       "      <td>0.25</td>\n",
       "      <td>0.393017</td>\n",
       "    </tr>\n",
       "    <tr>\n",
       "      <th>581</th>\n",
       "      <td>Unigram</td>\n",
       "      <td>0.602688</td>\n",
       "      <td>Unigram</td>\n",
       "      <td>Finnish</td>\n",
       "      <td>state_dropout</td>\n",
       "      <td>0.50</td>\n",
       "      <td>0.397312</td>\n",
       "    </tr>\n",
       "  </tbody>\n",
       "</table>\n",
       "</div>"
      ],
      "text/plain": [
       "    hypothesis  extrap_acc Hypothesis language     noise_type  noise_value  \\\n",
       "504    Unigram    0.653614    Unigram  English    symbol_swap         0.00   \n",
       "511    Unigram    0.595030    Unigram  English    symbol_swap         0.25   \n",
       "518    Unigram    0.490713    Unigram  English    symbol_swap         0.50   \n",
       "525    Unigram    0.653614    Unigram  English  state_dropout         0.00   \n",
       "532    Unigram    0.705393    Unigram  English  state_dropout         0.25   \n",
       "539    Unigram    0.694077    Unigram  English  state_dropout         0.50   \n",
       "546    Unigram    0.554744    Unigram  Finnish    symbol_swap         0.00   \n",
       "553    Unigram    0.504262    Unigram  Finnish    symbol_swap         0.25   \n",
       "560    Unigram    0.404958    Unigram  Finnish    symbol_swap         0.50   \n",
       "567    Unigram    0.554744    Unigram  Finnish  state_dropout         0.00   \n",
       "574    Unigram    0.606983    Unigram  Finnish  state_dropout         0.25   \n",
       "581    Unigram    0.602688    Unigram  Finnish  state_dropout         0.50   \n",
       "\n",
       "     real_extrap_acc  \n",
       "504         0.346386  \n",
       "511         0.404970  \n",
       "518         0.509287  \n",
       "525         0.346386  \n",
       "532         0.294607  \n",
       "539         0.305923  \n",
       "546         0.445256  \n",
       "553         0.495738  \n",
       "560         0.595042  \n",
       "567         0.445256  \n",
       "574         0.393017  \n",
       "581         0.397312  "
      ]
     },
     "execution_count": 82,
     "metadata": {},
     "output_type": "execute_result"
    }
   ],
   "source": [
    "df"
   ]
  },
  {
   "cell_type": "code",
   "execution_count": null,
   "id": "charming-stress",
   "metadata": {},
   "outputs": [],
   "source": []
  }
 ],
 "metadata": {
  "kernelspec": {
   "display_name": "Python 3",
   "language": "python",
   "name": "python3"
  },
  "language_info": {
   "codemirror_mode": {
    "name": "ipython",
    "version": 3
   },
   "file_extension": ".py",
   "mimetype": "text/x-python",
   "name": "python",
   "nbconvert_exporter": "python",
   "pygments_lexer": "ipython3",
   "version": "3.8.2"
  }
 },
 "nbformat": 4,
 "nbformat_minor": 5
}
